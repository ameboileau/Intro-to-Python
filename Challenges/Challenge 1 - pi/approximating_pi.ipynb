{
 "cells": [
  {
   "cell_type": "code",
   "execution_count": null,
   "id": "8bff361e",
   "metadata": {},
   "outputs": [],
   "source": [
    "# Import list\n",
    "import numpy as np\n",
    "import matplotlib.pyplot as plt\n",
    "from tqdm import tqdm"
   ]
  },
  {
   "cell_type": "markdown",
   "id": "4b99355c",
   "metadata": {},
   "source": [
    "# Challenge \\#1: Approximating the value of $\\pi$"
   ]
  },
  {
   "cell_type": "markdown",
   "id": "c1458648",
   "metadata": {},
   "source": [
    "A very useful numpy function is the [numpy.random.random()](https://numpy.org/doc/stable/reference/random/generated/numpy.random.random.html) function. It allows you to simulate a random number in the half-open interval $[0, 1)$. Run the following cell a few times and see for yourself!"
   ]
  },
  {
   "cell_type": "code",
   "execution_count": null,
   "id": "b8749592",
   "metadata": {},
   "outputs": [],
   "source": [
    "import numpy as np\n",
    "\n",
    "np.random.random()"
   ]
  },
  {
   "cell_type": "markdown",
   "id": "eac16605",
   "metadata": {},
   "source": [
    "We will be applying a [Monte Carlo method](https://en.wikipedia.org/wiki/Monte_Carlo_method#:~:text=Monte%20Carlo%20methods%2C%20or%20Monte,might%20be%20deterministic%20in%20principle.), which consists in simulating a bunch of random numbers and performing calculations to obtain a specific output.\n",
    "\n",
    "In our case, consider the following: Our half-open np.random.random() interval allows us to simulate numbers between 0 and 1. If we imagine simulating a *pair* of numbers instead, then this pair is always located in the square bound by 0 and 1 on the x and y axes:\n",
    "\n",
    "<div>\n",
    "<img src=\"ex1.png\" width=\"500\"/>\n",
    "</div>"
   ]
  },
  {
   "cell_type": "markdown",
   "id": "f142be08",
   "metadata": {},
   "source": [
    "Now, imagine a circle of radius 1 centered at the origin. It intersects our square like this:\n",
    "\n",
    "<div>\n",
    "<img src=\"ex2.png\" width=\"500\"/>\n",
    "</div>"
   ]
  },
  {
   "cell_type": "markdown",
   "id": "91f8c487",
   "metadata": {},
   "source": [
    "This circle has a radius of 1, so it's area is:\n",
    "\n",
    "\\begin{equation}\n",
    "\\begin{split}\n",
    "A &= \\pi r^2 \\\\\n",
    "&= \\pi\n",
    "\\end{split}\n",
    "\\end{equation}\n",
    "\n",
    "However, we are only interested in the quarter-circle inscribed in the first quadrant, which has an area of\n",
    "\n",
    "\\begin{equation}\n",
    "A = \\frac{\\pi}{4}\n",
    "\\end{equation}\n",
    "\n",
    "On the other hand, the square inscribed in the first quadrant has an area of $1$.\n",
    "\n",
    "**Your task**: Generate $n$ random pairs of $x$ and $y$ values using np.random.random(). For each pair, determine whether the point is located *inside* the quarter-circle by considering the equation of a circle of radius 1:\n",
    "\n",
    "\\begin{equation}\n",
    "x^2 + y^2 = 1\n",
    "\\end{equation}\n",
    "\n",
    "The probability that a randomly generated point lies in the quarter-circle is simply equal to the area of the quarter-circle divided by the area of the square. In other words:\n",
    "\n",
    "\\begin{equation}\n",
    "\\begin{split}\n",
    "P &= \\frac{\\frac{\\pi}{4}}{1}\\\\\n",
    "&= \\frac{\\pi}{4}\n",
    "\\end{split}\n",
    "\\end{equation}\n",
    "\n",
    "However, this probability is **also equal** to the number of random points generated *inside* the quarter-circle divided by the *total* number of random points."
   ]
  },
  {
   "cell_type": "markdown",
   "id": "0018a73c",
   "metadata": {},
   "source": [
    "### In short:\n",
    "\n",
    "1) Generate $n$ random $x$ and $y$ pairs using np.random.random()\n",
    "\n",
    "2) Check to see if they are inside the quarter-circle by using $x^2 + y^2 \\leq 1$\n",
    "\n",
    "3) Calculate the ratio of number of points inside the quarter circle to total number of points\n",
    "\n",
    "4) Multiply this ratio by 4\n",
    "\n",
    "5) This is your estimate of $\\pi$!\n",
    "\n",
    "You should find that your estimate of $\\pi$ becomes more and more accurate as you increase the value of $n$.\n",
    "\n",
    "For the purposes of this exercises, your function should return your estimate of $\\pi$ **as well as** your random variables $x$ and $y$ calculated in step 1)."
   ]
  },
  {
   "cell_type": "code",
   "execution_count": null,
   "id": "9346f1c5",
   "metadata": {},
   "outputs": [],
   "source": [
    "def estimate_pi(n):\n",
    "    '''\n",
    "    Function description goes here\n",
    "    '''\n",
    "    \n",
    "    #\n",
    "    # Your code goes here\n",
    "    # Please make sure to return your estimate of pi as well as your random variables x and y\n",
    "    # Your return statement should look like this:\n",
    "    # return pi, x, y\n",
    "    #\n",
    "    \n",
    "# \n",
    "# Call your function here\n",
    "#"
   ]
  },
  {
   "cell_type": "code",
   "execution_count": null,
   "id": "ad0439c7",
   "metadata": {},
   "outputs": [],
   "source": [
    "# Run the cell below to visualize your answer!"
   ]
  },
  {
   "cell_type": "code",
   "execution_count": null,
   "id": "e971b644",
   "metadata": {},
   "outputs": [],
   "source": [
    "from tqdm import tqdm\n",
    "\n",
    "for i in tqdm(range(x.size)):\n",
    "    if x[i]**2 + y[i]**2 <= 1:\n",
    "        plt.scatter(x[i], y[i], color='red')\n",
    "    else:\n",
    "        plt.scatter(x[i], y[i], color='blue')\n",
    "        \n",
    "plt.title(\"Estimating $\\pi$ using a Monte Carlo method\"+\"\\nCurrent estimate: \"+str(pi))\n",
    "plt.xlabel(\"x\")\n",
    "plt.ylabel(\"y\")\n",
    "plt.show()"
   ]
  },
  {
   "cell_type": "code",
   "execution_count": null,
   "id": "13be828c",
   "metadata": {},
   "outputs": [],
   "source": []
  }
 ],
 "metadata": {
  "kernelspec": {
   "display_name": "Python 3 (ipykernel)",
   "language": "python",
   "name": "python3"
  },
  "language_info": {
   "codemirror_mode": {
    "name": "ipython",
    "version": 3
   },
   "file_extension": ".py",
   "mimetype": "text/x-python",
   "name": "python",
   "nbconvert_exporter": "python",
   "pygments_lexer": "ipython3",
   "version": "3.10.5"
  }
 },
 "nbformat": 4,
 "nbformat_minor": 5
}
