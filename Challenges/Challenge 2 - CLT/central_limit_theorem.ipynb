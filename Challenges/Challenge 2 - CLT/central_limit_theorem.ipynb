{
 "cells": [
  {
   "cell_type": "code",
   "execution_count": null,
   "id": "f884578d",
   "metadata": {},
   "outputs": [],
   "source": [
    "# Importing packages...\n",
    "import numpy as np\n",
    "import matplotlib.pyplot as plt"
   ]
  },
  {
   "cell_type": "markdown",
   "id": "ffb7e28a",
   "metadata": {},
   "source": [
    "# Challenge \\#2: Central Limit Theorem"
   ]
  },
  {
   "cell_type": "markdown",
   "id": "6585c3bd",
   "metadata": {},
   "source": [
    "The [Central Limit Theorem](https://en.wikipedia.org/wiki/Central_limit_theorem) is a theorem best explained as follows:\n",
    "\n",
    "Imagine one million random variables uniformly distributed on the interval between 0 and 1. If you plot a histogram for these variables, you would expect it to look relatively flat, since they are *uniformly* distributed. Such a histogram would look like this:\n",
    "\n",
    "<div>\n",
    "<img src=\"hist1.png\" width=\"500\"/>\n",
    "</div>"
   ]
  },
  {
   "cell_type": "markdown",
   "id": "51b70d0b",
   "metadata": {},
   "source": [
    "As mentioned, these are *uniformly* distributed, so if I overlay a Gaussian distribution on top, it doesn't match at all:\n",
    "\n",
    "<div>\n",
    "<img src=\"hist1p2.png\" width=\"500\"/>\n",
    "</div>"
   ]
  },
  {
   "cell_type": "markdown",
   "id": "03023051",
   "metadata": {},
   "source": [
    "Now, imagine randomly dividing these one million data points into **500,000 groups of 2**, and taking the mean of each group. You now have 500,000 data points. Plotting the histogram of these 500,000 data points yields:\n",
    "\n",
    "<div>\n",
    "<img src=\"hist2.png\" width=\"500\"/>\n",
    "</div>"
   ]
  },
  {
   "cell_type": "markdown",
   "id": "e606af41",
   "metadata": {},
   "source": [
    "This is starting to look surprisingly Gaussian! Let's again divide our 500,000 data points into **250,000 groups of 2**, and take the mean of each group. The resulting histogram is:\n",
    "\n",
    "<div>\n",
    "<img src=\"hist3.png\" width=\"500\"/>\n",
    "</div>"
   ]
  },
  {
   "cell_type": "markdown",
   "id": "9bee1a33",
   "metadata": {},
   "source": [
    "One more time, dividing our data into groups of 2, taking the mean of each group, and plotting the histogram:\n",
    "\n",
    "<div>\n",
    "<img src=\"hist4.png\" width=\"500\"/>\n",
    "</div>"
   ]
  },
  {
   "cell_type": "markdown",
   "id": "ad7c328b",
   "metadata": {},
   "source": [
    "As you can see, with each progressive \"slice\", our data becomes more and more Gaussian. That is the essence of the Central Limit Theorem, exactly defined as follows:\n",
    "\n",
    "<blockquote>In probability theory, the central limit theorem (CLT) establishes that, in many situations, when independent random variables are summed up, their properly normalized sum tends toward a normal distribution even if the original variables themselves are not normally distributed.</blockquote>"
   ]
  },
  {
   "cell_type": "markdown",
   "id": "913bd1d7",
   "metadata": {},
   "source": [
    "#### **Your task**: \n",
    "\n",
    "1) Simulate $n$ random data points using np.random.random(n); store these in a variable $x$\\\n",
    "2) Plot the histogram using plt.hist(x)\\\n",
    "3) Divide these data into groups of $m$\\\n",
    "4) Take the mean of each group\\\n",
    "5) You now have $n/m$ data points. Plot the histogram again\\\n",
    "6) Repeat this a few times until you see the Gaussian pattern appearing!"
   ]
  },
  {
   "cell_type": "code",
   "execution_count": null,
   "id": "c6c62aca",
   "metadata": {},
   "outputs": [],
   "source": [
    "n = ...\n",
    "x = ...\n",
    "plt.hist(x)\n",
    "plt.show()\n",
    "\n",
    "def group_mean(x, m):\n",
    "    \"\"\"\n",
    "    Function description goes here\n",
    "    \"\"\"\n",
    "    \n",
    "    #\n",
    "    # Your code goes here\n",
    "    #\n",
    "    \n",
    "#\n",
    "# Call your function here\n",
    "#   "
   ]
  },
  {
   "cell_type": "code",
   "execution_count": null,
   "id": "4bcacf62",
   "metadata": {},
   "outputs": [],
   "source": []
  }
 ],
 "metadata": {
  "kernelspec": {
   "display_name": "Python 3 (ipykernel)",
   "language": "python",
   "name": "python3"
  },
  "language_info": {
   "codemirror_mode": {
    "name": "ipython",
    "version": 3
   },
   "file_extension": ".py",
   "mimetype": "text/x-python",
   "name": "python",
   "nbconvert_exporter": "python",
   "pygments_lexer": "ipython3",
   "version": "3.10.5"
  }
 },
 "nbformat": 4,
 "nbformat_minor": 5
}
