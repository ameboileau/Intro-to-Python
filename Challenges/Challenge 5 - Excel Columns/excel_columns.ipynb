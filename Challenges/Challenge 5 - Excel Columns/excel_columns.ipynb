{
 "cells": [
  {
   "cell_type": "markdown",
   "id": "6b4ebcb0",
   "metadata": {},
   "source": [
    "# Challenge \\# 5: Excel Columns"
   ]
  },
  {
   "cell_type": "markdown",
   "id": "397ac7bd",
   "metadata": {},
   "source": [
    "Excel uses letters rather than numbers to label its columns. In certain circumstances, it may be useful to know what the label of the $i^{th}$ column is. Consider the following labelling rules:\n",
    "\n",
    "- The first 26 columns follow the letters of the alphabet: A, B, C, D, E, etc.\n",
    "- The next 26 columns follow the letters of the alphabet preceded by A: AA, AB, AC, AD, AE, etc.\n",
    "- The next 26 are preceded by the letter B: BA, BB, BC, BD, BE, etc.\n",
    "- And so on\n",
    "\n",
    "**Your task:** Write a function that takes in an integer $i$ and returns the corresponding Excel column label. You may wish to initialize an *alphabet* variable in which to store every letter of the alphabet. \n",
    "\n",
    "Note that $i$ should *start at 0* to respect programming conventions (i.e. get_excel_cols(0) should return \"A\").\n",
    "\n",
    "Please test your code for various integers ranging from 0 to 1000."
   ]
  },
  {
   "cell_type": "code",
   "execution_count": null,
   "id": "34b90f54",
   "metadata": {},
   "outputs": [],
   "source": [
    "def get_excel_cols(i):\n",
    "    \"\"\"\n",
    "    Function description goes here\n",
    "    \"\"\"\n",
    "    \n",
    "    alphabet = ...\n",
    "    \n",
    "    #\n",
    "    # Your code goes here\n",
    "    #\n",
    "    \n",
    "#\n",
    "# Test your function here\n",
    "#"
   ]
  },
  {
   "cell_type": "code",
   "execution_count": null,
   "id": "de824b11",
   "metadata": {},
   "outputs": [],
   "source": []
  }
 ],
 "metadata": {
  "kernelspec": {
   "display_name": "Python 3 (ipykernel)",
   "language": "python",
   "name": "python3"
  },
  "language_info": {
   "codemirror_mode": {
    "name": "ipython",
    "version": 3
   },
   "file_extension": ".py",
   "mimetype": "text/x-python",
   "name": "python",
   "nbconvert_exporter": "python",
   "pygments_lexer": "ipython3",
   "version": "3.10.5"
  }
 },
 "nbformat": 4,
 "nbformat_minor": 5
}
