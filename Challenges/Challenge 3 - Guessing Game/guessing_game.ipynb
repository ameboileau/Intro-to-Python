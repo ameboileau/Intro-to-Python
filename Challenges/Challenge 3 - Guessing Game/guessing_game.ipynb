{
 "cells": [
  {
   "cell_type": "code",
   "execution_count": 1,
   "id": "0f07369c",
   "metadata": {},
   "outputs": [],
   "source": [
    "# Importing packages...\n",
    "import numpy as np"
   ]
  },
  {
   "cell_type": "markdown",
   "id": "d6fd6fc6",
   "metadata": {},
   "source": [
    "# Challenge \\#3: The Guessing Game"
   ]
  },
  {
   "cell_type": "markdown",
   "id": "47068705",
   "metadata": {},
   "source": [
    "The built-in Python function 'input()' allows you to ask the user to input an answer. Run the cell below to see how it works:"
   ]
  },
  {
   "cell_type": "code",
   "execution_count": 2,
   "id": "af5931f0",
   "metadata": {},
   "outputs": [
    {
     "name": "stdout",
     "output_type": "stream",
     "text": [
      "Please enter an answer: jade\n",
      "jade\n"
     ]
    }
   ],
   "source": [
    "answer = input(\"Please enter an answer: \")\n",
    "\n",
    "print(answer)"
   ]
  },
  {
   "cell_type": "markdown",
   "id": "a6e37cd5",
   "metadata": {},
   "source": [
    "It is possible to embed the input function in a for loop or a while loop in order to ask the user for multiple answers:"
   ]
  },
  {
   "cell_type": "code",
   "execution_count": 3,
   "id": "2ba2ff99",
   "metadata": {
    "scrolled": true
   },
   "outputs": [
    {
     "name": "stdout",
     "output_type": "stream",
     "text": [
      "Please enter an answer: fgdf\n",
      "Round 0: fgdf \n",
      "\n",
      "Please enter an answer: dfgdfg\n",
      "Round 1: dfgdfg \n",
      "\n",
      "Please enter an answer: sdfsdf\n",
      "Round 2: sdfsdf \n",
      "\n",
      "Please enter an answer: dgff\n",
      "Round 3: dgff \n",
      "\n"
     ]
    }
   ],
   "source": [
    "for i in range(4):\n",
    "\n",
    "    answer = input(\"Please enter an answer: \")\n",
    "    print(f\"Round {i}: {answer} \\n\")"
   ]
  },
  {
   "cell_type": "markdown",
   "id": "99ca66a8",
   "metadata": {},
   "source": [
    "The input function always returns a string, even if the user enters an integer or a float. Run the following cell and enter an integer:"
   ]
  },
  {
   "cell_type": "code",
   "execution_count": 4,
   "id": "972f76a0",
   "metadata": {},
   "outputs": [
    {
     "name": "stdout",
     "output_type": "stream",
     "text": [
      "Enter an integer here: 10\n",
      "<class 'str'>\n"
     ]
    }
   ],
   "source": [
    "value = input(\"Enter an integer here: \")\n",
    "\n",
    "print(type(value))"
   ]
  },
  {
   "cell_type": "markdown",
   "id": "8a317a12",
   "metadata": {},
   "source": [
    "It is possible to transform a string into an integer by using the 'int()' function, like this:"
   ]
  },
  {
   "cell_type": "code",
   "execution_count": 5,
   "id": "f76c7eac",
   "metadata": {},
   "outputs": [
    {
     "name": "stdout",
     "output_type": "stream",
     "text": [
      "Enter an integer here: 10\n",
      "<class 'int'>\n"
     ]
    }
   ],
   "source": [
    "value = int(input(\"Enter an integer here: \"))\n",
    "\n",
    "print(type(value))"
   ]
  },
  {
   "cell_type": "markdown",
   "id": "5f17a84a",
   "metadata": {},
   "source": [
    "### **Your task**:\n",
    "\n",
    "Initialize a random \"mystery number\" between 0 and 100 using numpy's [random.randint](https://numpy.org/doc/stable/reference/random/generated/numpy.random.randint.html) function. This function works as follows:"
   ]
  },
  {
   "cell_type": "code",
   "execution_count": 12,
   "id": "4742b67b",
   "metadata": {},
   "outputs": [
    {
     "data": {
      "text/plain": [
       "43"
      ]
     },
     "execution_count": 12,
     "metadata": {},
     "output_type": "execute_result"
    }
   ],
   "source": [
    "np.random.randint(0,100)"
   ]
  },
  {
   "cell_type": "markdown",
   "id": "f5692fb0",
   "metadata": {},
   "source": [
    "Using the input statement in combination with a while loop, write a program that repeatedly asks the user to guess what the mystery number is.\n",
    "\n",
    "- If the user's guess is below the mystery number, print \"Your guess is too small\"\n",
    "- If the user's guess is above the mystery number, print \"Your guess is too large\"\n",
    "- If the user guesses correctly, print \"Correct!\""
   ]
  },
  {
   "cell_type": "code",
   "execution_count": null,
   "id": "74f5ad83",
   "metadata": {},
   "outputs": [],
   "source": [
    "mystery_number = ...\n",
    "\n",
    "#\n",
    "# Your code goes here\n",
    "#"
   ]
  },
  {
   "cell_type": "code",
   "execution_count": null,
   "id": "9f6aaf3f",
   "metadata": {},
   "outputs": [],
   "source": []
  }
 ],
 "metadata": {
  "kernelspec": {
   "display_name": "Python 3 (ipykernel)",
   "language": "python",
   "name": "python3"
  },
  "language_info": {
   "codemirror_mode": {
    "name": "ipython",
    "version": 3
   },
   "file_extension": ".py",
   "mimetype": "text/x-python",
   "name": "python",
   "nbconvert_exporter": "python",
   "pygments_lexer": "ipython3",
   "version": "3.10.5"
  }
 },
 "nbformat": 4,
 "nbformat_minor": 5
}
