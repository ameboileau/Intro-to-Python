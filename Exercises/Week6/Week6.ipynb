{
 "cells": [
  {
   "cell_type": "code",
   "execution_count": null,
   "id": "b03a8d04",
   "metadata": {},
   "outputs": [],
   "source": [
    "# Import list...\n",
    "import pandas as pd\n",
    "import numpy as np"
   ]
  },
  {
   "cell_type": "markdown",
   "id": "639678d5",
   "metadata": {},
   "source": [
    "# Week 6: pandas and file import/export"
   ]
  },
  {
   "cell_type": "markdown",
   "id": "6e101dde",
   "metadata": {},
   "source": [
    "## Exercise 1: Songs\n",
    "\n",
    "### (a)\n",
    "\n",
    "Initialize a DataFrame object containing information about songs. Your DataFrame should include the following columns:\n",
    "\n",
    "- Band name\n",
    "- Song name\n",
    "\n",
    "You don't need to specify row names. When you don't specify row names, pandas automatically indexes using integers starting from zero."
   ]
  },
  {
   "cell_type": "code",
   "execution_count": null,
   "id": "0d1b6958",
   "metadata": {},
   "outputs": [],
   "source": [
    "songs = [...]\n",
    "\n",
    "song_df = pd.DataFrame(\n",
    "    data = ...,\n",
    "    columns = ...,\n",
    ")"
   ]
  },
  {
   "cell_type": "markdown",
   "id": "976362cb",
   "metadata": {},
   "source": [
    "### (b)\n",
    "\n",
    "Now, let's add a column indicating how we rate each song on a scale of 1 to 10"
   ]
  },
  {
   "cell_type": "code",
   "execution_count": null,
   "id": "100c781f",
   "metadata": {},
   "outputs": [],
   "source": [
    "#\n",
    "# Your code goes here\n",
    "#"
   ]
  },
  {
   "cell_type": "markdown",
   "id": "b99cfe2e",
   "metadata": {},
   "source": [
    "### (c)\n",
    "\n",
    "Next, let's add a few more songs (i.e. add a few more rows)"
   ]
  },
  {
   "cell_type": "code",
   "execution_count": null,
   "id": "60b285ab",
   "metadata": {},
   "outputs": [],
   "source": [
    "#\n",
    "# Your code goes here\n",
    "#"
   ]
  },
  {
   "cell_type": "markdown",
   "id": "e49a5dd6",
   "metadata": {},
   "source": [
    "### (d)\n",
    "\n",
    "Finally, we want to index this DataFrame by song name (instead of by the default integers starting at 0)"
   ]
  },
  {
   "cell_type": "code",
   "execution_count": null,
   "id": "23b3cf3f",
   "metadata": {},
   "outputs": [],
   "source": [
    "#\n",
    "# Your code goes here\n",
    "#"
   ]
  },
  {
   "cell_type": "markdown",
   "id": "80c99f17",
   "metadata": {},
   "source": [
    "## Exercise 2: Colours\n",
    "\n",
    "### (a)\n",
    "\n",
    "Initialize a DataFrame with rows and colours corresponding to a few of your favourite colours. At the intersection between a row and a column, write the colour corresponding to the mix between these two colours. For example, we might have something like this:\n",
    "\n",
    "|| Red | Blue | Yellow |\n",
    "| :-: | :-: | :-: | :-: |\n",
    "| Red | Red | Purple | Orange |\n",
    "| Blue | Purple | Blue | Green |\n",
    "| Yellow | Orange | Green | Yellow |"
   ]
  },
  {
   "cell_type": "code",
   "execution_count": null,
   "id": "c62d0ad4",
   "metadata": {},
   "outputs": [],
   "source": [
    "colours = ...\n",
    "\n",
    "colour_df = pd.DataFrame(\n",
    "    data = ...\n",
    "    columns = ...\n",
    "    index = ...\n",
    ")"
   ]
  },
  {
   "cell_type": "markdown",
   "id": "1bd25aa3",
   "metadata": {},
   "source": [
    "### (b)\n",
    "\n",
    "Add an extra colour to your DataFrame (i.e. add an extra row and column). Notice that since your table is perfectly *diagonal*, rows and columns for the same colour should be *identical*."
   ]
  },
  {
   "cell_type": "code",
   "execution_count": null,
   "id": "3ec95be8",
   "metadata": {},
   "outputs": [],
   "source": [
    "#\n",
    "# Your code goes here\n",
    "#"
   ]
  },
  {
   "cell_type": "markdown",
   "id": "53c0f516",
   "metadata": {},
   "source": [
    "## Exercise 3: Budgeting\n",
    "\n",
    "### (a)\n",
    "\n",
    "Initialize a DataFrame containing a single column detailing your monthly expenses in the following categories:\n",
    "\n",
    "- Rent\n",
    "- Utilities\n",
    "- Groceries\n",
    "- Other necessities\n",
    "- Entertainment\n",
    "\n",
    "Your DataFrame should be indexed using those categories."
   ]
  },
  {
   "cell_type": "code",
   "execution_count": null,
   "id": "4a246abc",
   "metadata": {},
   "outputs": [],
   "source": [
    "#\n",
    "# Your code goes here\n",
    "#"
   ]
  },
  {
   "cell_type": "markdown",
   "id": "86830249",
   "metadata": {},
   "source": [
    "### (b)\n",
    "\n",
    "Add an extra row containing your *total* monthly expenses. This row should simply be called \"Total\".\n",
    "\n",
    "Hint: The $\\texttt{numpy.sum(array)}$ function is used to calculate the sum of an array."
   ]
  },
  {
   "cell_type": "code",
   "execution_count": null,
   "id": "f886786f",
   "metadata": {},
   "outputs": [],
   "source": [
    "#\n",
    "# Your code goes here\n",
    "#"
   ]
  },
  {
   "cell_type": "markdown",
   "id": "42ded595",
   "metadata": {},
   "source": [
    "### (c)\n",
    "\n",
    "Add an extra column that shows the percentage of your total expenses attributed to each category (i.e. %groceries, %rent, etc.)"
   ]
  },
  {
   "cell_type": "code",
   "execution_count": null,
   "id": "210535b9",
   "metadata": {},
   "outputs": [],
   "source": [
    "#\n",
    "# Your code goes here\n",
    "#"
   ]
  },
  {
   "cell_type": "markdown",
   "id": "50f3706e",
   "metadata": {},
   "source": [
    "## Exercise 4: Library\n",
    "\n",
    "I've uploaded a collection of books and written works called \"books.xlsx\". This workbook contains the following information for a great number of written works:\n",
    "\n",
    "- Title\n",
    "- Author\n",
    "- Genre\n",
    "- Original Language\n",
    "- Publication Year\n",
    "\n",
    "Let's go ahead and import it using $\\texttt{pandas.read_excel(filename)}$ and view the contents via a $\\texttt{print}$ statement"
   ]
  },
  {
   "cell_type": "code",
   "execution_count": null,
   "id": "994e1e9c",
   "metadata": {},
   "outputs": [],
   "source": [
    "#\n",
    "# Your code goes here\n",
    "#"
   ]
  },
  {
   "cell_type": "markdown",
   "id": "b4f1bf9a",
   "metadata": {},
   "source": [
    "### (a)\n",
    "\n",
    "As you can see, there are a lot of books on there! In order to facilitate the consumption of this data, we will write the following functions:\n",
    "\n",
    "- Function to return all books written by the same author\n",
    "- Function to return all books of the same genre\n",
    "- Function to return all books in the same language\n",
    "- Function to return all books written before/after a given year"
   ]
  },
  {
   "cell_type": "code",
   "execution_count": null,
   "id": "7e4dd836",
   "metadata": {},
   "outputs": [],
   "source": [
    "#\n",
    "# Your code goes here\n",
    "#"
   ]
  },
  {
   "cell_type": "markdown",
   "id": "9acee297",
   "metadata": {},
   "source": [
    "### (b)\n",
    "\n",
    "Using the functions you wrote above, write a function that calculates the percentage of books written by a specific author, or in a specific genre, or in a specific language, or before/after a specific year.\n",
    "\n",
    "Don't be afraid to get creative with your function variables! Hint: use default variables!"
   ]
  },
  {
   "cell_type": "code",
   "execution_count": null,
   "id": "f7590cdf",
   "metadata": {},
   "outputs": [],
   "source": [
    "#\n",
    "# Your code goes here\n",
    "#"
   ]
  },
  {
   "cell_type": "markdown",
   "id": "58cb5d97",
   "metadata": {},
   "source": [
    "## Exercise 5: MSF Distribution\n",
    "\n",
    "I've uploaded a file called \"Performance Allocation 2021-01.xlsx\" containing the HedgeServ performance allocation breakdown by series for the MSF fund in January 2021. Let's open it up using $\\texttt{pandas.read_excel(filename)}$ and look at it using a $\\texttt{print}$ statement."
   ]
  },
  {
   "cell_type": "code",
   "execution_count": null,
   "id": "39ccc552",
   "metadata": {},
   "outputs": [],
   "source": [
    "#\n",
    "# Your code goes here\n",
    "#"
   ]
  },
  {
   "cell_type": "markdown",
   "id": "910279f2",
   "metadata": {},
   "source": [
    "### (a)\n",
    "\n",
    "The first thing we want to do is obtain the HedgeServ *Unique ID* for each series, and index our dataframe using this ID. This is done by combining the \"Investor ID\", \"CCY\", \"Class*\", and \"SR/PI Name*\" columns (in this order)."
   ]
  },
  {
   "cell_type": "code",
   "execution_count": null,
   "id": "4d0b1bf0",
   "metadata": {},
   "outputs": [],
   "source": [
    "#\n",
    "# Your code goes here\n",
    "#"
   ]
  },
  {
   "cell_type": "markdown",
   "id": "f6bfbab4",
   "metadata": {},
   "source": [
    "### (b)\n",
    "\n",
    "Next, we'll add an extra column containing the Net Asset Value by combining the \"End Gross Capital(Base)*\" and \"Incentive Crystallized T\" columns."
   ]
  },
  {
   "cell_type": "code",
   "execution_count": null,
   "id": "6f85266c",
   "metadata": {},
   "outputs": [],
   "source": [
    "#\n",
    "# Your code goes here\n",
    "#"
   ]
  },
  {
   "cell_type": "markdown",
   "id": "3bda9176",
   "metadata": {},
   "source": [
    "### (c)\n",
    "\n",
    "We'll add a column containing the Investor Specific Expenses/Perf allocation via the following calculation:\n",
    "\n",
    "- Obtain the management fees at the \"Management Fees (Base)\"\n",
    "- Add provincial and federal taxes\n",
    "- Add the crystallized perf allocations at the \"Incentive Crystallized T\" column"
   ]
  },
  {
   "cell_type": "code",
   "execution_count": null,
   "id": "b149d944",
   "metadata": {},
   "outputs": [],
   "source": [
    "#\n",
    "# Your code goes here\n",
    "#"
   ]
  },
  {
   "cell_type": "markdown",
   "id": "f2150167",
   "metadata": {},
   "source": [
    "### (d)\n",
    "\n",
    "Finally, we'll add a Percent Allocation column by dividing the Net Asset Value column (calculated in (b)) by the total NAV\n",
    "\n",
    "Hint: Use the $\\texttt{numpy.sum(array)}$ function"
   ]
  },
  {
   "cell_type": "code",
   "execution_count": null,
   "id": "03321364",
   "metadata": {},
   "outputs": [],
   "source": [
    "#\n",
    "# Your code goes here\n",
    "#"
   ]
  },
  {
   "cell_type": "markdown",
   "id": "50d8e881",
   "metadata": {},
   "source": [
    "### (e)\n",
    "\n",
    "We're done our calculations for now, so let's publish them in an Excel file titled \"Reviewed Perf Allocations.xlsx\""
   ]
  },
  {
   "cell_type": "code",
   "execution_count": null,
   "id": "09a07e74",
   "metadata": {},
   "outputs": [],
   "source": [
    "#\n",
    "# Your code goes here\n",
    "#"
   ]
  },
  {
   "cell_type": "markdown",
   "id": "cb9cc26a",
   "metadata": {},
   "source": [
    "## Exercise 6: MSF Validation\n",
    "\n",
    "### (a)\n",
    "\n",
    "I've also uploaded a file called \"Performance Allocation 2021-02.xlsx\" containing the MSF perf allocation breakdown by series for February 2021. Let's open it and index it by Unique ID as we did for the January file."
   ]
  },
  {
   "cell_type": "code",
   "execution_count": null,
   "id": "1ca45301",
   "metadata": {},
   "outputs": [],
   "source": [
    "#\n",
    "# Your code goes here\n",
    "#"
   ]
  },
  {
   "cell_type": "markdown",
   "id": "99ae98df",
   "metadata": {},
   "source": [
    "### (b)\n",
    "\n",
    "An important validation step is ensuring that each \"previous month\" column in the February file matches with the corresponding \"current month\" column in the January file. Let's validate the following columns by subtracting them from one-another:\n",
    "\n",
    "January columns:\n",
    "- End Net Capital(Base)*\n",
    "- Ending Shares (if Ltd Fund)*\n",
    "- Incentive Accrual (Base)\n",
    "\n",
    "Corresponding February columns:\n",
    "- Prior Net Capital(Base)*\n",
    "- Prior Shares (if Ltd Fund)*\n",
    "- Incentive Cfwd (Base)*\n",
    "\n",
    "Hint: For each pair of columns, initialize a *new* DataFrame containing the Jan column, the Feb column, and the difference between the two."
   ]
  },
  {
   "cell_type": "code",
   "execution_count": null,
   "id": "158dea69",
   "metadata": {},
   "outputs": [],
   "source": [
    "#\n",
    "# Your code goes here\n",
    "#"
   ]
  },
  {
   "cell_type": "markdown",
   "id": "3a13ef85",
   "metadata": {},
   "source": [
    "### (c)\n",
    "\n",
    "Once again, we want to publish our results. But we now have *three* dataframes, which, if we use the df.to_excel(filename) method, would result in *three* separate Excel files. Not optimal.\n",
    "\n",
    "Let's combine these three DataFrames using the $\\texttt{pandas.concat([df1, df2])}$ method. By default, this concatenates dataframes df1 and df2 along the *rows*, which means they will appear one on top of the other. To have them appear side-by-side, we must specify the axis using the following syntax:\n",
    "\n",
    "$\\texttt{pandas.concat([df1, df2], axis=1)}$"
   ]
  },
  {
   "cell_type": "code",
   "execution_count": null,
   "id": "7d6701c6",
   "metadata": {},
   "outputs": [],
   "source": [
    "#\n",
    "# Your code goes here\n",
    "#"
   ]
  },
  {
   "cell_type": "code",
   "execution_count": null,
   "id": "8a6c62d6",
   "metadata": {},
   "outputs": [],
   "source": []
  }
 ],
 "metadata": {
  "kernelspec": {
   "display_name": "Python 3 (ipykernel)",
   "language": "python",
   "name": "python3"
  },
  "language_info": {
   "codemirror_mode": {
    "name": "ipython",
    "version": 3
   },
   "file_extension": ".py",
   "mimetype": "text/x-python",
   "name": "python",
   "nbconvert_exporter": "python",
   "pygments_lexer": "ipython3",
   "version": "3.10.5"
  }
 },
 "nbformat": 4,
 "nbformat_minor": 5
}
