{
 "cells": [
  {
   "cell_type": "markdown",
   "id": "fe56a2ff",
   "metadata": {},
   "source": [
    "# Week 4: Functions and Packages"
   ]
  },
  {
   "cell_type": "markdown",
   "id": "0f6b1425",
   "metadata": {},
   "source": [
    "### Exercise 1:\n",
    "\n",
    "An object's weight is given by the following equation:\n",
    "\n",
    "\\begin{equation}\n",
    "W = mg,\n",
    "\\end{equation}\n",
    "\n",
    "where $W$ is the weight (in Newtons), $m$ is the mass (in kg) and $g$ is the gravitational acceleration (in N/kg). Write a function that takes in variables m and g and calculates an object's weight.\n",
    "\n",
    "*(On Earth, the gravitational acceleration has a value of 9.8 N/kg)*"
   ]
  },
  {
   "cell_type": "code",
   "execution_count": null,
   "id": "387c1868",
   "metadata": {},
   "outputs": [],
   "source": [
    "def weight(m, g):\n",
    "    '''\n",
    "    Function description goes here\n",
    "    '''\n",
    "    \n",
    "    # \n",
    "    # Your code goes here\n",
    "    #\n",
    "    \n",
    "    \n",
    "#\n",
    "# Call the function here\n",
    "#\n",
    "    \n",
    "print(weight.__doc__)  # print out the function description"
   ]
  },
  {
   "cell_type": "markdown",
   "id": "b47c76f5",
   "metadata": {},
   "source": [
    "### Exercise 2:\n",
    "\n",
    "In Exercise 1, we calculated an object's weight in Newtons given their mass in kg and the gravitational acceleration on Earth. However, people don't generally know or care about Newtons, so let's write a function that converts Newtons to pounds using the fact that $1N = 0.224809 lbs$. Your function should take as input the weight in Newtons."
   ]
  },
  {
   "cell_type": "code",
   "execution_count": null,
   "id": "0c61687d",
   "metadata": {},
   "outputs": [],
   "source": [
    "def convert_n_to_lbs(w):\n",
    "    '''\n",
    "    Function description goes here\n",
    "    '''\n",
    "    \n",
    "    # \n",
    "    # Your code goes here\n",
    "    #\n",
    "    \n",
    "#\n",
    "# Call your function here\n",
    "#"
   ]
  },
  {
   "cell_type": "markdown",
   "id": "9992f2cc",
   "metadata": {},
   "source": [
    "### Exercise 3:\n",
    "\n",
    "You buy a house for $L$ dollars, for which you obviously need a mortgage. Your mortgage interest rate is $r$ and the amortization period is $n$ months. You will be paying your mortgage monthly. We'll use the following simplified model to compute the fixed monthly payment ($P$) required to fully amortize this loan:\n",
    "\n",
    "\\begin{equation}\n",
    "P = L \\frac{c(1+c)^n}{(1+c)^n - 1},\n",
    "\\end{equation}\n",
    "\n",
    "where $c$ is the *monthly* interest rate ($c = r/12$).\n",
    "\n",
    "Your task: Write a function that calculates the fixed monthly payment ($P$) given $L$, $r$, and $n$."
   ]
  },
  {
   "cell_type": "code",
   "execution_count": null,
   "id": "fc0c7caa",
   "metadata": {},
   "outputs": [],
   "source": [
    "def fixed_payment(L, r, n):\n",
    "    '''\n",
    "    Function description goes here\n",
    "    '''\n",
    "    \n",
    "    #\n",
    "    # Your code goes here\n",
    "    #\n",
    "    \n",
    "#\n",
    "# Call the function here\n",
    "#"
   ]
  },
  {
   "cell_type": "markdown",
   "id": "727c6774",
   "metadata": {},
   "source": [
    "### Exercise 4:\n",
    "\n",
    "Given an annual taxable income of $x$ dollars, calculate the amount of Canadian federal taxes paid by this individual using the following [simplified model](https://www.canada.ca/en/revenue-agency/services/tax/individuals/frequently-asked-questions-individuals/canadian-income-tax-rates-individuals-current-previous-years.html):\n",
    "\n",
    "- 15\\% on the first $50,197 of taxable income, plus\n",
    "\n",
    "- 20.5\\% on the next $50,195 of taxable income, plus\n",
    "\n",
    "- 26\\% on the next $55,233 of taxable income, plus\n",
    "\n",
    "- 29\\% on the next $66,083 of taxable income, plus\n",
    "\n",
    "- 33\\% of taxable income over $221,708"
   ]
  },
  {
   "cell_type": "code",
   "execution_count": null,
   "id": "7f63f114",
   "metadata": {},
   "outputs": [],
   "source": [
    "def federal_taxes(x):\n",
    "    '''\n",
    "    Function desription goes here\n",
    "    '''\n",
    "    \n",
    "    #\n",
    "    # Your code goes here\n",
    "    #\n",
    "    \n",
    "#\n",
    "# Call your function here\n",
    "#"
   ]
  },
  {
   "cell_type": "markdown",
   "id": "63c80c8b",
   "metadata": {},
   "source": [
    "### Exercise 5:\n",
    "\n",
    "Write a function that takes as input an array of $x$ values, a parameter $\\sigma$, and a parameter $\\mu$, and returns the following $y$ values:\n",
    "\n",
    "$$\n",
    "y = \\frac{1}{\\sqrt{2 \\pi \\sigma^2}} \\exp\\left(-\\frac{(x - \\mu)^2}{2 \\sigma^2}\\right)\n",
    "$$\n",
    "\n",
    "where $\\exp(x)$ is the natural exponential function $e^x$ (with $e$ being [Euler's number](https://en.wikipedia.org/wiki/E_(mathematical_constant))).\n",
    "\n",
    "This function is called the [Gaussian (or Normal) distribution](https://en.wikipedia.org/wiki/Normal_distribution)."
   ]
  },
  {
   "cell_type": "code",
   "execution_count": null,
   "id": "d1232227",
   "metadata": {},
   "outputs": [],
   "source": [
    "#\n",
    "# Import numpy here\n",
    "#"
   ]
  },
  {
   "cell_type": "code",
   "execution_count": null,
   "id": "3ab4e31e",
   "metadata": {},
   "outputs": [],
   "source": [
    "def gaussian(x, sigma, mu):\n",
    "    '''\n",
    "    Function description here\n",
    "    '''\n",
    "    \n",
    "    #\n",
    "    # Your code goes here\n",
    "    #\n",
    "    \n",
    "sigma = ...\n",
    "mu = ...\n",
    "x = ...\n",
    "    \n",
    "#\n",
    "# Call the function here -- make sure to use the variable 'y' to store the function output!\n",
    "#"
   ]
  },
  {
   "cell_type": "code",
   "execution_count": null,
   "id": "770999dc",
   "metadata": {},
   "outputs": [],
   "source": [
    "# Run the following cell to see what your function looks like in a graph!"
   ]
  },
  {
   "cell_type": "code",
   "execution_count": null,
   "id": "ab1a6a7d",
   "metadata": {},
   "outputs": [],
   "source": [
    "import matplotlib.pyplot as plt\n",
    "\n",
    "plt.plot(x, y, color='blue')\n",
    "plt.title(r\"Gaussian Distribution for $\\mu$=\"+str(mu)+r\" and $\\sigma$=\"+str(sigma), y=1.03)\n",
    "plt.axvline(mu, color='red')\n",
    "plt.grid()\n",
    "plt.show()"
   ]
  },
  {
   "cell_type": "markdown",
   "id": "28e03453",
   "metadata": {},
   "source": [
    "### Exercise 6:\n",
    "\n",
    "Given an array of random x values, we will calculate several statistics, including...\n",
    "\n",
    "- the mean\n",
    "- the median\n",
    "- the standard deviation\n",
    "- the variance"
   ]
  },
  {
   "cell_type": "code",
   "execution_count": null,
   "id": "64b512b6",
   "metadata": {},
   "outputs": [],
   "source": [
    "# \n",
    "# Your code goes here\n",
    "#"
   ]
  },
  {
   "cell_type": "markdown",
   "id": "d0786ee3",
   "metadata": {},
   "source": [
    "### Exercise 7:\n",
    "\n",
    "Conservation of energy states that an object's total energy must be conserved at all times. Consider the total mechanical energy of an object:\n",
    "\n",
    "\\begin{equation}\n",
    "E = K + U\n",
    "\\end{equation}\n",
    "\n",
    "where $K$ is the object's kinetic energy, and $U$ its potential energy. The kinetic energy is given by:\n",
    "\n",
    "\\begin{equation}\n",
    "K = \\frac{1}{2} m v^2,\n",
    "\\end{equation}\n",
    "\n",
    "where $m$ is the object's mass (kg) and $v$ is its velocity (m/s). $E$, $K$, and $U$ are all measured in Joules (J).\n",
    "\n",
    "**Your task**: You are given the following:\n",
    "\n",
    "- The object's total energy $E$\n",
    "- The object's potential energy at several points in time\n",
    "\n",
    "Write a function to calculate that object's velocity at those times for a given mass $m$.\n"
   ]
  },
  {
   "cell_type": "code",
   "execution_count": null,
   "id": "d56d7974",
   "metadata": {},
   "outputs": [],
   "source": [
    "E = 1000\n",
    "U = np.array([1000, 900, 700, 450, 200, 0])\n",
    "\n",
    "def velocity(E, U, m):\n",
    "    '''\n",
    "    Function description goes here\n",
    "    '''\n",
    "    \n",
    "    #\n",
    "    # Your code goes here\n",
    "    #\n",
    "    \n",
    "#\n",
    "# Call your function here\n",
    "#"
   ]
  },
  {
   "cell_type": "code",
   "execution_count": null,
   "id": "c38a5d61",
   "metadata": {},
   "outputs": [],
   "source": []
  }
 ],
 "metadata": {
  "kernelspec": {
   "display_name": "Python 3 (ipykernel)",
   "language": "python",
   "name": "python3"
  },
  "language_info": {
   "codemirror_mode": {
    "name": "ipython",
    "version": 3
   },
   "file_extension": ".py",
   "mimetype": "text/x-python",
   "name": "python",
   "nbconvert_exporter": "python",
   "pygments_lexer": "ipython3",
   "version": "3.10.5"
  }
 },
 "nbformat": 4,
 "nbformat_minor": 5
}
