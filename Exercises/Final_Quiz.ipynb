{
 "cells": [
  {
   "cell_type": "code",
   "execution_count": null,
   "id": "6197d4f4",
   "metadata": {},
   "outputs": [],
   "source": [
    "# Import list\n",
    "\n",
    "import numpy as np\n",
    "import pandas as pd"
   ]
  },
  {
   "cell_type": "markdown",
   "id": "9ff14b9a",
   "metadata": {},
   "source": [
    "# Introduction to Python\n",
    "## Final Week!\n",
    "\n",
    "We'll practice the skills we've learned these past 10 weeks by completing a short quiz. After completing all the questions, you will need to *add*, *commit*, and *push* it to your remote GitHub repo so that the instructor can take a look and give some feedback!\n",
    "\n",
    "Good luck, and thank you for a great summer! :)"
   ]
  },
  {
   "cell_type": "markdown",
   "id": "6e50412d",
   "metadata": {},
   "source": [
    "## Question 1:\n",
    "\n",
    "### (a)\n",
    "\n",
    "Initialize a DataFrame containing two columns:\n",
    "\n",
    "- Movie title\n",
    "- Your score out of 10\n",
    "\n",
    "Your DataFrame should look like this:\n",
    "\n",
    "|| Title | Score |\n",
    "| :-: | :-: | :-: |\n",
    "| 0 | Lord of the Rings: Fellowship of the Ring | 10 |\n",
    "| 1 | Avengers: End Game | 8.5 |\n",
    "| 2 | Inception | 10 |\n",
    "| 3 | Morbius | 3 |\n",
    "\n",
    "I will provide the code \"skeleton\" for this question; just fill in the rest!"
   ]
  },
  {
   "cell_type": "code",
   "execution_count": null,
   "id": "7c0c4f3e",
   "metadata": {},
   "outputs": [],
   "source": [
    "df = pd.DataFrame(...)"
   ]
  },
  {
   "cell_type": "markdown",
   "id": "58a55789",
   "metadata": {},
   "source": [
    "### (b)\n",
    "\n",
    "Write a piece of code that prints out the average score for all the movies in your DataFrame. (Hint: Use the numpy.mean function!)"
   ]
  },
  {
   "cell_type": "code",
   "execution_count": 3,
   "id": "ab13cc55",
   "metadata": {},
   "outputs": [],
   "source": [
    "#\n",
    "# Your code goes here\n",
    "#"
   ]
  },
  {
   "cell_type": "markdown",
   "id": "c1ab2727",
   "metadata": {},
   "source": [
    "### (c)\n",
    "\n",
    "Write a piece of code that returns the title of the movie with the lowest score in your DataFrame. If there's a tie for lowest score, return all the movies with that score. For the example I gave above, the code would simply return \"Morbius\". (Hint: Use the built-in function min() to find the lowest score!)"
   ]
  },
  {
   "cell_type": "code",
   "execution_count": 5,
   "id": "ee28b054",
   "metadata": {},
   "outputs": [],
   "source": [
    "#\n",
    "# Your code goes here\n",
    "#"
   ]
  },
  {
   "cell_type": "markdown",
   "id": "12ca1744",
   "metadata": {},
   "source": [
    "## Question 2\n",
    "\n",
    "Write a function that takes as input a positive integer $n$. The function should return \"Even\" if the integer is even, and \"Odd\" if the integer is odd. (Hint: The % operator returns the *remainder* of a division. An even number divided by 2 should have no remainder!)\n",
    "\n",
    "I provide the code \"skeleton\"; please fill in the details!"
   ]
  },
  {
   "cell_type": "code",
   "execution_count": 6,
   "id": "7df45b42",
   "metadata": {},
   "outputs": [],
   "source": [
    "def even_or_odd(n):\n",
    "    \"\"\"\n",
    "    Function description goes here\n",
    "    \"\"\"\n",
    "    #\n",
    "    # Your code goes here\n",
    "    #\n",
    "    \n",
    "#\n",
    "# Test your function here\n",
    "#"
   ]
  },
  {
   "cell_type": "markdown",
   "id": "d3ffc8e0",
   "metadata": {},
   "source": [
    "## Question 3\n",
    "\n",
    "Write a function that takes as input a string $s$ containing two or more characters. The function should invert the first two characters of the string. For example, an input of \"hello\" should return \"ehllo\".\n",
    "\n",
    "I provide the code \"skeleton\"; please fill it in!"
   ]
  },
  {
   "cell_type": "code",
   "execution_count": 7,
   "id": "f45dc25a",
   "metadata": {},
   "outputs": [],
   "source": [
    "def invert_chars(s):\n",
    "    \"\"\"\n",
    "    Function description goes here\n",
    "    \"\"\"\n",
    "    #\n",
    "    # Your code goes here\n",
    "    #\n",
    "    \n",
    "#\n",
    "# Test your function here\n",
    "#"
   ]
  },
  {
   "cell_type": "markdown",
   "id": "747539f0",
   "metadata": {},
   "source": [
    "## Question 4\n",
    "\n",
    "Write a function that takes as input two lists $l_1$ and $l_2$ and combines them into a single list. For example, an input of [1, 2, 3] and [4, 5, 6] should return [1, 2, 3, 4, 5, 6]. I won't provide the code skeleton this time, please initialize the function by yourself using the appropriate syntax (refer to the above code skeletons if you don't remember). Remember that this function requires *two* inputs, so include these in the function definition!"
   ]
  },
  {
   "cell_type": "code",
   "execution_count": null,
   "id": "66d4cb5a",
   "metadata": {},
   "outputs": [],
   "source": [
    "#\n",
    "# Your code goes here\n",
    "#"
   ]
  },
  {
   "cell_type": "markdown",
   "id": "36dac3c7",
   "metadata": {},
   "source": [
    "## Question 5\n",
    "\n",
    "Initialize a numpy array of numbers of your choosing. Print out the following...\n",
    "\n",
    "- The sum of the array (Hint: Use the numpy.sum function)\n",
    "- The mean of the array (Hint: Use the numpy.mean function)\n",
    "- The array multiplied by 5\n",
    "- The array divided by 5\n",
    "- The array added to 5\n",
    "- The array subtracted by 5\n",
    "\n",
    "No need to write a function this time. Just write the code directly in the cell."
   ]
  },
  {
   "cell_type": "code",
   "execution_count": 9,
   "id": "9e8e131a",
   "metadata": {},
   "outputs": [],
   "source": [
    "my_array = np.array(...)\n",
    "\n",
    "#\n",
    "# Your code goes here\n",
    "#"
   ]
  },
  {
   "cell_type": "markdown",
   "id": "85f82bff",
   "metadata": {},
   "source": [
    "## Question 6\n",
    "\n",
    "Write a function that takes as input a time *t* on a 24h clock (e.g. midnight would be 0; 1:30pm would be 13.5; 9:15am would be 9.25, etc). The code should print out what you would be doing at that time of day on a Saturday. For example, if the input is between 0 and 9 (between midnight and 9am), the code might print out \"I am asleep\". If the input is between 12 and 13 (12pm and 1pm), the code might print out \"I am having lunch\". And so on. Try to include all possible time intervals!"
   ]
  },
  {
   "cell_type": "code",
   "execution_count": null,
   "id": "8e019c23",
   "metadata": {},
   "outputs": [],
   "source": [
    "#\n",
    "# Your code goes here\n",
    "#"
   ]
  }
 ],
 "metadata": {
  "kernelspec": {
   "display_name": "Python 3 (ipykernel)",
   "language": "python",
   "name": "python3"
  },
  "language_info": {
   "codemirror_mode": {
    "name": "ipython",
    "version": 3
   },
   "file_extension": ".py",
   "mimetype": "text/x-python",
   "name": "python",
   "nbconvert_exporter": "python",
   "pygments_lexer": "ipython3",
   "version": "3.10.5"
  }
 },
 "nbformat": 4,
 "nbformat_minor": 5
}
