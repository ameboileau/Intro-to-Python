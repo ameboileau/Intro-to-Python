{
 "cells": [
  {
   "cell_type": "markdown",
   "id": "593da617",
   "metadata": {},
   "source": [
    "# Week 5: Midterm Review"
   ]
  },
  {
   "cell_type": "code",
   "execution_count": null,
   "id": "40431560",
   "metadata": {},
   "outputs": [],
   "source": [
    "# Import list...\n",
    "import numpy as np"
   ]
  },
  {
   "cell_type": "markdown",
   "id": "af28556b",
   "metadata": {},
   "source": [
    "## Exercise 1: Dice and Probabilities\n",
    "#### Reviews functions and math operations"
   ]
  },
  {
   "cell_type": "markdown",
   "id": "4eb2f867",
   "metadata": {},
   "source": [
    "### (a)\n",
    "\n",
    "Consider an $n$-sided die. The probability of rolling a positive integer $m$ (where $m \\leq n$) is given by:\n",
    "\n",
    "$$ P(m) = \\frac{1}{n} $$\n",
    "\n",
    "Write a function that returns the probability of rolling $m$ for an $n$-sided die ($m \\leq n$)."
   ]
  },
  {
   "cell_type": "code",
   "execution_count": null,
   "id": "22d0f860",
   "metadata": {},
   "outputs": [],
   "source": [
    "#\n",
    "# Your code goes here\n",
    "#"
   ]
  },
  {
   "cell_type": "markdown",
   "id": "b5488ea8",
   "metadata": {},
   "source": [
    "### (b)\n",
    "\n",
    "The probability of rolling $m_1$ *or* $m_2$ (for $m_1, m_2 \\leq n$) is given by the sum of the individual probabilities of rolling $m_1$ and $m_2$:\n",
    "\n",
    "\\begin{equation}\n",
    "\\begin{split}\n",
    "P(m_1 \\text{ or } m_2) &= P(m_1) + P(m_2) \\\\\n",
    "&= \\frac{1}{n} + \\frac{1}{n}\\\\\n",
    "&= \\frac{2}{n}\n",
    "\\end{split}\n",
    "\\end{equation}\n",
    "\n",
    "Write a function that returns the probability of rolling any number smaller or equal to $i$ for an $n$-sided die (where $i \\leq n$). Verify that your function is properly normalized."
   ]
  },
  {
   "cell_type": "code",
   "execution_count": null,
   "id": "e8a2fa61",
   "metadata": {},
   "outputs": [],
   "source": [
    "#\n",
    "# Your code goes here\n",
    "#"
   ]
  },
  {
   "cell_type": "markdown",
   "id": "fa1e116f",
   "metadata": {},
   "source": [
    "### (c)\n",
    "\n",
    "The probability of rolling $m_1$ *and* $m_2$ during two successive rolls is the product of the individual probabilities of rolling $m_1$ *and* $m_2$:\n",
    "\n",
    "\\begin{equation}\n",
    "\\begin{split}\n",
    "P(m_1 \\text{ and } m_2) &= P(m_1) \\times P(m_2) \\\\\n",
    "&= \\frac{1}{n} \\times \\frac{1}{n} \\\\\n",
    "&= \\left( \\frac{1}{n} \\right)^2\n",
    "\\end{split}\n",
    "\\end{equation}\n",
    "\n",
    "Write a function that returns the probability of rolling the same number $i$ times *in a row* for an $n$-sided die."
   ]
  },
  {
   "cell_type": "code",
   "execution_count": null,
   "id": "082928fb",
   "metadata": {},
   "outputs": [],
   "source": [
    "#\n",
    "# Your code goes here\n",
    "#"
   ]
  },
  {
   "cell_type": "markdown",
   "id": "b580d5ce",
   "metadata": {},
   "source": [
    "### (d)\n",
    "\n",
    "Write a function that returns the probability of rolling the same number $k$ times *in total* for $i$ rolls of an $n$-sided die ($k \\leq i$)."
   ]
  },
  {
   "cell_type": "markdown",
   "id": "b160a180",
   "metadata": {},
   "source": [
    "To solve this one, we will reword our problem as such: we are searching for the probability of obtaining exactly $k$ successes in $i$ trials. This is exactly given by the [Bernoulli distribution](https://en.wikipedia.org/wiki/Binomial_distribution):\n",
    "\n",
    "\\begin{equation}\n",
    "\\begin{split}\n",
    "f(k, i, p) &= {i\\choose k} p^k (1-p)^{i-k} \\\\\n",
    "&= \\frac{i!}{k! (i-k)!} p^k (1-p)^{i-k},\n",
    "\\end{split}\n",
    "\\end{equation}\n",
    "\n",
    "where $p$ is the probability of a success (i.e. rolling the desired number)."
   ]
  },
  {
   "cell_type": "code",
   "execution_count": null,
   "id": "c70182bc",
   "metadata": {},
   "outputs": [],
   "source": [
    "#\n",
    "# Your code goes here\n",
    "#"
   ]
  },
  {
   "cell_type": "markdown",
   "id": "7a1cb7d3",
   "metadata": {},
   "source": [
    "### (e)\n",
    "\n",
    "Finally, let's write a function that calculates the probability of rolling a certain number *at least* $k$ times in $i$ rolls of an $n$-sided die.\n",
    "\n",
    "While we're at it, let's also write a function that calculates the probability of rolling a certain number *up to* $k$ times in $i$ rolls of an $n$-sided die.\n",
    "\n",
    "**Hint: Use the function you wrote in (d)!**"
   ]
  },
  {
   "cell_type": "code",
   "execution_count": null,
   "id": "0ce831e0",
   "metadata": {},
   "outputs": [],
   "source": [
    "#\n",
    "# Your code goes here\n",
    "#"
   ]
  },
  {
   "cell_type": "code",
   "execution_count": null,
   "id": "6899a833",
   "metadata": {},
   "outputs": [],
   "source": [
    "#\n",
    "# Your code goes here\n",
    "#"
   ]
  },
  {
   "cell_type": "markdown",
   "id": "179a0c67",
   "metadata": {},
   "source": [
    "## Exercise 2: The Phone Book\n",
    "\n",
    "#### Reviews functions, lists, and list indexing"
   ]
  },
  {
   "cell_type": "markdown",
   "id": "bfdced5d",
   "metadata": {},
   "source": [
    "Consider a phone book that provides the following information about a list of individuals:\n",
    "\n",
    "- First name\n",
    "- Last name\n",
    "- Phone number\n",
    "- Street address\n",
    "- Street name\n",
    "- Postal code\n",
    "- City\n",
    "- Province\n",
    "\n",
    "The cell below initializes a *list of lists* containing the above information for a few people."
   ]
  },
  {
   "cell_type": "code",
   "execution_count": null,
   "id": "148d2201",
   "metadata": {},
   "outputs": [],
   "source": [
    "phonebook = [\n",
    "    [\"Réjean\", \"Tremblay\", \"(514) 545-4598\", \"35\", \"Rue Laurier\", \"J6T 9V7\", \"Longueuil\", \"QC\"],\n",
    "    [\"John\", \"Ford\", \"(416) 457-1293\", \"76\", \"George St\", \"K1N 1K1\", \"Ottawa\", \"ON\"],\n",
    "    [\"Rhoda\", \"Gottlieb\", \"(403) 678-4964\", \"725\", \"Railway Ave\", \"T1W 1P2\", \"Canmore\", \"BC\"],\n",
    "    [\"Bella\", \"Herman\", \"(204) 987-5551\", \"1743\", \"Pembina Hwy\", \"R2M 3E1\", \"Winnipeg\", \"MB\"],\n",
    "    [\"Wilmer\", \"Shanahan\", \"(705) 444-6606\", \"470\", \"1 St\", \"N7M 2J8\", \"Collingwood\", \"ON\"],\n",
    "    [\"Chase\", \"Hayes\", \"(604) 255-4844\", \"1875\", \"Commercial Dr\", \"V5N 4A6\", \"Vancouver\", \"BC\"],\n",
    "    [\"Ferne\", \"Gibson\", \"(613) 829-1920\", \"1119\", \"Baxter Rd\", \"K2C 1M1\", \"Ottawa\", \"ON\"],\n",
    "    [\"Marie\", \"Dumont\", \"(418) 663-1234\", \"3410\", \"Boul. Sainte-Anne\", \"G1E 3L7\", \"Beauport\", \"QC\"],\n",
    "    [\"Chet\", \"Huel\", \"(403) 279-2198\", \"116\", \"Inverness Rise SE\", \"T2Z 2X1\", \"Calgary\", \"AB\"],\n",
    "    [\"Maegan\", \"Cronin\", \"(250) 275-1588\", \"3101\", \"Highway 6\", \"V1T 9H6\", \"Vernon\", \"BC\"],\n",
    "    [\"Alexis\", \"Leduc\", \"(514) 296-2929\", \"1450\", \"Rue Crescent\", \"H3G 2B2\", \"Montréal\", \"QC\"],\n",
    "    [\"Horacio\", \"Braun\", \"(604) 755-8022\", \"32900\", \"S Fraser Way\", \"V2S 5A1\", \"Abbotford\", \"BC\"],\n",
    "    [\"Cameron\", \"Reichel\", \"(204) 957-2500\", \"484\", \"McPhillips St\", \"R2X 2H2\", \"Winnipeg\", \"MB\"],\n",
    "    [\"Kristopher\", \"McDermott\", \"(604) 538-3090\", \"15355\", \"24 Ave\", \"V4A 2H9\", \"Surrey\", \"BC\"],\n",
    "    [\"Kirsten\", \"Lowe\", \"(902) 962-3599\", \"125\", \"Sydney St\", \"C1A 1G5\", \"Charlottetown\", \"PE\"],\n",
    "    [\"Royce\", \"Lockman\", \"(306) 882-2011\", \"104\", \"Railway Ave E\", \"S0L 2V0\", \"Rosetown\", \"SK\"],\n",
    "    [\"Jonathan\", \"Quigley\", \"(416) 727-3597\", \"14\", \"Fluellen Dr\", \"M1W 2B3\", \"Scarborough\", \"ON\"],\n",
    "    [\"Brielle\", \"Balistreri\", \"(604) 255-0698\", \"2163\", \"Hastings St\", \"V5L 7H8\", \"Vancouver\", \"BC\"],\n",
    "    [\"Fernando\", \"Spinka\", \"(506) 384-6116\", \"25\", \"Killam Dr\", \"E1C 3R1\", \"Moncton\", \"NB\"],\n",
    "    [\"Henri\", \"Dupré\", \"(450) 538-7333\", \"9\", \"Rue Principale Nord\", \"J0E 2K0\", \"Sutton\", \"QC\"],\n",
    "    [\"Mylène\", \"Gravel\", \"(450) 747-0822\", \"120\", \"Rue Grande-Île\", \"J6S 3M6\",\\\n",
    "     \"Salaberry-de-Valleyfield\", \"QC\"],\n",
    "    [\"Santa\", \"Weissnat\", \"(604) 214-0888\", \"8368\", \"Alexandra Rd\", \"V6X 4A6\", \"Richmond\", \"BC\"],\n",
    "    [\"Jerome\", \"Robel\", \"(902) 634-3334\", \"4\", \"Dufferin St\", \"B0J 2C0\", \"Lunenburg\", \"NS\"],\n",
    "    [\"Giselle\", \"Lagacé\", \"(514) 485-2652\", \"5601\", \"Ave. de Monkland\", \"H4A 1E4\", \"Montréal\", \"QC\"],\n",
    "    [\"Coleman\", \"Crooks\", \"(604) 554-0212\", \"2929\", \"Barnet Hwy\", \"V3B 5R5\", \"Coquitlam\", \"BC\"],\n",
    "    [\"Gregoria\", \"Osinski\", \"(867) 667-2161\", \"18\", \"Tagish Rd\", \"Y1A 3P5\", \"Whitehorse\", \"YT\"],\n",
    "    [\"Florence\", \"Lachapelle\", \"(418) 266-8900\", \"1075\", \"Ch Ste Foy\", \"G1S 2L5\", \"Québec\", \"QC\"],\n",
    "    [\"Holden\", \"Osinski\", \"(905) 841-8592\", \"148\", \"Yonge Aurora\", \"L4G 1M1\", \"Aurora\", \"ON\"]\n",
    "]"
   ]
  },
  {
   "cell_type": "markdown",
   "id": "b360ad9d",
   "metadata": {},
   "source": [
    "### (a)\n",
    "\n",
    "Write a function that prints out a sentence containing all the information for each person in the phonebook. The sentence should look like this:\n",
    "\n",
    "\"My name is Gregoria Osinski. My phone number is (867) 667-2161 and I live at 18 Tagish Rd, Y1A 3P5, Whitehorse, YK.\""
   ]
  },
  {
   "cell_type": "code",
   "execution_count": null,
   "id": "1d553820",
   "metadata": {},
   "outputs": [],
   "source": [
    "#\n",
    "# Your code goes here\n",
    "#"
   ]
  },
  {
   "cell_type": "markdown",
   "id": "b5360076",
   "metadata": {},
   "source": [
    "### (b)\n",
    "\n",
    "Write a function that prints out the same sentence as in (a), but **only if** the person lives in a certain province."
   ]
  },
  {
   "cell_type": "code",
   "execution_count": null,
   "id": "a5432056",
   "metadata": {},
   "outputs": [],
   "source": [
    "#\n",
    "# Your code goes here\n",
    "#"
   ]
  },
  {
   "cell_type": "markdown",
   "id": "ee433322",
   "metadata": {},
   "source": [
    "### (c)\n",
    "\n",
    "Write a function that prints out the same sentence as in (a) for each element in the list of lists, but **in alphabetical order** (last name)."
   ]
  },
  {
   "cell_type": "code",
   "execution_count": null,
   "id": "085fb5c3",
   "metadata": {},
   "outputs": [],
   "source": [
    "#\n",
    "# Your code goes here\n",
    "#"
   ]
  },
  {
   "cell_type": "markdown",
   "id": "aed928b2",
   "metadata": {},
   "source": [
    "## Exercise 3\n",
    "\n",
    "#### Reviews functions, math operations, and for loops"
   ]
  },
  {
   "cell_type": "markdown",
   "id": "d5e71ba2",
   "metadata": {},
   "source": [
    "A [convergent series](https://en.wikipedia.org/wiki/Convergent_series) is a series composed of an infinite number of terms, and whose sum tends to a specific value. For example:\n",
    "\n",
    "\\begin{equation}\n",
    "\\begin{split}\n",
    "\\sum_{n=1}^\\infty \\left( \\frac{1}{2} \\right)^n &= \\left( \\frac{1}{2} \\right)^1 + \\left( \\frac{1}{2} \\right)^2 + \\left( \\frac{1}{2} \\right)^3 + \\left( \\frac{1}{2} \\right)^4 + ...\\\\\n",
    "&= \\frac{1}{2} + \\frac{1}{4} + \\frac{1}{8} + \\frac{1}{16} + ... \\\\\n",
    "&= 1\n",
    "\\end{split}\n",
    "\\end{equation}\n",
    "\n",
    "The *partial sum* of the first $n$ terms in the series won't give exactly 1, but it will give a value that gets closer and closer to 1 as we increase $n$. For example, for $n = 3$:\n",
    "\n",
    "\\begin{equation}\n",
    "\\begin{split}\n",
    "\\frac{1}{2} + \\frac{1}{4} + \\frac{1}{8} &= 0.875\n",
    "\\end{split}\n",
    "\\end{equation}\n",
    "\n",
    "For $n=5$:\n",
    "\n",
    "\\begin{equation}\n",
    "\\begin{split}\n",
    "\\frac{1}{2} + \\frac{1}{4} + \\frac{1}{8} + \\frac{1}{16} + \\frac{1}{32} &= 0.96875\n",
    "\\end{split}\n",
    "\\end{equation}\n",
    "\n",
    "And so on until $n \\to \\infty$."
   ]
  },
  {
   "cell_type": "markdown",
   "id": "aefa2f40",
   "metadata": {},
   "source": [
    "### (a)\n",
    "\n",
    "Write a function that calculates the partial sum of the following series for a given value of $n$:\n",
    "\n",
    "\\begin{equation}\n",
    "\\begin{split}\n",
    "\\sum_{n=0}^{\\infty} \\frac{1}{n!} &= \\frac{1}{0!} + \\frac{1}{1!} + \\frac{1}{2!} + \\frac{1}{3!} + \\frac{1}{4!} + ... \\\\\n",
    "&= \\frac{1}{1} + \\frac{1}{1} + \\frac{1}{2} + \\frac{1}{6} + \\frac{1}{24} + ...\n",
    "\\end{split}\n",
    "\\end{equation}\n",
    "\n",
    "Is this series convergent? If so, what does it converge to?"
   ]
  },
  {
   "cell_type": "code",
   "execution_count": null,
   "id": "74389f20",
   "metadata": {},
   "outputs": [],
   "source": [
    "#\n",
    "# Your code goes here\n",
    "#"
   ]
  },
  {
   "cell_type": "markdown",
   "id": "f57dc3b3",
   "metadata": {},
   "source": [
    "### (b)\n",
    "\n",
    "Write a function that calculates the partial sum of the following series for a given value of $n$:\n",
    "\n",
    "\\begin{equation}\n",
    "\\begin{split}\n",
    "\\sum_{n=1}^\\infty \\frac{1}{n} &= \\frac{1}{1} + \\frac{1}{2} + \\frac{1}{3} + \\frac{1}{4} + ...\n",
    "\\end{split}\n",
    "\\end{equation}\n",
    "\n",
    "Is this series convergent? If so, what does it converge to?"
   ]
  },
  {
   "cell_type": "code",
   "execution_count": null,
   "id": "feb84d3c",
   "metadata": {},
   "outputs": [],
   "source": [
    "#\n",
    "# Your code goes here\n",
    "#"
   ]
  },
  {
   "cell_type": "markdown",
   "id": "68e70654",
   "metadata": {},
   "source": [
    "### (c)\n",
    "\n",
    "Write a function that calculates the partial sum of the following series for a given value of $n$:\n",
    "\n",
    "\\begin{equation}\n",
    "\\begin{split}\n",
    "\\sum_{n=0}^\\infty \\left( -1 \\right)^n \\left( \\frac{1}{2} \\right)^n &= \\left( -1 \\right)^0 \\left( \\frac{1}{2} \\right)^0 + \\left( -1 \\right)^1 \\left( \\frac{1}{2} \\right)^1 + \\left( -1 \\right)^2 \\left( \\frac{1}{2} \\right)^2 + ... \\\\\n",
    "&= (1) \\frac{1}{1} + (-1) \\frac{1}{2} + (1) \\frac{1}{4} + (-1) \\frac{1}{8} + ... \\\\\n",
    "&= 1 - \\frac{1}{2} + \\frac{1}{4} - \\frac{1}{8} + \\frac{1}{16} + ...\n",
    "\\end{split}\n",
    "\\end{equation}\n",
    "\n",
    "Is this series convergent? If so, what does it converge to?"
   ]
  },
  {
   "cell_type": "code",
   "execution_count": null,
   "id": "287b19fc",
   "metadata": {},
   "outputs": [],
   "source": [
    "#\n",
    "# Your code goes here\n",
    "#"
   ]
  },
  {
   "cell_type": "code",
   "execution_count": null,
   "id": "a61439d2",
   "metadata": {},
   "outputs": [],
   "source": []
  }
 ],
 "metadata": {
  "kernelspec": {
   "display_name": "Python 3 (ipykernel)",
   "language": "python",
   "name": "python3"
  },
  "language_info": {
   "codemirror_mode": {
    "name": "ipython",
    "version": 3
   },
   "file_extension": ".py",
   "mimetype": "text/x-python",
   "name": "python",
   "nbconvert_exporter": "python",
   "pygments_lexer": "ipython3",
   "version": "3.10.5"
  }
 },
 "nbformat": 4,
 "nbformat_minor": 5
}
