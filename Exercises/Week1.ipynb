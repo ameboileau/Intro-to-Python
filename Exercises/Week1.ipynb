{
 "cells": [
  {
   "cell_type": "markdown",
   "id": "7a3b92f1",
   "metadata": {},
   "source": [
    "# Week 1: Basics"
   ]
  },
  {
   "cell_type": "markdown",
   "id": "06020ae2",
   "metadata": {},
   "source": [
    "#### Exercise 1: Write a code that prints out Hello World"
   ]
  },
  {
   "cell_type": "code",
   "execution_count": 3,
   "id": "449c293a",
   "metadata": {},
   "outputs": [
    {
     "name": "stdout",
     "output_type": "stream",
     "text": [
      "my name is Jade\n"
     ]
    }
   ],
   "source": [
    "#\n",
    "# Your code goes here\n",
    "#\n",
    "\n",
    "name = \"Jade\"\n",
    "\n",
    "print(\"my name is\", name)"
   ]
  },
  {
   "cell_type": "markdown",
   "id": "55beef12",
   "metadata": {},
   "source": [
    "#### Exercise 2: Write a code that the sum of two numbers *a* and *b*"
   ]
  },
  {
   "cell_type": "code",
   "execution_count": 2,
   "id": "c2ced4ca",
   "metadata": {},
   "outputs": [],
   "source": [
    "#\n",
    "# Your code goes here\n",
    "#"
   ]
  },
  {
   "cell_type": "markdown",
   "id": "3d322732",
   "metadata": {},
   "source": [
    "#### Exercise 3: Write a code that outputs your name and age"
   ]
  },
  {
   "cell_type": "code",
   "execution_count": 3,
   "id": "8a9979e0",
   "metadata": {},
   "outputs": [],
   "source": [
    "#\n",
    "# Your code goes here\n",
    "#"
   ]
  },
  {
   "cell_type": "markdown",
   "id": "df15b24b",
   "metadata": {},
   "source": [
    "## Extra Exercises"
   ]
  },
  {
   "cell_type": "markdown",
   "id": "f445c236",
   "metadata": {},
   "source": [
    "#### Extra Exercise 1: Write code that prints out a fictional name, address, age, and occupation of a character of your choice (use variables!)"
   ]
  },
  {
   "cell_type": "code",
   "execution_count": 4,
   "id": "91abd700",
   "metadata": {},
   "outputs": [],
   "source": [
    "#\n",
    "# Your code goes here\n",
    "#"
   ]
  },
  {
   "cell_type": "markdown",
   "id": "9140fc08",
   "metadata": {},
   "source": [
    "#### Extra Exercise 2: Write three variables that represent the salary of three different workers, and print out the average salary"
   ]
  },
  {
   "cell_type": "code",
   "execution_count": 5,
   "id": "ca0d2e60",
   "metadata": {},
   "outputs": [],
   "source": [
    "#\n",
    "# Your code goes here\n",
    "#"
   ]
  },
  {
   "cell_type": "code",
   "execution_count": null,
   "id": "a45a32c2",
   "metadata": {},
   "outputs": [],
   "source": []
  }
 ],
 "metadata": {
  "kernelspec": {
   "display_name": "Python 3 (ipykernel)",
   "language": "python",
   "name": "python3"
  },
  "language_info": {
   "codemirror_mode": {
    "name": "ipython",
    "version": 3
   },
   "file_extension": ".py",
   "mimetype": "text/x-python",
   "name": "python",
   "nbconvert_exporter": "python",
   "pygments_lexer": "ipython3",
   "version": "3.10.5"
  }
 },
 "nbformat": 4,
 "nbformat_minor": 5
}
