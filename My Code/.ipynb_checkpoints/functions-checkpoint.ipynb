{
 "cells": [
  {
   "cell_type": "code",
   "execution_count": 26,
   "id": "6d2a426b",
   "metadata": {},
   "outputs": [],
   "source": [
    "# Import list...\n",
    "\n",
    "import numpy as np\n",
    "import pandas as pd"
   ]
  },
  {
   "cell_type": "markdown",
   "id": "834b2ebb",
   "metadata": {},
   "source": [
    "# Extra Exercises: Functions"
   ]
  },
  {
   "cell_type": "markdown",
   "id": "2fbb048e",
   "metadata": {},
   "source": [
    "#### 1. is_a_vowel\n",
    "\n",
    "Initialize a \"vowels\" string object containing all the vowels of the alphabet. Then, write a function that checks whether the input is a vowel. Your function should return \"True\" if the input is a vowel, and \"False\" otherwise."
   ]
  },
  {
   "cell_type": "code",
   "execution_count": 6,
   "id": "f24de8b0",
   "metadata": {},
   "outputs": [
    {
     "data": {
      "text/plain": [
       "True"
      ]
     },
     "execution_count": 6,
     "metadata": {},
     "output_type": "execute_result"
    }
   ],
   "source": [
    "vowels = \"aeiouy\"\n",
    "\n",
    "def is_a_vowel(c):\n",
    "    \"\"\"\n",
    "    Function that checks whether a character c is a vowel\n",
    "    c: string (1 character)\n",
    "    \"\"\"\n",
    "    \n",
    "    if c.lower() in vowels:\n",
    "        return True\n",
    "    \n",
    "    return False\n",
    "    \n",
    "is_a_vowel(\"O\")"
   ]
  },
  {
   "cell_type": "markdown",
   "id": "ab929270",
   "metadata": {},
   "source": [
    "#### 2. count_vowels\n",
    "\n",
    "Write a function that takes a string as input and returns the number of vowels it contains."
   ]
  },
  {
   "cell_type": "code",
   "execution_count": 10,
   "id": "adf67484",
   "metadata": {},
   "outputs": [
    {
     "data": {
      "text/plain": [
       "2"
      ]
     },
     "execution_count": 10,
     "metadata": {},
     "output_type": "execute_result"
    }
   ],
   "source": [
    "def count_vowels(s):\n",
    "    \"\"\"\n",
    "    Function to count how many vowels are in s\n",
    "    s: string\n",
    "    \"\"\"\n",
    "    \n",
    "    counter = 0\n",
    "    for i in s:\n",
    "        if is_a_vowel(i) == True:\n",
    "            counter += 1\n",
    "    return counter\n",
    "            \n",
    "\n",
    "count_vowels(\"Hello World\")"
   ]
  },
  {
   "cell_type": "markdown",
   "id": "2211f954",
   "metadata": {},
   "source": [
    "#### 3. count_occurences\n",
    "\n",
    "Write a function that takes as input a string $s$ and a character $c$. The function should return how many times $c$ appears in $s$."
   ]
  },
  {
   "cell_type": "code",
   "execution_count": 20,
   "id": "ba69f019",
   "metadata": {},
   "outputs": [
    {
     "data": {
      "text/plain": [
       "3"
      ]
     },
     "execution_count": 20,
     "metadata": {},
     "output_type": "execute_result"
    }
   ],
   "source": [
    "def count_occurences(s, c):\n",
    "    \"\"\"\n",
    "    Function to count the occurences of a character c in a string s, where\n",
    "    s: string\n",
    "    c: string (1 character)\n",
    "    \"\"\"\n",
    "    \n",
    "    counter = 0\n",
    "    for i in s:\n",
    "        if i.lower() == c.lower():\n",
    "            counter += 1\n",
    "    return counter\n",
    "    \n",
    "count_occurences(\"The sun is shining bright this morning\", \"T\")"
   ]
  },
  {
   "cell_type": "markdown",
   "id": "fa0e8cd5",
   "metadata": {},
   "source": [
    "#### 4. print_multiples\n",
    "\n",
    "Write a function that takes as input integers $n$ and $m$ and prints out $m$ multiples of $n$, starting from $n$. For example, print_multiples(n=5, m=4) should print the following:\n",
    "\n",
    "5\\\n",
    "10\\\n",
    "15\\\n",
    "20"
   ]
  },
  {
   "cell_type": "code",
   "execution_count": 36,
   "id": "0a04706a",
   "metadata": {},
   "outputs": [
    {
     "data": {
      "text/plain": [
       "[5, 10, 15, 20]"
      ]
     },
     "execution_count": 36,
     "metadata": {},
     "output_type": "execute_result"
    }
   ],
   "source": [
    "def print_multiples(n, m, verbose=False):\n",
    "    \"\"\"\n",
    "    Function that calculates and prints m multiples of n, starting at n\n",
    "    n: integer\n",
    "    m: integer\n",
    "    verbose: print extra information? (Boolean, default=False)\n",
    "    \"\"\"\n",
    "    \n",
    "    my_list = []\n",
    "    for i in range(m):\n",
    "        \n",
    "        if verbose:\n",
    "            print(n*(i+1))\n",
    "        \n",
    "        my_list.append(n*(i+1))\n",
    "        \n",
    "    return my_list\n",
    "    \n",
    "print_multiples(n=5, m=4)"
   ]
  },
  {
   "cell_type": "markdown",
   "id": "1cd87b91",
   "metadata": {},
   "source": [
    "#### 5. print_mult_table\n",
    "\n",
    "Write a function that takes as input $rows$ and $columns$ and prints out a multiplication table with the required number of rows and columns. For example, print_mult_table(rows=3, columns=3) should print:\n",
    "\n",
    "1  2  3\n",
    "\n",
    "2  4  6\n",
    "\n",
    "3  6  9\n",
    "\n",
    "(Hint: use the function you wrote in exercise 4)"
   ]
  },
  {
   "cell_type": "code",
   "execution_count": 45,
   "id": "0b07e2f8",
   "metadata": {},
   "outputs": [
    {
     "data": {
      "text/html": [
       "<div>\n",
       "<style scoped>\n",
       "    .dataframe tbody tr th:only-of-type {\n",
       "        vertical-align: middle;\n",
       "    }\n",
       "\n",
       "    .dataframe tbody tr th {\n",
       "        vertical-align: top;\n",
       "    }\n",
       "\n",
       "    .dataframe thead th {\n",
       "        text-align: right;\n",
       "    }\n",
       "</style>\n",
       "<table border=\"1\" class=\"dataframe\">\n",
       "  <thead>\n",
       "    <tr style=\"text-align: right;\">\n",
       "      <th></th>\n",
       "      <th>1</th>\n",
       "      <th>2</th>\n",
       "      <th>3</th>\n",
       "      <th>4</th>\n",
       "      <th>5</th>\n",
       "      <th>6</th>\n",
       "      <th>7</th>\n",
       "      <th>8</th>\n",
       "      <th>9</th>\n",
       "      <th>10</th>\n",
       "      <th>...</th>\n",
       "      <th>91</th>\n",
       "      <th>92</th>\n",
       "      <th>93</th>\n",
       "      <th>94</th>\n",
       "      <th>95</th>\n",
       "      <th>96</th>\n",
       "      <th>97</th>\n",
       "      <th>98</th>\n",
       "      <th>99</th>\n",
       "      <th>100</th>\n",
       "    </tr>\n",
       "  </thead>\n",
       "  <tbody>\n",
       "    <tr>\n",
       "      <th>1</th>\n",
       "      <td>1</td>\n",
       "      <td>2</td>\n",
       "      <td>3</td>\n",
       "      <td>4</td>\n",
       "      <td>5</td>\n",
       "      <td>6</td>\n",
       "      <td>7</td>\n",
       "      <td>8</td>\n",
       "      <td>9</td>\n",
       "      <td>10</td>\n",
       "      <td>...</td>\n",
       "      <td>91</td>\n",
       "      <td>92</td>\n",
       "      <td>93</td>\n",
       "      <td>94</td>\n",
       "      <td>95</td>\n",
       "      <td>96</td>\n",
       "      <td>97</td>\n",
       "      <td>98</td>\n",
       "      <td>99</td>\n",
       "      <td>100</td>\n",
       "    </tr>\n",
       "    <tr>\n",
       "      <th>2</th>\n",
       "      <td>2</td>\n",
       "      <td>4</td>\n",
       "      <td>6</td>\n",
       "      <td>8</td>\n",
       "      <td>10</td>\n",
       "      <td>12</td>\n",
       "      <td>14</td>\n",
       "      <td>16</td>\n",
       "      <td>18</td>\n",
       "      <td>20</td>\n",
       "      <td>...</td>\n",
       "      <td>182</td>\n",
       "      <td>184</td>\n",
       "      <td>186</td>\n",
       "      <td>188</td>\n",
       "      <td>190</td>\n",
       "      <td>192</td>\n",
       "      <td>194</td>\n",
       "      <td>196</td>\n",
       "      <td>198</td>\n",
       "      <td>200</td>\n",
       "    </tr>\n",
       "    <tr>\n",
       "      <th>3</th>\n",
       "      <td>3</td>\n",
       "      <td>6</td>\n",
       "      <td>9</td>\n",
       "      <td>12</td>\n",
       "      <td>15</td>\n",
       "      <td>18</td>\n",
       "      <td>21</td>\n",
       "      <td>24</td>\n",
       "      <td>27</td>\n",
       "      <td>30</td>\n",
       "      <td>...</td>\n",
       "      <td>273</td>\n",
       "      <td>276</td>\n",
       "      <td>279</td>\n",
       "      <td>282</td>\n",
       "      <td>285</td>\n",
       "      <td>288</td>\n",
       "      <td>291</td>\n",
       "      <td>294</td>\n",
       "      <td>297</td>\n",
       "      <td>300</td>\n",
       "    </tr>\n",
       "    <tr>\n",
       "      <th>4</th>\n",
       "      <td>4</td>\n",
       "      <td>8</td>\n",
       "      <td>12</td>\n",
       "      <td>16</td>\n",
       "      <td>20</td>\n",
       "      <td>24</td>\n",
       "      <td>28</td>\n",
       "      <td>32</td>\n",
       "      <td>36</td>\n",
       "      <td>40</td>\n",
       "      <td>...</td>\n",
       "      <td>364</td>\n",
       "      <td>368</td>\n",
       "      <td>372</td>\n",
       "      <td>376</td>\n",
       "      <td>380</td>\n",
       "      <td>384</td>\n",
       "      <td>388</td>\n",
       "      <td>392</td>\n",
       "      <td>396</td>\n",
       "      <td>400</td>\n",
       "    </tr>\n",
       "    <tr>\n",
       "      <th>5</th>\n",
       "      <td>5</td>\n",
       "      <td>10</td>\n",
       "      <td>15</td>\n",
       "      <td>20</td>\n",
       "      <td>25</td>\n",
       "      <td>30</td>\n",
       "      <td>35</td>\n",
       "      <td>40</td>\n",
       "      <td>45</td>\n",
       "      <td>50</td>\n",
       "      <td>...</td>\n",
       "      <td>455</td>\n",
       "      <td>460</td>\n",
       "      <td>465</td>\n",
       "      <td>470</td>\n",
       "      <td>475</td>\n",
       "      <td>480</td>\n",
       "      <td>485</td>\n",
       "      <td>490</td>\n",
       "      <td>495</td>\n",
       "      <td>500</td>\n",
       "    </tr>\n",
       "    <tr>\n",
       "      <th>...</th>\n",
       "      <td>...</td>\n",
       "      <td>...</td>\n",
       "      <td>...</td>\n",
       "      <td>...</td>\n",
       "      <td>...</td>\n",
       "      <td>...</td>\n",
       "      <td>...</td>\n",
       "      <td>...</td>\n",
       "      <td>...</td>\n",
       "      <td>...</td>\n",
       "      <td>...</td>\n",
       "      <td>...</td>\n",
       "      <td>...</td>\n",
       "      <td>...</td>\n",
       "      <td>...</td>\n",
       "      <td>...</td>\n",
       "      <td>...</td>\n",
       "      <td>...</td>\n",
       "      <td>...</td>\n",
       "      <td>...</td>\n",
       "      <td>...</td>\n",
       "    </tr>\n",
       "    <tr>\n",
       "      <th>96</th>\n",
       "      <td>96</td>\n",
       "      <td>192</td>\n",
       "      <td>288</td>\n",
       "      <td>384</td>\n",
       "      <td>480</td>\n",
       "      <td>576</td>\n",
       "      <td>672</td>\n",
       "      <td>768</td>\n",
       "      <td>864</td>\n",
       "      <td>960</td>\n",
       "      <td>...</td>\n",
       "      <td>8736</td>\n",
       "      <td>8832</td>\n",
       "      <td>8928</td>\n",
       "      <td>9024</td>\n",
       "      <td>9120</td>\n",
       "      <td>9216</td>\n",
       "      <td>9312</td>\n",
       "      <td>9408</td>\n",
       "      <td>9504</td>\n",
       "      <td>9600</td>\n",
       "    </tr>\n",
       "    <tr>\n",
       "      <th>97</th>\n",
       "      <td>97</td>\n",
       "      <td>194</td>\n",
       "      <td>291</td>\n",
       "      <td>388</td>\n",
       "      <td>485</td>\n",
       "      <td>582</td>\n",
       "      <td>679</td>\n",
       "      <td>776</td>\n",
       "      <td>873</td>\n",
       "      <td>970</td>\n",
       "      <td>...</td>\n",
       "      <td>8827</td>\n",
       "      <td>8924</td>\n",
       "      <td>9021</td>\n",
       "      <td>9118</td>\n",
       "      <td>9215</td>\n",
       "      <td>9312</td>\n",
       "      <td>9409</td>\n",
       "      <td>9506</td>\n",
       "      <td>9603</td>\n",
       "      <td>9700</td>\n",
       "    </tr>\n",
       "    <tr>\n",
       "      <th>98</th>\n",
       "      <td>98</td>\n",
       "      <td>196</td>\n",
       "      <td>294</td>\n",
       "      <td>392</td>\n",
       "      <td>490</td>\n",
       "      <td>588</td>\n",
       "      <td>686</td>\n",
       "      <td>784</td>\n",
       "      <td>882</td>\n",
       "      <td>980</td>\n",
       "      <td>...</td>\n",
       "      <td>8918</td>\n",
       "      <td>9016</td>\n",
       "      <td>9114</td>\n",
       "      <td>9212</td>\n",
       "      <td>9310</td>\n",
       "      <td>9408</td>\n",
       "      <td>9506</td>\n",
       "      <td>9604</td>\n",
       "      <td>9702</td>\n",
       "      <td>9800</td>\n",
       "    </tr>\n",
       "    <tr>\n",
       "      <th>99</th>\n",
       "      <td>99</td>\n",
       "      <td>198</td>\n",
       "      <td>297</td>\n",
       "      <td>396</td>\n",
       "      <td>495</td>\n",
       "      <td>594</td>\n",
       "      <td>693</td>\n",
       "      <td>792</td>\n",
       "      <td>891</td>\n",
       "      <td>990</td>\n",
       "      <td>...</td>\n",
       "      <td>9009</td>\n",
       "      <td>9108</td>\n",
       "      <td>9207</td>\n",
       "      <td>9306</td>\n",
       "      <td>9405</td>\n",
       "      <td>9504</td>\n",
       "      <td>9603</td>\n",
       "      <td>9702</td>\n",
       "      <td>9801</td>\n",
       "      <td>9900</td>\n",
       "    </tr>\n",
       "    <tr>\n",
       "      <th>100</th>\n",
       "      <td>100</td>\n",
       "      <td>200</td>\n",
       "      <td>300</td>\n",
       "      <td>400</td>\n",
       "      <td>500</td>\n",
       "      <td>600</td>\n",
       "      <td>700</td>\n",
       "      <td>800</td>\n",
       "      <td>900</td>\n",
       "      <td>1000</td>\n",
       "      <td>...</td>\n",
       "      <td>9100</td>\n",
       "      <td>9200</td>\n",
       "      <td>9300</td>\n",
       "      <td>9400</td>\n",
       "      <td>9500</td>\n",
       "      <td>9600</td>\n",
       "      <td>9700</td>\n",
       "      <td>9800</td>\n",
       "      <td>9900</td>\n",
       "      <td>10000</td>\n",
       "    </tr>\n",
       "  </tbody>\n",
       "</table>\n",
       "<p>100 rows × 100 columns</p>\n",
       "</div>"
      ],
      "text/plain": [
       "     1    2    3    4    5    6    7    8    9     10   ...   91    92    93   \\\n",
       "1      1    2    3    4    5    6    7    8    9    10  ...    91    92    93   \n",
       "2      2    4    6    8   10   12   14   16   18    20  ...   182   184   186   \n",
       "3      3    6    9   12   15   18   21   24   27    30  ...   273   276   279   \n",
       "4      4    8   12   16   20   24   28   32   36    40  ...   364   368   372   \n",
       "5      5   10   15   20   25   30   35   40   45    50  ...   455   460   465   \n",
       "..   ...  ...  ...  ...  ...  ...  ...  ...  ...   ...  ...   ...   ...   ...   \n",
       "96    96  192  288  384  480  576  672  768  864   960  ...  8736  8832  8928   \n",
       "97    97  194  291  388  485  582  679  776  873   970  ...  8827  8924  9021   \n",
       "98    98  196  294  392  490  588  686  784  882   980  ...  8918  9016  9114   \n",
       "99    99  198  297  396  495  594  693  792  891   990  ...  9009  9108  9207   \n",
       "100  100  200  300  400  500  600  700  800  900  1000  ...  9100  9200  9300   \n",
       "\n",
       "      94    95    96    97    98    99     100  \n",
       "1      94    95    96    97    98    99    100  \n",
       "2     188   190   192   194   196   198    200  \n",
       "3     282   285   288   291   294   297    300  \n",
       "4     376   380   384   388   392   396    400  \n",
       "5     470   475   480   485   490   495    500  \n",
       "..    ...   ...   ...   ...   ...   ...    ...  \n",
       "96   9024  9120  9216  9312  9408  9504   9600  \n",
       "97   9118  9215  9312  9409  9506  9603   9700  \n",
       "98   9212  9310  9408  9506  9604  9702   9800  \n",
       "99   9306  9405  9504  9603  9702  9801   9900  \n",
       "100  9400  9500  9600  9700  9800  9900  10000  \n",
       "\n",
       "[100 rows x 100 columns]"
      ]
     },
     "execution_count": 45,
     "metadata": {},
     "output_type": "execute_result"
    }
   ],
   "source": [
    "def print_mult_table(rows, columns):\n",
    "    \"\"\"\n",
    "    Function that prints a rowsXcolumns multiplication table, where\n",
    "    rows: integer\n",
    "    columns: integer\n",
    "    \"\"\"\n",
    "    \n",
    "    df = pd.DataFrame(columns=range(1, columns),\n",
    "                     index=range(1, rows+1))\n",
    "    \n",
    "    for c in range(columns):\n",
    "        \n",
    "        df[c+1] = print_multiples(c+1, rows)\n",
    "        \n",
    "    return df\n",
    "        \n",
    "    \n",
    "print_mult_table(100, 100)    "
   ]
  },
  {
   "cell_type": "code",
   "execution_count": 46,
   "id": "ff794818",
   "metadata": {},
   "outputs": [],
   "source": [
    "my_table.to_excel(\"My Multiplication Table.xlsx\")"
   ]
  },
  {
   "cell_type": "markdown",
   "id": "bc664d29",
   "metadata": {},
   "source": [
    "#### 6. increase_by_index\n",
    "\n",
    "Write a function that takes as input a list of integers and increases the value of each element in the list by its index. For example, increase_by_index([1, 2, 3, 4, 5]) should return:\n",
    "\n",
    "[1, 3, 5, 7, 9]"
   ]
  },
  {
   "cell_type": "code",
   "execution_count": null,
   "id": "72b7af52",
   "metadata": {},
   "outputs": [],
   "source": [
    "#\n",
    "# Your code goes here\n",
    "#"
   ]
  },
  {
   "cell_type": "markdown",
   "id": "1f42168b",
   "metadata": {},
   "source": [
    "#### 7. get_smallest\n",
    "\n",
    "Write a function that takes as input a list of integers and returns the smallest one. For example, get_smallest([5, 0, -3, 1, 9]) should return:\n",
    "\n",
    "-3"
   ]
  },
  {
   "cell_type": "code",
   "execution_count": null,
   "id": "3017d10f",
   "metadata": {},
   "outputs": [],
   "source": [
    "#\n",
    "# Your code goes here\n",
    "#"
   ]
  },
  {
   "cell_type": "markdown",
   "id": "9baa0e05",
   "metadata": {},
   "source": [
    "#### 8. get_random_list\n",
    "\n",
    "Write a function that takes as input an integer $n$ and returns a list (or an array) containing $n$ random numbers between 0 and 1. For example, get_random_list(5) might return:\n",
    "\n",
    "[0.345345, 0.124044, 0.343985, 0.998534, 0.2353458]\n",
    "\n",
    "(Hint: Use the function $\\texttt{numpy.random.random()}$)"
   ]
  },
  {
   "cell_type": "code",
   "execution_count": null,
   "id": "7560d591",
   "metadata": {},
   "outputs": [],
   "source": [
    "#\n",
    "# Your code goes here\n",
    "#"
   ]
  },
  {
   "cell_type": "markdown",
   "id": "96590cb0",
   "metadata": {},
   "source": [
    "#### 9. swap_elements\n",
    "\n",
    "Write a function that takes as input a list and two integers $i$ and $j$. The function should swap the elements at the $i$th and $j$th index. For example, swap_elements([5, 6, 7, 8], 0, 2) should return:\n",
    "\n",
    "[7, 6, 5, 8]"
   ]
  },
  {
   "cell_type": "code",
   "execution_count": null,
   "id": "81a8bd22",
   "metadata": {},
   "outputs": [],
   "source": [
    "#\n",
    "# Your code goes here\n",
    "#"
   ]
  },
  {
   "cell_type": "markdown",
   "id": "62dc090c",
   "metadata": {},
   "source": [
    "#### 10. shift_left\n",
    "\n",
    "Write a function that takes as input a list and shifts each element one to the left. For example, shift_left([1, 2, 3, 4]) should return:\n",
    "\n",
    "[2, 3, 4, 1]"
   ]
  },
  {
   "cell_type": "code",
   "execution_count": null,
   "id": "5312a5c8",
   "metadata": {},
   "outputs": [],
   "source": [
    "#\n",
    "# Your code goes here\n",
    "#"
   ]
  },
  {
   "cell_type": "markdown",
   "id": "e95f478f",
   "metadata": {},
   "source": [
    "#### 11. print_2d_list\n",
    "\n",
    "Write a function that takes as input a list of lists and prints out each sub-element, one at a time. For example, print_2d_list([[1,2],[3,4]]) should print:\n",
    "\n",
    "1\\\n",
    "2\\\n",
    "3\\\n",
    "4"
   ]
  },
  {
   "cell_type": "code",
   "execution_count": null,
   "id": "c061508f",
   "metadata": {},
   "outputs": [],
   "source": [
    "#\n",
    "# Your code goes here\n",
    "#"
   ]
  },
  {
   "cell_type": "markdown",
   "id": "8a290375",
   "metadata": {},
   "source": [
    "#### 12. What does this function do?"
   ]
  },
  {
   "cell_type": "code",
   "execution_count": null,
   "id": "becda1ee",
   "metadata": {},
   "outputs": [],
   "source": [
    "def mystery_function(x):\n",
    "    s = x/2\n",
    "    t = s+2\n",
    "    u = s*10\n",
    "    return u\n",
    "\n",
    "mystery_function(10)"
   ]
  },
  {
   "cell_type": "markdown",
   "id": "e8ca6ef9",
   "metadata": {},
   "source": [
    "#### 13. What does this function do?"
   ]
  },
  {
   "cell_type": "code",
   "execution_count": null,
   "id": "a480c825",
   "metadata": {},
   "outputs": [],
   "source": [
    "def mystery_function2(x, n):\n",
    "    s = x**n / n\n",
    "    return s\n",
    "\n",
    "mystery_function2(4, 5)"
   ]
  },
  {
   "cell_type": "markdown",
   "id": "3143b3b3",
   "metadata": {},
   "source": [
    "#### 14. What does this function do?"
   ]
  },
  {
   "cell_type": "code",
   "execution_count": null,
   "id": "27f6ff5a",
   "metadata": {},
   "outputs": [],
   "source": [
    "def mystery_function3(l, n):\n",
    "    s = []\n",
    "    for i in l:\n",
    "        s.append(i*n)\n",
    "    return s\n",
    "\n",
    "mystery_function3([1, 2, 3, 4, 5], 5)"
   ]
  },
  {
   "cell_type": "markdown",
   "id": "1eb72758",
   "metadata": {},
   "source": [
    "#### 15. What does this function do?"
   ]
  },
  {
   "cell_type": "code",
   "execution_count": null,
   "id": "0d71f968",
   "metadata": {},
   "outputs": [],
   "source": [
    "def mystery_function4(s):\n",
    "    n = \"\"\n",
    "    for i in range(1, len(s)+1):\n",
    "        n += s[-i]\n",
    "    return n\n",
    "\n",
    "mystery_function4(\"Hello World\")"
   ]
  },
  {
   "cell_type": "markdown",
   "id": "98c97558",
   "metadata": {},
   "source": [
    "#### 16. What does this function do?"
   ]
  },
  {
   "cell_type": "code",
   "execution_count": null,
   "id": "f6c7bebb",
   "metadata": {},
   "outputs": [],
   "source": [
    "def mystery_function5(l):\n",
    "    s = \"\"\n",
    "    for i in l:\n",
    "        s += i\n",
    "        s += \" \"\n",
    "    return s\n",
    "\n",
    "mystery_function5([\"Hello\", \"World\", \"here\", \"I\", \"am\"])"
   ]
  },
  {
   "cell_type": "markdown",
   "id": "f56c3ed3",
   "metadata": {},
   "source": [
    "#### 17. What does this function do?"
   ]
  },
  {
   "cell_type": "code",
   "execution_count": null,
   "id": "77f9c3c8",
   "metadata": {},
   "outputs": [],
   "source": [
    "def mystery_function6(s, delim):\n",
    "    return s.split(delim)\n",
    "\n",
    "print(mystery_function6(\"My favourite meal is sushi\", delim=\" \"))\n",
    "print(mystery_function6(\"I live at 123, Fake Street, FP, Fake Country, H7D H8L\", delim=\",\"))"
   ]
  },
  {
   "cell_type": "markdown",
   "id": "5cf1a036",
   "metadata": {},
   "source": [
    "#### 18. What does this function do?"
   ]
  },
  {
   "cell_type": "code",
   "execution_count": null,
   "id": "c8cd9077",
   "metadata": {},
   "outputs": [],
   "source": [
    "def mystery_function7(l):\n",
    "    n = []\n",
    "    for i in l:\n",
    "        for j in i:\n",
    "            n.append(j)\n",
    "    return n\n",
    "\n",
    "mystery_function7([[1,2,3],[4,5],[6,7,8]])"
   ]
  },
  {
   "cell_type": "code",
   "execution_count": null,
   "id": "b9183679",
   "metadata": {},
   "outputs": [],
   "source": []
  }
 ],
 "metadata": {
  "kernelspec": {
   "display_name": "Python 3 (ipykernel)",
   "language": "python",
   "name": "python3"
  },
  "language_info": {
   "codemirror_mode": {
    "name": "ipython",
    "version": 3
   },
   "file_extension": ".py",
   "mimetype": "text/x-python",
   "name": "python",
   "nbconvert_exporter": "python",
   "pygments_lexer": "ipython3",
   "version": "3.10.6"
  }
 },
 "nbformat": 4,
 "nbformat_minor": 5
}
