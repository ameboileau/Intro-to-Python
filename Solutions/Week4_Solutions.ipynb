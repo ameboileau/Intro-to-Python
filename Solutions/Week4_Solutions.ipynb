{
 "cells": [
  {
   "cell_type": "markdown",
   "id": "fe56a2ff",
   "metadata": {},
   "source": [
    "# Week 3: Functions and Packages"
   ]
  },
  {
   "cell_type": "markdown",
   "id": "0f6b1425",
   "metadata": {},
   "source": [
    "### Exercise 1:\n",
    "\n",
    "An object's weight is given by the following equation:\n",
    "\n",
    "\\begin{equation}\n",
    "W = mg,\n",
    "\\end{equation}\n",
    "\n",
    "where $W$ is the weight (in Newtons), $m$ is the mass (in kg) and $g$ is the gravitational acceleration (in N/kg). Write a function that takes in variables m and g and calculates an object's weight.\n",
    "\n",
    "*(On Earth, the gravitational acceleration has a value of 9.8 N/kg)*"
   ]
  },
  {
   "cell_type": "code",
   "execution_count": 3,
   "id": "387c1868",
   "metadata": {},
   "outputs": [
    {
     "name": "stdout",
     "output_type": "stream",
     "text": [
      "588.0\n",
      "\n",
      "    Function that calculates an object's weight give\n",
      "    m: mass in kg (float)\n",
      "    g: gravitational acceleration in N/kg (float)\n",
      "    \n"
     ]
    }
   ],
   "source": [
    "def weight(m, g):\n",
    "    '''\n",
    "    Function that calculates an object's weight give\n",
    "    m: mass in kg (float)\n",
    "    g: gravitational acceleration in N/kg (float)\n",
    "    '''\n",
    "    \n",
    "    w = m*g\n",
    "    \n",
    "    return w\n",
    "    \n",
    "mass = 60\n",
    "grav = 9.8\n",
    "w = weight(mass, grav)\n",
    "\n",
    "print(w)\n",
    "    \n",
    "print(weight.__doc__)  # print out the function description"
   ]
  },
  {
   "cell_type": "markdown",
   "id": "b47c76f5",
   "metadata": {},
   "source": [
    "### Exercise 2:\n",
    "\n",
    "In Exercise 1, we calculated an object's weight in Newtons given their mass in kg and the gravitational acceleration on Earth. However, people don't generally know or care about Newtons, so let's write a function that converts Newtons to pounds using the fact that $1N = 0.224809 lbs$. Your function should take as input the weight in Newtons."
   ]
  },
  {
   "cell_type": "code",
   "execution_count": 4,
   "id": "0c61687d",
   "metadata": {},
   "outputs": [
    {
     "name": "stdout",
     "output_type": "stream",
     "text": [
      "132.187692\n"
     ]
    }
   ],
   "source": [
    "def convert_n_to_lbs(w):\n",
    "    '''\n",
    "    Function that converts Newtons to pounds given\n",
    "    w: weight in Newtons (float)\n",
    "    '''\n",
    "    \n",
    "    lbs = 0.224809*w\n",
    "    \n",
    "    return lbs\n",
    "    \n",
    "lbs = convert_n_to_lbs(w)\n",
    "\n",
    "print(lbs)"
   ]
  },
  {
   "cell_type": "markdown",
   "id": "9992f2cc",
   "metadata": {},
   "source": [
    "### Exercise 3:\n",
    "\n",
    "You buy a house for $L$ dollars, for which you obviously need a mortgage. Your mortgage interest rate is $r$ and the amortization period is $n$ months. You will be paying your mortgage monthly. We'll use the following simplified model to compute the fixed monthly payment ($P$) required to fully amortize this loan:\n",
    "\n",
    "\\begin{equation}\n",
    "P = L \\frac{c(1+c)^n}{(1+c)^n - 1},\n",
    "\\end{equation}\n",
    "\n",
    "where $c$ is the *monthly* interest rate ($c = r/12$).\n",
    "\n",
    "Your task: Write a function that calculates the fixed monthly payment ($P$) given $L$, $r$, and $n$."
   ]
  },
  {
   "cell_type": "code",
   "execution_count": 9,
   "id": "fc0c7caa",
   "metadata": {},
   "outputs": [
    {
     "name": "stdout",
     "output_type": "stream",
     "text": [
      "981.2518710394727\n"
     ]
    }
   ],
   "source": [
    "def fixed_payment(L, r, n):\n",
    "    '''\n",
    "    Function that calculates the fixed monthly payment required to amortize a loan given\n",
    "    L: loan value in $ (float)\n",
    "    r: mortgage interest rate (float)\n",
    "    n: amortization period in months (int)\n",
    "    '''\n",
    "    \n",
    "    c = r/12\n",
    "    p = L * (c * (1 + c)**n)/((1 + c)**n - 1)\n",
    "    \n",
    "    return p\n",
    "\n",
    "\n",
    "loan = 235000\n",
    "r = 0.0187\n",
    "n = 25*12\n",
    "\n",
    "fp = fixed_payment(loan, r, n)\n",
    "\n",
    "print(fp)\n",
    "    "
   ]
  },
  {
   "cell_type": "markdown",
   "id": "727c6774",
   "metadata": {},
   "source": [
    "### Exercise 4:\n",
    "\n",
    "Given an annual taxable income of $x$ dollars, calculate the amount of Canadian federal taxes paid by this individual using the following [simplified model](https://www.canada.ca/en/revenue-agency/services/tax/individuals/frequently-asked-questions-individuals/canadian-income-tax-rates-individuals-current-previous-years.html):\n",
    "\n",
    "- 15\\% on the first $50,197 of taxable income, plus\n",
    "\n",
    "- 20.5\\% on the next $50,195 of taxable income, plus\n",
    "\n",
    "- 26\\% on the next $55,233 of taxable income, plus\n",
    "\n",
    "- 29\\% on the next $66,083 of taxable income, plus\n",
    "\n",
    "- 33\\% of taxable income over $221,708"
   ]
  },
  {
   "cell_type": "code",
   "execution_count": 19,
   "id": "7f63f114",
   "metadata": {},
   "outputs": [
    {
     "name": "stdout",
     "output_type": "stream",
     "text": [
      "0 50197\n",
      "1 50195\n",
      "2 49608\n",
      "Income: 150000\n",
      "Federal taxes: 30717.6\n",
      "Income after federal taxes: 119282.4\n"
     ]
    }
   ],
   "source": [
    "def federal_taxes(x):\n",
    "    '''\n",
    "    Function to calculate the amount of federal taxes paid given\n",
    "    x: annual taxable income in $CAD (float)\n",
    "    '''\n",
    "    taxes = 0\n",
    "    counter = 0\n",
    "    while x > 0:\n",
    "        \n",
    "        if counter == 0:\n",
    "\n",
    "            amount = min(50197, x)\n",
    "            taxes += 0.15*amount\n",
    "            x -= amount\n",
    "            print(counter, amount)\n",
    "            \n",
    "        elif counter == 1:\n",
    "            \n",
    "            amount = min(50195, x)\n",
    "            taxes += 0.205*amount\n",
    "            x -= amount\n",
    "            print(counter, amount)\n",
    "            \n",
    "        elif counter == 2:\n",
    "            \n",
    "            amount = min(55233, x)\n",
    "            taxes += 0.26*amount\n",
    "            x -= amount\n",
    "            print(counter, amount)\n",
    "            \n",
    "        elif counter == 3:\n",
    "            \n",
    "            amount = min(66083, x)\n",
    "            taxes += 0.29*amount\n",
    "            x -= amount\n",
    "            print(counter, amount)\n",
    "            \n",
    "        elif counter == 4:\n",
    "            \n",
    "            amount = x\n",
    "            taxes += 0.33*amount\n",
    "            x -= amount\n",
    "            print(counter, amount)\n",
    "            \n",
    "        else:\n",
    "            print(\"Something went wrong\")\n",
    "            print(\"Expected counter < 5\")\n",
    "            break  # This is a useful way to make sure your while loop doesn't turn into an infinite loop!\n",
    "        \n",
    "        counter += 1\n",
    "        \n",
    "    return taxes\n",
    "    \n",
    "\n",
    "income = 150000\n",
    "\n",
    "taxes = federal_taxes(income)\n",
    "\n",
    "print(\"Income:\", income)\n",
    "print(\"Federal taxes:\", round(taxes,2))\n",
    "print(\"Income after federal taxes:\", round(income-taxes,2))\n",
    "\n",
    "# Note: the 'round(value, n)' function rounds a value to n decimal places"
   ]
  },
  {
   "cell_type": "markdown",
   "id": "63c80c8b",
   "metadata": {},
   "source": [
    "### Exercise 5:\n",
    "\n",
    "Write a function that takes as input an array of $x$ values, a parameter $\\sigma$, and a parameter $\\mu$, and returns the following $y$ values:\n",
    "\n",
    "$$\n",
    "y = \\frac{1}{\\sqrt{2 \\pi \\sigma^2}} \\exp\\left(-\\frac{(x - \\mu)^2}{2 \\sigma^2}\\right)\n",
    "$$\n",
    "\n",
    "where $\\exp(x)$ is the natural exponential function $e^x$ (with $e$ being [Euler's number](https://en.wikipedia.org/wiki/E_(mathematical_constant))).\n",
    "\n",
    "This function is called the [Gaussian (or Normal) distribution](https://en.wikipedia.org/wiki/Normal_distribution)."
   ]
  },
  {
   "cell_type": "code",
   "execution_count": 20,
   "id": "d1232227",
   "metadata": {},
   "outputs": [],
   "source": [
    "import numpy as np"
   ]
  },
  {
   "cell_type": "code",
   "execution_count": 4,
   "id": "3ab4e31e",
   "metadata": {
    "scrolled": false
   },
   "outputs": [
    {
     "name": "stdout",
     "output_type": "stream",
     "text": [
      "[0.00221592 0.00224939 0.00228329 ... 0.00231766 0.00228329 0.00224939]\n"
     ]
    }
   ],
   "source": [
    "def gaussian(x, sigma, mu):\n",
    "    '''\n",
    "    Function that calculates the Gaussian probability centered on mu with standard deviation sigma for a random variable x\n",
    "    x: random variable (float)\n",
    "    sigma: Gaussian standard deviation (float)\n",
    "    mu: Gaussian mean (float)\n",
    "    '''\n",
    "    \n",
    "    f = 1/np.sqrt(2*np.pi*sigma**2) * np.exp(- (x - mu)**2/(2*sigma**2))\n",
    "    \n",
    "    return f\n",
    "    \n",
    "sigma = 2\n",
    "mu = 0\n",
    "\n",
    "low = -(mu + 3*sigma)\n",
    "high = mu + 3*sigma\n",
    "\n",
    "x = np.arange(low, high, step=0.01)\n",
    "y = gaussian(x, sigma, mu)\n",
    "\n",
    "print(y)"
   ]
  },
  {
   "cell_type": "code",
   "execution_count": 45,
   "id": "3091feca",
   "metadata": {},
   "outputs": [],
   "source": [
    "# Run the following cell to see what your function looks like in a graph!"
   ]
  },
  {
   "cell_type": "code",
   "execution_count": 46,
   "id": "23902c03",
   "metadata": {
    "scrolled": true
   },
   "outputs": [
    {
     "data": {
      "image/png": "[encoded data removed]",
      "text/plain": [
       "<Figure size 432x288 with 1 Axes>"
      ]
     },
     "metadata": {
      "needs_background": "light"
     },
     "output_type": "display_data"
    }
   ],
   "source": [
    "import matplotlib.pyplot as plt\n",
    "\n",
    "plt.plot(x, y, color='blue')\n",
    "plt.title(r\"Gaussian Distribution for $\\mu$=\"+str(mu)+r\" and $\\sigma$=\"+str(sigma), y=1.03)\n",
    "plt.axvline(mu, color='red')\n",
    "plt.grid()\n",
    "plt.show()"
   ]
  },
  {
   "cell_type": "markdown",
   "id": "28e03453",
   "metadata": {},
   "source": [
    "### Exercise 6:\n",
    "\n",
    "Given an array of random x values, we will calculate several statistics, including...\n",
    "\n",
    "- the mean\n",
    "- the median\n",
    "- the standard deviation\n",
    "- the variance"
   ]
  },
  {
   "cell_type": "code",
   "execution_count": 50,
   "id": "64b512b6",
   "metadata": {},
   "outputs": [
    {
     "name": "stdout",
     "output_type": "stream",
     "text": [
      "Mean: 0.4817707209780309\n",
      "Median: 0.48013716400893264\n",
      "Standard deviation 0.28309096980006565\n",
      "Variance 0.08014049718234167\n"
     ]
    }
   ],
   "source": [
    "x = np.random.random(size=1000)\n",
    "\n",
    "mean = np.mean(x)\n",
    "med = np.median(x)\n",
    "std = np.std(x)\n",
    "var = np.var(x)\n",
    "\n",
    "print(\"Mean:\", mean)\n",
    "print(\"Median:\", med)\n",
    "print(\"Standard deviation\", std)\n",
    "print(\"Variance\", var)"
   ]
  },
  {
   "cell_type": "markdown",
   "id": "d0786ee3",
   "metadata": {},
   "source": [
    "### Exercise 7:\n",
    "\n",
    "Conservation of energy states that an object's total energy must be conserved at all times. Consider the total mechanical energy of an object:\n",
    "\n",
    "\\begin{equation}\n",
    "E = K + U\n",
    "\\end{equation}\n",
    "\n",
    "where $K$ is the object's kinetic energy, and $U$ its potential energy. The kinetic energy is given by:\n",
    "\n",
    "\\begin{equation}\n",
    "K = \\frac{1}{2} m v^2,\n",
    "\\end{equation}\n",
    "\n",
    "where $m$ is the object's mass (kg) and $v$ is its velocity (m/s). $E$, $K$, and $U$ are all measured in Joules (J).\n",
    "\n",
    "Your task: You are given the following:\n",
    "\n",
    "- The object's total energy $E$\n",
    "- The object's potential energy at several points in time\n",
    "\n",
    "Write a function to calculate that object's velocity at those times for a given mass $m$.\n"
   ]
  },
  {
   "cell_type": "code",
   "execution_count": 53,
   "id": "d56d7974",
   "metadata": {},
   "outputs": [
    {
     "name": "stdout",
     "output_type": "stream",
     "text": [
      "[0.         1.82574186 3.16227766 4.28174419 5.16397779 5.77350269]\n"
     ]
    }
   ],
   "source": [
    "E = 1000\n",
    "U = np.array([1000, 900, 700, 450, 200, 0])\n",
    "\n",
    "def velocity(E, U, m):\n",
    "    '''\n",
    "    Function that calculates an object's velocity given\n",
    "    E: total energy in Joules (float)\n",
    "    U: potential energy in Joules (float)\n",
    "    m: mass in kg (float)\n",
    "    '''\n",
    "    \n",
    "    # Kinetic energy\n",
    "    K = E - U\n",
    "    \n",
    "    # Velocity\n",
    "    v = np.sqrt(2*K/m)\n",
    "    \n",
    "    return v\n",
    "    \n",
    "mass = 60\n",
    "\n",
    "v = velocity(E, U, mass)\n",
    "\n",
    "print(v)"
   ]
  },
  {
   "cell_type": "code",
   "execution_count": null,
   "id": "894b6758",
   "metadata": {},
   "outputs": [],
   "source": []
  }
 ],
 "metadata": {
  "kernelspec": {
   "display_name": "Python 3 (ipykernel)",
   "language": "python",
   "name": "python3"
  },
  "language_info": {
   "codemirror_mode": {
    "name": "ipython",
    "version": 3
   },
   "file_extension": ".py",
   "mimetype": "text/x-python",
   "name": "python",
   "nbconvert_exporter": "python",
   "pygments_lexer": "ipython3",
   "version": "3.10.5"
  }
 },
 "nbformat": 4,
 "nbformat_minor": 5
}
