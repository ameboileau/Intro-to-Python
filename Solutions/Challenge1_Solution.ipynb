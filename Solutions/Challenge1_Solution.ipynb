{
 "cells": [
  {
   "cell_type": "code",
   "execution_count": 1,
   "id": "ffec11fd",
   "metadata": {},
   "outputs": [],
   "source": [
    "# Importing packages...\n",
    "\n",
    "import numpy as np\n",
    "import matplotlib.pyplot as plt\n",
    "from tqdm import tqdm"
   ]
  },
  {
   "cell_type": "code",
   "execution_count": 2,
   "id": "6557bc70",
   "metadata": {},
   "outputs": [
    {
     "name": "stdout",
     "output_type": "stream",
     "text": [
      "3.141592653589793\n",
      "3.2\n",
      "3.116\n",
      "3.13684\n",
      "3.1416252\n",
      "3.1336\n"
     ]
    }
   ],
   "source": [
    "def estimate_pi(n):\n",
    "    '''\n",
    "    Function description goes here\n",
    "    '''\n",
    "    \n",
    "    x = np.random.random(size=n)\n",
    "    y = np.random.random(size=n)\n",
    "    \n",
    "    num_inside = 0\n",
    "    for i in range(x.size):\n",
    "        \n",
    "        if x[i]**2 + y[i]**2 <= 1:\n",
    "            num_inside += 1\n",
    "            \n",
    "    ratio = num_inside/n\n",
    "    \n",
    "    pi = ratio*4\n",
    "    \n",
    "    return pi, x, y\n",
    "    \n",
    "print(np.pi)\n",
    "print(estimate_pi(10)[0])\n",
    "print(estimate_pi(1000)[0])\n",
    "print(estimate_pi(100000)[0])\n",
    "print(estimate_pi(10000000)[0])\n",
    "pi, x, y = estimate_pi(10000)\n",
    "print(pi)"
   ]
  },
  {
   "cell_type": "code",
   "execution_count": 3,
   "id": "5072c9d6",
   "metadata": {},
   "outputs": [],
   "source": [
    "# Run the cell below to visualize your output!"
   ]
  },
  {
   "cell_type": "code",
   "execution_count": 4,
   "id": "4b36ea09",
   "metadata": {},
   "outputs": [
    {
     "name": "stderr",
     "output_type": "stream",
     "text": [
      "100%|████████████████████████████████████████████████████████████████████████████| 10000/10000 [02:28<00:00, 67.40it/s]\n"
     ]
    },
    {
     "data": {
      "image/png": "[encoded data removed]",
      "text/plain": [
       "<Figure size 432x288 with 1 Axes>"
      ]
     },
     "metadata": {
      "needs_background": "light"
     },
     "output_type": "display_data"
    }
   ],
   "source": [
    "from tqdm import tqdm\n",
    "\n",
    "for i in tqdm(range(x.size)):\n",
    "    if x[i]**2 + y[i]**2 <= 1:\n",
    "        plt.scatter(x[i], y[i], color='red')\n",
    "    else:\n",
    "        plt.scatter(x[i], y[i], color='blue')\n",
    "        \n",
    "plt.title(\"Estimating $\\pi$ using a Monte Carlo method\"+\"\\nCurrent estimate: \"+str(pi))\n",
    "plt.xlabel(\"x\")\n",
    "plt.ylabel(\"y\")\n",
    "plt.show()"
   ]
  },
  {
   "cell_type": "code",
   "execution_count": null,
   "id": "7bafa7fc",
   "metadata": {},
   "outputs": [],
   "source": []
  }
 ],
 "metadata": {
  "kernelspec": {
   "display_name": "Python 3 (ipykernel)",
   "language": "python",
   "name": "python3"
  },
  "language_info": {
   "codemirror_mode": {
    "name": "ipython",
    "version": 3
   },
   "file_extension": ".py",
   "mimetype": "text/x-python",
   "name": "python",
   "nbconvert_exporter": "python",
   "pygments_lexer": "ipython3",
   "version": "3.10.5"
  }
 },
 "nbformat": 4,
 "nbformat_minor": 5
}
