{
 "cells": [
  {
   "cell_type": "code",
   "execution_count": 1,
   "id": "78973b2a",
   "metadata": {},
   "outputs": [],
   "source": [
    "import numpy as np"
   ]
  },
  {
   "cell_type": "code",
   "execution_count": 2,
   "id": "00f4e722",
   "metadata": {},
   "outputs": [
    {
     "name": "stdout",
     "output_type": "stream",
     "text": [
      "Please enter an integer between 0 and 100: 50\n",
      "Your guess is too large\n",
      "\n",
      "Please enter an integer between 0 and 100: 25\n",
      "Your guess is too small\n",
      "\n",
      "Please enter an integer between 0 and 100: 30\n",
      "Your guess is too small\n",
      "\n",
      "Please enter an integer between 0 and 100: 40\n",
      "Your guess is too small\n",
      "\n",
      "Please enter an integer between 0 and 100: 45\n",
      "Your guess is too small\n",
      "\n",
      "Please enter an integer between 0 and 100: 47\n",
      "Your guess is too large\n",
      "\n",
      "Please enter an integer between 0 and 100: 46\n",
      "Correct!\n"
     ]
    }
   ],
   "source": [
    "mystery_number = np.random.randint(0,100)\n",
    "\n",
    "guess = False\n",
    "\n",
    "while not guess:\n",
    "    \n",
    "    user_guess = int(input(\"Please enter an integer between 0 and 100: \"))\n",
    "    \n",
    "    if user_guess < mystery_number:\n",
    "        print(\"Your guess is too small\\n\")\n",
    "        \n",
    "    elif user_guess > mystery_number:\n",
    "        print(\"Your guess is too large\\n\")\n",
    "        \n",
    "    else:\n",
    "        print(\"Correct!\")\n",
    "        guess = True"
   ]
  },
  {
   "cell_type": "code",
   "execution_count": null,
   "id": "e00eecbd",
   "metadata": {},
   "outputs": [],
   "source": []
  }
 ],
 "metadata": {
  "kernelspec": {
   "display_name": "Python 3 (ipykernel)",
   "language": "python",
   "name": "python3"
  },
  "language_info": {
   "codemirror_mode": {
    "name": "ipython",
    "version": 3
   },
   "file_extension": ".py",
   "mimetype": "text/x-python",
   "name": "python",
   "nbconvert_exporter": "python",
   "pygments_lexer": "ipython3",
   "version": "3.10.5"
  }
 },
 "nbformat": 4,
 "nbformat_minor": 5
}
