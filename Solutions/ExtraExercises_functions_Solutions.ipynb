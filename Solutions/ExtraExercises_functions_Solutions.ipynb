{
 "cells": [
  {
   "cell_type": "code",
   "execution_count": 1,
   "id": "6d2a426b",
   "metadata": {},
   "outputs": [],
   "source": [
    "# Import list...\n",
    "\n",
    "import numpy as np"
   ]
  },
  {
   "cell_type": "markdown",
   "id": "834b2ebb",
   "metadata": {},
   "source": [
    "# Extra Exercises: Functions"
   ]
  },
  {
   "cell_type": "markdown",
   "id": "2fbb048e",
   "metadata": {},
   "source": [
    "#### 1. is_a_vowel\n",
    "\n",
    "Initialize a \"vowels\" string object containing all the vowels of the alphabet. Then, write a function that checks whether the input is a vowel. Your function should return \"True\" if the input is a vowel, and \"False\" otherwise."
   ]
  },
  {
   "cell_type": "code",
   "execution_count": 2,
   "id": "f24de8b0",
   "metadata": {},
   "outputs": [
    {
     "name": "stdout",
     "output_type": "stream",
     "text": [
      "True\n",
      "False\n",
      "True\n",
      "False\n"
     ]
    }
   ],
   "source": [
    "vowels = \"aeiouy\"\n",
    "\n",
    "def is_a_vowel(c):\n",
    "    \"\"\"\n",
    "    Function that checks whether c is a vowel or not, where\n",
    "    c: string (unicharacter)\n",
    "    \"\"\"\n",
    "    # Make sure it still works even if c is capitalized...\n",
    "    c = c.lower()  # ... Turn c into lowercase!\n",
    "    \n",
    "    if c in vowels:\n",
    "        return True\n",
    "    \n",
    "    return False\n",
    "    \n",
    "print(is_a_vowel('a'))\n",
    "print(is_a_vowel('b'))\n",
    "print(is_a_vowel('E'))\n",
    "print(is_a_vowel('Z'))"
   ]
  },
  {
   "cell_type": "markdown",
   "id": "ab929270",
   "metadata": {},
   "source": [
    "#### 2. count_vowels\n",
    "\n",
    "Write a function that takes a string as input and returns the number of vowels it contains."
   ]
  },
  {
   "cell_type": "code",
   "execution_count": 3,
   "id": "adf67484",
   "metadata": {},
   "outputs": [
    {
     "name": "stdout",
     "output_type": "stream",
     "text": [
      "2\n",
      "12\n",
      "17\n"
     ]
    }
   ],
   "source": [
    "def count_vowels(s):\n",
    "    \"\"\"\n",
    "    Function that takes as input a string s and returns the number of vowels it contains, where:\n",
    "    s: string\n",
    "    \"\"\"\n",
    "    counter = 0\n",
    "    for i in s:\n",
    "        if is_a_vowel(i):\n",
    "            counter += 1\n",
    "    \n",
    "    return counter\n",
    "\n",
    "print(count_vowels(\"hello\"))\n",
    "print(count_vowels(\"The quick brown fox jumps over the lazy dog\"))\n",
    "print(count_vowels(\"AEIOUY, ce sont les voyelles de l'alphabet!\"))"
   ]
  },
  {
   "cell_type": "markdown",
   "id": "2211f954",
   "metadata": {},
   "source": [
    "#### 3. count_occurences\n",
    "\n",
    "Write a function that takes as input a string $s$ and a character $c$. The function should return how many times $c$ appears in $s$."
   ]
  },
  {
   "cell_type": "code",
   "execution_count": 4,
   "id": "ba69f019",
   "metadata": {},
   "outputs": [
    {
     "name": "stdout",
     "output_type": "stream",
     "text": [
      "2\n",
      "7\n",
      "6\n"
     ]
    }
   ],
   "source": [
    "def count_occurences(s, c):\n",
    "    \"\"\"\n",
    "    Function that returns how many times c appears in s, where\n",
    "    c: string (unicharacter)\n",
    "    s: string\n",
    "    \"\"\"\n",
    "    counter = 0\n",
    "    for i in s:\n",
    "        if i == c:\n",
    "            counter += 1\n",
    "            \n",
    "    return counter\n",
    "    \n",
    "print(count_occurences(\"hello\", \"l\"))\n",
    "print(count_occurences(\"She sells seashells by the seashore\", \"s\"))\n",
    "print(count_occurences(\"Les chemises de l'archiduchesse sont-elles seches ou archi seches?\", \"c\"))"
   ]
  },
  {
   "cell_type": "markdown",
   "id": "fa0e8cd5",
   "metadata": {},
   "source": [
    "#### 4. print_multiples\n",
    "\n",
    "Write a function that takes as input integers $n$ and $m$ and prints out $m$ multiples of $n$, starting from $n$. For example, print_multiples(n=5, m=4) should print the following:\n",
    "\n",
    "5\\\n",
    "10\\\n",
    "15\\\n",
    "20"
   ]
  },
  {
   "cell_type": "code",
   "execution_count": 5,
   "id": "0a04706a",
   "metadata": {},
   "outputs": [
    {
     "name": "stdout",
     "output_type": "stream",
     "text": [
      "5\n",
      "10\n",
      "15\n",
      "20\n"
     ]
    },
    {
     "data": {
      "text/plain": [
       "[5, 10, 15, 20]"
      ]
     },
     "execution_count": 5,
     "metadata": {},
     "output_type": "execute_result"
    }
   ],
   "source": [
    "def print_multiples(n, m, verbose=False):\n",
    "    \"\"\"\n",
    "    Function that prints out m multiples of n, starting from n, where:\n",
    "    n: integer\n",
    "    m: integer\n",
    "    \"\"\"\n",
    "    mults = []\n",
    "    for i in range(1, m+1):\n",
    "        if verbose:\n",
    "            print(n*i)\n",
    "        mults.append(n*i)\n",
    "        \n",
    "    return mults\n",
    "    \n",
    "print_multiples(5, 4, verbose=True)"
   ]
  },
  {
   "cell_type": "markdown",
   "id": "1cd87b91",
   "metadata": {},
   "source": [
    "#### 5. print_mult_table\n",
    "\n",
    "Write a function that takes as input $rows$ and $columns$ and prints out a multiplication table with the required number of rows and columns. For example, print_mult_table(rows=3, columns=3) should print:\n",
    "\n",
    "1  2  3\n",
    "\n",
    "2  4  6\n",
    "\n",
    "3  6  9\n",
    "\n",
    "(Hint: use the function you wrote in exercise 4)"
   ]
  },
  {
   "cell_type": "code",
   "execution_count": 6,
   "id": "0b07e2f8",
   "metadata": {},
   "outputs": [
    {
     "name": "stdout",
     "output_type": "stream",
     "text": [
      "[[ 1  2  3  4  5]\n",
      " [ 2  4  6  8 10]\n",
      " [ 3  6  9 12 15]]\n",
      "\n",
      "\n",
      "[[ 1  2  3  4  5  6  7]\n",
      " [ 2  4  6  8 10 12 14]\n",
      " [ 3  6  9 12 15 18 21]\n",
      " [ 4  8 12 16 20 24 28]\n",
      " [ 5 10 15 20 25 30 35]\n",
      " [ 6 12 18 24 30 36 42]]\n"
     ]
    }
   ],
   "source": [
    "def print_mult_table(rows, cols):\n",
    "    \"\"\"\n",
    "    Function that prints out a multiplication with the given number of rows and columns, where\n",
    "    rows: integer\n",
    "    cols: integer\n",
    "    \"\"\"\n",
    "    table = []\n",
    "    \n",
    "    for i in range(1, rows+1):\n",
    "        \n",
    "        table.append(print_multiples(i, cols))\n",
    "        \n",
    "    print(np.asarray(table))\n",
    "    \n",
    "print_mult_table(3, 5)\n",
    "print(\"\\n\")  # The \\n character is a linebreak\n",
    "print_mult_table(6, 7)"
   ]
  },
  {
   "cell_type": "markdown",
   "id": "bc664d29",
   "metadata": {},
   "source": [
    "#### 6. increase_by_index\n",
    "\n",
    "Write a function that takes as input a list of integers and increases the value of each element in the list by its index. For example, increase_by_index([1, 2, 3, 4, 5]) should return:\n",
    "\n",
    "[1, 3, 5, 7, 9]"
   ]
  },
  {
   "cell_type": "code",
   "execution_count": 7,
   "id": "72b7af52",
   "metadata": {},
   "outputs": [
    {
     "data": {
      "text/plain": [
       "[1, 3, 5, 7, 9]"
      ]
     },
     "execution_count": 7,
     "metadata": {},
     "output_type": "execute_result"
    }
   ],
   "source": [
    "def increase_by_index(l):\n",
    "    \"\"\"\n",
    "    Function that increases each element in l by its index, where\n",
    "    l: list of integers\n",
    "    \"\"\"\n",
    "    new_list = []\n",
    "    for i in range(len(l)):\n",
    "        new_list.append(l[i]+i)\n",
    "    \n",
    "    return new_list\n",
    "\n",
    "increase_by_index([1, 2, 3, 4, 5])"
   ]
  },
  {
   "cell_type": "markdown",
   "id": "1f42168b",
   "metadata": {},
   "source": [
    "#### 7. get_smallest\n",
    "\n",
    "Write a function that takes as input a list of integers and returns the smallest one. For example, get_smallest([5, 0, -3, 1, 9]) should return:\n",
    "\n",
    "-3"
   ]
  },
  {
   "cell_type": "code",
   "execution_count": 8,
   "id": "3017d10f",
   "metadata": {},
   "outputs": [
    {
     "data": {
      "text/plain": [
       "-3"
      ]
     },
     "execution_count": 8,
     "metadata": {},
     "output_type": "execute_result"
    }
   ],
   "source": [
    "def get_smallest(l):\n",
    "    \"\"\"\n",
    "    Function that returns the smallest element in l, where:\n",
    "    l: list of integers\n",
    "    \"\"\"\n",
    "    \n",
    "    smallest = l[0]\n",
    "    for i in l:\n",
    "        if i < smallest:\n",
    "            smallest = i\n",
    "            \n",
    "    return smallest\n",
    "\n",
    "get_smallest([3, 0, -3, 5, 1, 9])"
   ]
  },
  {
   "cell_type": "markdown",
   "id": "9baa0e05",
   "metadata": {},
   "source": [
    "#### 8. get_random_list\n",
    "\n",
    "Write a function that takes as input an integer $n$ and returns a list (or an array) containing $n$ random numbers between 0 and 1. For example, get_random_list(5) might return:\n",
    "\n",
    "[0.345345, 0.124044, 0.343985, 0.998534, 0.2353458]\n",
    "\n",
    "(Hint: Use the function $\\texttt{numpy.random.random()}$)"
   ]
  },
  {
   "cell_type": "code",
   "execution_count": 9,
   "id": "7560d591",
   "metadata": {},
   "outputs": [
    {
     "data": {
      "text/plain": [
       "[0.6356113640316838,\n",
       " 0.22919552739392834,\n",
       " 0.17463250627064575,\n",
       " 0.9024077409203121,\n",
       " 0.644502151763653,\n",
       " 0.9317108682202716,\n",
       " 0.028219005804993036,\n",
       " 0.11942788008873995,\n",
       " 0.8457801122511206,\n",
       " 0.18367225529735676]"
      ]
     },
     "execution_count": 9,
     "metadata": {},
     "output_type": "execute_result"
    }
   ],
   "source": [
    "def get_random_list(n):\n",
    "    \"\"\"\n",
    "    Generate a list with n randomly generated data points between 0 and 1, where:\n",
    "    n: integer\n",
    "    \"\"\"\n",
    "    random_list = []\n",
    "    for i in range(n):\n",
    "        random_list.append(np.random.random())\n",
    "        \n",
    "    return random_list\n",
    "\n",
    "get_random_list(10)"
   ]
  },
  {
   "cell_type": "markdown",
   "id": "96590cb0",
   "metadata": {},
   "source": [
    "#### 9. swap_elements\n",
    "\n",
    "Write a function that takes as input a list and two integers $i$ and $j$. The function should swap the elements at the $i$th and $j$th index. For example, swap_elements([5, 6, 7, 8], 0, 2) should return:\n",
    "\n",
    "[7, 6, 5, 8]"
   ]
  },
  {
   "cell_type": "code",
   "execution_count": 10,
   "id": "81a8bd22",
   "metadata": {},
   "outputs": [
    {
     "data": {
      "text/plain": [
       "[7, 6, 5, 8]"
      ]
     },
     "execution_count": 10,
     "metadata": {},
     "output_type": "execute_result"
    }
   ],
   "source": [
    "def swap_elements(l, i, j):\n",
    "    \"\"\"\n",
    "    Swaps the ith and jth element in l, where:\n",
    "    l: list\n",
    "    i: integer (<= length of list)\n",
    "    j: integer (<= length of list)\n",
    "    \"\"\"\n",
    "    \n",
    "    ith_element = l[i]\n",
    "    \n",
    "    l[i] = l[j]\n",
    "    l[j] = ith_element\n",
    "    \n",
    "    return l\n",
    "\n",
    "swap_elements([5, 6, 7, 8], 0, 2)"
   ]
  },
  {
   "cell_type": "markdown",
   "id": "62dc090c",
   "metadata": {},
   "source": [
    "#### 10. shift_left\n",
    "\n",
    "Write a function that takes as input a list and shifts each element one to the left. For example, shift_left([1, 2, 3, 4]) should return:\n",
    "\n",
    "[2, 3, 4, 1]"
   ]
  },
  {
   "cell_type": "code",
   "execution_count": 11,
   "id": "5312a5c8",
   "metadata": {},
   "outputs": [
    {
     "data": {
      "text/plain": [
       "[2, 3, 4, 1]"
      ]
     },
     "execution_count": 11,
     "metadata": {},
     "output_type": "execute_result"
    }
   ],
   "source": [
    "def shift_left(l):\n",
    "    \"\"\"\n",
    "    Function that shifts each element in l one place to the left, where:\n",
    "    l: list\n",
    "    \"\"\"\n",
    "    new_list = []\n",
    "    for i in range(len(l)):\n",
    "        if i == len(l)-1:\n",
    "            new_list.append(l[0])\n",
    "        else:\n",
    "            new_list.append(l[i+1])\n",
    "        \n",
    "    return new_list\n",
    "\n",
    "shift_left([1, 2, 3, 4])"
   ]
  },
  {
   "cell_type": "markdown",
   "id": "e95f478f",
   "metadata": {},
   "source": [
    "#### 11. print_2d_list\n",
    "\n",
    "Write a function that takes as input a list of lists and prints out each sub-element, one at a time. For example, print_2d_list([[1,2],[3,4]]) should print:\n",
    "\n",
    "1\\\n",
    "2\\\n",
    "3\\\n",
    "4"
   ]
  },
  {
   "cell_type": "code",
   "execution_count": 12,
   "id": "c061508f",
   "metadata": {},
   "outputs": [
    {
     "name": "stdout",
     "output_type": "stream",
     "text": [
      "1\n",
      "2\n",
      "3\n",
      "4\n",
      "5\n",
      "6\n"
     ]
    }
   ],
   "source": [
    "def print_2d_list(l):\n",
    "    \"\"\"\n",
    "    Function that prints out each sub-element in a 2D list of lists, where:\n",
    "    l: list of lists\n",
    "    \"\"\"\n",
    "    \n",
    "    for i in l:\n",
    "        for j in i:\n",
    "            print(j)\n",
    "            \n",
    "print_2d_list([[1,2,3],[4,5,6]])"
   ]
  },
  {
   "cell_type": "markdown",
   "id": "8a290375",
   "metadata": {},
   "source": [
    "#### 12. What does this function do?"
   ]
  },
  {
   "cell_type": "code",
   "execution_count": 13,
   "id": "becda1ee",
   "metadata": {},
   "outputs": [
    {
     "data": {
      "text/plain": [
       "50.0"
      ]
     },
     "execution_count": 13,
     "metadata": {},
     "output_type": "execute_result"
    }
   ],
   "source": [
    "def mystery_function(x):\n",
    "    s = x/2\n",
    "    t = s+2\n",
    "    u = s*10\n",
    "    return u\n",
    "\n",
    "mystery_function(10)"
   ]
  },
  {
   "cell_type": "markdown",
   "id": "e8ca6ef9",
   "metadata": {},
   "source": [
    "#### 13. What does this function do?"
   ]
  },
  {
   "cell_type": "code",
   "execution_count": 14,
   "id": "a480c825",
   "metadata": {},
   "outputs": [
    {
     "data": {
      "text/plain": [
       "204.8"
      ]
     },
     "execution_count": 14,
     "metadata": {},
     "output_type": "execute_result"
    }
   ],
   "source": [
    "def mystery_function2(x, n):\n",
    "    s = x**n / n\n",
    "    return s\n",
    "\n",
    "mystery_function2(4, 5)"
   ]
  },
  {
   "cell_type": "markdown",
   "id": "3143b3b3",
   "metadata": {},
   "source": [
    "#### 14. What does this function do?"
   ]
  },
  {
   "cell_type": "code",
   "execution_count": 15,
   "id": "27f6ff5a",
   "metadata": {},
   "outputs": [
    {
     "data": {
      "text/plain": [
       "[5, 10, 15, 20, 25]"
      ]
     },
     "execution_count": 15,
     "metadata": {},
     "output_type": "execute_result"
    }
   ],
   "source": [
    "def mystery_function3(l, n):\n",
    "    s = []\n",
    "    for i in l:\n",
    "        s.append(i*n)\n",
    "    return s\n",
    "\n",
    "mystery_function3([1, 2, 3, 4, 5], 5)"
   ]
  },
  {
   "cell_type": "markdown",
   "id": "1eb72758",
   "metadata": {},
   "source": [
    "#### 15. What does this function do?"
   ]
  },
  {
   "cell_type": "code",
   "execution_count": 16,
   "id": "0d71f968",
   "metadata": {},
   "outputs": [
    {
     "data": {
      "text/plain": [
       "'dlroW olleH'"
      ]
     },
     "execution_count": 16,
     "metadata": {},
     "output_type": "execute_result"
    }
   ],
   "source": [
    "def mystery_function4(s):\n",
    "    n = \"\"\n",
    "    for i in range(1, len(s)+1):\n",
    "        n += s[-i]\n",
    "    return n\n",
    "\n",
    "mystery_function4(\"Hello World\")"
   ]
  },
  {
   "cell_type": "markdown",
   "id": "98c97558",
   "metadata": {},
   "source": [
    "#### 16. What does this function do?"
   ]
  },
  {
   "cell_type": "code",
   "execution_count": 17,
   "id": "f6c7bebb",
   "metadata": {},
   "outputs": [
    {
     "data": {
      "text/plain": [
       "'Hello World here I am '"
      ]
     },
     "execution_count": 17,
     "metadata": {},
     "output_type": "execute_result"
    }
   ],
   "source": [
    "def mystery_function5(l):\n",
    "    s = \"\"\n",
    "    for i in l:\n",
    "        s += i\n",
    "        s += \" \"\n",
    "    return s\n",
    "\n",
    "mystery_function5([\"Hello\", \"World\", \"here\", \"I\", \"am\"])"
   ]
  },
  {
   "cell_type": "markdown",
   "id": "f56c3ed3",
   "metadata": {},
   "source": [
    "#### 17. What does this function do?"
   ]
  },
  {
   "cell_type": "code",
   "execution_count": 18,
   "id": "77f9c3c8",
   "metadata": {},
   "outputs": [
    {
     "name": "stdout",
     "output_type": "stream",
     "text": [
      "['My', 'favourite', 'meal', 'is', 'sushi']\n",
      "['I live at 123', ' Fake Street', ' FP', ' Fake Country', ' H7D H8L']\n"
     ]
    }
   ],
   "source": [
    "def mystery_function6(s, delim):\n",
    "    return s.split(delim)\n",
    "\n",
    "print(mystery_function6(\"My favourite meal is sushi\", delim=\" \"))\n",
    "print(mystery_function6(\"I live at 123, Fake Street, FP, Fake Country, H7D H8L\", delim=\",\"))"
   ]
  },
  {
   "cell_type": "markdown",
   "id": "5cf1a036",
   "metadata": {},
   "source": [
    "#### 18. What does this function do?"
   ]
  },
  {
   "cell_type": "code",
   "execution_count": 19,
   "id": "c8cd9077",
   "metadata": {},
   "outputs": [
    {
     "data": {
      "text/plain": [
       "[1, 2, 3, 4, 5, 6, 7, 8]"
      ]
     },
     "execution_count": 19,
     "metadata": {},
     "output_type": "execute_result"
    }
   ],
   "source": [
    "def mystery_function7(l):\n",
    "    n = []\n",
    "    for i in l:\n",
    "        for j in i:\n",
    "            n.append(j)\n",
    "    return n\n",
    "\n",
    "mystery_function7([[1,2,3],[4,5],[6,7,8]])"
   ]
  },
  {
   "cell_type": "code",
   "execution_count": null,
   "id": "b9183679",
   "metadata": {},
   "outputs": [],
   "source": []
  }
 ],
 "metadata": {
  "kernelspec": {
   "display_name": "Python 3 (ipykernel)",
   "language": "python",
   "name": "python3"
  },
  "language_info": {
   "codemirror_mode": {
    "name": "ipython",
    "version": 3
   },
   "file_extension": ".py",
   "mimetype": "text/x-python",
   "name": "python",
   "nbconvert_exporter": "python",
   "pygments_lexer": "ipython3",
   "version": "3.10.5"
  }
 },
 "nbformat": 4,
 "nbformat_minor": 5
}
