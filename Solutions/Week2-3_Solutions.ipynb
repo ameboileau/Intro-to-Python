{
 "cells": [
  {
   "cell_type": "markdown",
   "id": "511b4ddb",
   "metadata": {},
   "source": [
    "# Week 2: Error codes, lists, loops, and if statements"
   ]
  },
  {
   "cell_type": "markdown",
   "id": "0e9eadee",
   "metadata": {},
   "source": [
    "### Exercise 1: Debug the following cells"
   ]
  },
  {
   "cell_type": "code",
   "execution_count": 1,
   "id": "89ea0e44",
   "metadata": {
    "scrolled": true
   },
   "outputs": [
    {
     "name": "stdout",
     "output_type": "stream",
     "text": [
      "My name is Jade\n"
     ]
    }
   ],
   "source": [
    "name = \"Jade\"\n",
    "\n",
    "print(\"My name is\", name)"
   ]
  },
  {
   "cell_type": "code",
   "execution_count": 2,
   "id": "724d87d8",
   "metadata": {},
   "outputs": [
    {
     "name": "stdout",
     "output_type": "stream",
     "text": [
      "I am 21 years old\n"
     ]
    }
   ],
   "source": [
    "age = 21\n",
    "\n",
    "print(\"I am\", age, \"years old\")"
   ]
  },
  {
   "cell_type": "code",
   "execution_count": 3,
   "id": "029d7e14",
   "metadata": {},
   "outputs": [
    {
     "name": "stdout",
     "output_type": "stream",
     "text": [
      "1.0\n"
     ]
    }
   ],
   "source": [
    "val1 = 1\n",
    "val2 = 1\n",
    "\n",
    "print(val1/val2)"
   ]
  },
  {
   "cell_type": "code",
   "execution_count": 4,
   "id": "233c0b2b",
   "metadata": {},
   "outputs": [
    {
     "name": "stdout",
     "output_type": "stream",
     "text": [
      "240\n"
     ]
    }
   ],
   "source": [
    "val1 = 12\n",
    "val2 = 20\n",
    "\n",
    "print(val1 * val2)"
   ]
  },
  {
   "cell_type": "markdown",
   "id": "1afb55be",
   "metadata": {},
   "source": [
    "### Exercise 2: Write a list of five character names\n",
    "\n",
    "#### (a) Print out the third character's name"
   ]
  },
  {
   "cell_type": "code",
   "execution_count": 5,
   "id": "101d669b",
   "metadata": {},
   "outputs": [
    {
     "data": {
      "text/plain": [
       "'Sam'"
      ]
     },
     "execution_count": 5,
     "metadata": {},
     "output_type": "execute_result"
    }
   ],
   "source": [
    "characters = [\"Gandalf\", \"Frodo\", \"Sam\", \"Merry\", \"Pippin\"]\n",
    "\n",
    "characters[2]"
   ]
  },
  {
   "cell_type": "markdown",
   "id": "03b0adb5",
   "metadata": {},
   "source": [
    "#### (b) Now, print out the first 3 characters' names"
   ]
  },
  {
   "cell_type": "code",
   "execution_count": 6,
   "id": "1f2978a1",
   "metadata": {},
   "outputs": [
    {
     "data": {
      "text/plain": [
       "['Gandalf', 'Frodo', 'Sam']"
      ]
     },
     "execution_count": 6,
     "metadata": {},
     "output_type": "execute_result"
    }
   ],
   "source": [
    "characters[:3]"
   ]
  },
  {
   "cell_type": "markdown",
   "id": "a3e54c7a",
   "metadata": {},
   "source": [
    "#### (c) Print out the last 3 characters' names"
   ]
  },
  {
   "cell_type": "code",
   "execution_count": 7,
   "id": "4326f535",
   "metadata": {},
   "outputs": [
    {
     "data": {
      "text/plain": [
       "['Sam', 'Merry', 'Pippin']"
      ]
     },
     "execution_count": 7,
     "metadata": {},
     "output_type": "execute_result"
    }
   ],
   "source": [
    "characters[2:]"
   ]
  },
  {
   "cell_type": "markdown",
   "id": "989cd997",
   "metadata": {},
   "source": [
    "#### (d) Print out the first and last characters' names"
   ]
  },
  {
   "cell_type": "code",
   "execution_count": 8,
   "id": "c5eb627b",
   "metadata": {},
   "outputs": [
    {
     "name": "stdout",
     "output_type": "stream",
     "text": [
      "Frodo\n",
      "Pippin\n"
     ]
    }
   ],
   "source": [
    "print(characters[1])\n",
    "print(characters[-1])"
   ]
  },
  {
   "cell_type": "markdown",
   "id": "ec72f754",
   "metadata": {},
   "source": [
    "### Exercise 3: Given the following list, print out the elements in order to form a coherent sentence"
   ]
  },
  {
   "cell_type": "code",
   "execution_count": 9,
   "id": "0f7173a5",
   "metadata": {},
   "outputs": [
    {
     "name": "stdout",
     "output_type": "stream",
     "text": [
      "The quick brown fox jumps over the lazy dog\n"
     ]
    }
   ],
   "source": [
    "ex3 = [\"lazy\", \"The\", \"fox\", \"over\", \"dog\", \"jumps\", \"quick\", \"brown\", \"the\"]\n",
    "\n",
    "print(\n",
    "    ex3[1],\n",
    "    ex3[6],\n",
    "    ex3[7],\n",
    "    ex3[2],\n",
    "    ex3[5],\n",
    "    ex3[3],\n",
    "    ex3[8],\n",
    "    ex3[0],\n",
    "    ex3[4]\n",
    ")"
   ]
  },
  {
   "cell_type": "markdown",
   "id": "5671c8d7",
   "metadata": {},
   "source": [
    "### Exercise 4: Write a weather forecast according to the following rules:\n",
    "\n",
    "- Initialize three variables: precipitation, temperature, and sky\n",
    "- If there is no precipitation, a clear sky, and the temperature is above 20$^\\circ$C, print \"What a beautiful day! It is {temperature} degrees outside\"\n",
    "- If there is rain, a cloudy sky, and the temperature is below 20$^\\circ$C, print \"What a groggy day... It is {temperature} degrees outside\"\n",
    "- Come up with a few other statements that should print for different combinations of precipitation, temperature, and sky"
   ]
  },
  {
   "cell_type": "code",
   "execution_count": 10,
   "id": "7ecb4a9f",
   "metadata": {
    "scrolled": true
   },
   "outputs": [
    {
     "name": "stdout",
     "output_type": "stream",
     "text": [
      "A snowstorm? Better stay inside today!\n"
     ]
    }
   ],
   "source": [
    "precipitation = \"snow\"\n",
    "temperature = -5\n",
    "sky = \"cloudy\"\n",
    "\n",
    "if precipitation == \"snow\":\n",
    "    \n",
    "    if sky == \"cloudy\":\n",
    "        \n",
    "        if temperature > 20:\n",
    "            \n",
    "            print(f\"Huh? It's snowing at {temperature} degrees?\")\n",
    "            \n",
    "        else:\n",
    "            \n",
    "            print(\"A snowstorm? Better stay inside today!\")\n",
    "        \n",
    "    else:\n",
    "        \n",
    "        if temperature > 20:\n",
    "            \n",
    "            print(f\"Huh? It's snowing at {temperature} degrees?\")\n",
    "            \n",
    "        else:\n",
    "            \n",
    "            print(\"Huh? It's snowing but not cloudy?\")\n",
    "    \n",
    "elif precipitation == \"rain\":\n",
    "    \n",
    "    if sky == \"cloudy\":\n",
    "        \n",
    "        if temperature > 20:\n",
    "            \n",
    "            print(f\"It's a warm, rainy {temperature} degrees day.\")\n",
    "            \n",
    "        else:\n",
    "            \n",
    "            print(f\"What a groggy day! It's {temperature} degrees outside\")\n",
    "        \n",
    "    else:\n",
    "        \n",
    "        print(f\"It's {temperature} outside, and it's rainy but not cloudy. Expect a rainbow!\")\n",
    "    \n",
    "else:\n",
    "    \n",
    "    if temperature > 20:\n",
    "        \n",
    "        print(f\"What a beautiful day! It's {temperature} degrees outside.\")\n",
    "        \n",
    "    else:\n",
    "        \n",
    "        print(f\"It's nice out, but a little cool. It's {temperature} degrees outside.\")"
   ]
  },
  {
   "cell_type": "markdown",
   "id": "bbc22190",
   "metadata": {},
   "source": [
    "### Exercise 5: Given the following list of names, write an if statement to check whether your name is in the list\n",
    "\n",
    "#### If it isn't, add it to the list!"
   ]
  },
  {
   "cell_type": "code",
   "execution_count": 11,
   "id": "95eb92db",
   "metadata": {},
   "outputs": [
    {
     "name": "stdout",
     "output_type": "stream",
     "text": [
      "['Jade', 'Julien', 'Julie', 'Josée']\n"
     ]
    }
   ],
   "source": [
    "names = [\"Jade\", \"Julien\", \"Julie\", \"Josée\"]\n",
    "\n",
    "if \"Jade\" not in names:\n",
    "    names.append(\"Jade\")\n",
    "print(names)"
   ]
  },
  {
   "cell_type": "markdown",
   "id": "67e5ce34",
   "metadata": {},
   "source": [
    "### Exercise 6: Given the following list of integers, write a for loop that adds 2 to the value of each element in the list"
   ]
  },
  {
   "cell_type": "code",
   "execution_count": 12,
   "id": "2290d6a1",
   "metadata": {},
   "outputs": [
    {
     "name": "stdout",
     "output_type": "stream",
     "text": [
      "3\n",
      "5\n",
      "6\n",
      "9\n",
      "12\n",
      "14\n",
      "17\n"
     ]
    }
   ],
   "source": [
    "my_list = [1, 3, 4, 7, 10, 12, 15]\n",
    "\n",
    "for i in my_list:\n",
    "    i += 2\n",
    "    print(i)"
   ]
  },
  {
   "cell_type": "markdown",
   "id": "c55b45b8",
   "metadata": {},
   "source": [
    "### Exercise 7: Initialize integers $n$ and $m$. Write a for loop that multplies $n$ by 2, $m$ times."
   ]
  },
  {
   "cell_type": "code",
   "execution_count": 21,
   "id": "02137804",
   "metadata": {},
   "outputs": [
    {
     "name": "stdout",
     "output_type": "stream",
     "text": [
      "3\n",
      "6\n",
      "12\n",
      "24\n",
      "48\n",
      "96\n"
     ]
    }
   ],
   "source": [
    "n = 3\n",
    "m = 5\n",
    "\n",
    "print(n)\n",
    "for i in range(m):\n",
    "    n = n*2\n",
    "    print(n)"
   ]
  },
  {
   "cell_type": "markdown",
   "id": "d59474f4",
   "metadata": {},
   "source": [
    "### Exercise 8: Initialize an empty list. Write a for loop that iterates through a range of $x$ values and calculates a variable $y$ according to:\n",
    "\n",
    "$$ y = 2(x - 3)^3 + 5 $$\n",
    "\n",
    "### At each iteration, append $y$ to the empty list. "
   ]
  },
  {
   "cell_type": "code",
   "execution_count": 14,
   "id": "ff3ea330",
   "metadata": {
    "scrolled": true
   },
   "outputs": [
    {
     "name": "stdout",
     "output_type": "stream",
     "text": [
      "[23, 13, 7, 5, 7, 13, 23, 37, 55, 77, 103, 133, 167, 205, 247, 293, 343, 397, 455, 517]\n"
     ]
    }
   ],
   "source": [
    "my_list = []\n",
    "x = 20\n",
    "\n",
    "for i in range(x):\n",
    "    y = 2*(i-3)**2 + 5\n",
    "    my_list.append(y)\n",
    "    \n",
    "print(my_list)"
   ]
  },
  {
   "cell_type": "markdown",
   "id": "31cfc289",
   "metadata": {},
   "source": [
    "### Exercise 9: Initialize a variable $n$ that is smaller than 100. Write a while loop that adds 5 to the value of $n$ until it becomes larger than 100."
   ]
  },
  {
   "cell_type": "code",
   "execution_count": 15,
   "id": "2ffc5996",
   "metadata": {},
   "outputs": [
    {
     "name": "stdout",
     "output_type": "stream",
     "text": [
      "47\n",
      "52\n",
      "57\n",
      "62\n",
      "67\n",
      "72\n",
      "77\n",
      "82\n",
      "87\n",
      "92\n",
      "97\n",
      "102\n"
     ]
    }
   ],
   "source": [
    "n = 42\n",
    "\n",
    "while n < 100:\n",
    "    n += 5\n",
    "    print(n)"
   ]
  },
  {
   "cell_type": "markdown",
   "id": "0ba6a7e3",
   "metadata": {},
   "source": [
    "***"
   ]
  },
  {
   "cell_type": "markdown",
   "id": "cfa46f10",
   "metadata": {},
   "source": [
    "### Extra Exercise 1:\n",
    "\n",
    "The [Collatz conjecture](https://en.wikipedia.org/wiki/Collatz_conjecture) is one of the most famous unsolved problems in mathematics. It states that any natural number $n$ can be brought down to 1 via the following steps:\n",
    "\n",
    "- If $n$ is even, divide it by 2\n",
    "- If $n$ is odd, multiply it by 3 and add 1\n",
    "\n",
    "By repeating these two steps over and over on the resulting number, we inevitably arrive at 1. For example, let's try with 10:\n",
    "\n",
    "- $10\\div2 = 5$\n",
    "- $5\\times3+1 = 16$\n",
    "- $16 \\div 2 = 8$\n",
    "- $8 \\div 2 = 4$\n",
    "- $4 \\div 2 = 2$\n",
    "- $2 \\div 2 = 1$\n",
    "\n",
    "**Your task**: Initialize a variable $n$. Remember that $n$ must be a *positive integer*. Using a combination of a while loop and if statements, bring $n$ down to 1 according to the Collatz conjecture. At each iteration, print the current value (e.g. in the sequence I wrote above for $n=10$, we would have printed 10, 5, 16, 8, 4, 2, and 1)."
   ]
  },
  {
   "cell_type": "markdown",
   "id": "b9143940",
   "metadata": {},
   "source": [
    "<details>\n",
    "<summary>Click here for a hint</summary>\n",
    "To check whether an integer is odd or even, we want to divide it by two. If there is no remainder, the number is even. If there is a remainder, the number is odd. In python, this is done via the % mathematical operation. n%m returns the remainder of the division of n by m.\n",
    "</details>"
   ]
  },
  {
   "cell_type": "code",
   "execution_count": 16,
   "id": "966b9e1f",
   "metadata": {},
   "outputs": [
    {
     "name": "stdout",
     "output_type": "stream",
     "text": [
      "42\n",
      "21\n",
      "64\n",
      "32\n",
      "16\n",
      "8\n",
      "4\n",
      "2\n",
      "1\n"
     ]
    }
   ],
   "source": [
    "n = 42\n",
    "\n",
    "print(n)\n",
    "\n",
    "while n > 1:\n",
    "    \n",
    "    if n%2 == 0:\n",
    "        \n",
    "        # I am adding the int() function below to forcefully transform the result into an integer\n",
    "        # Math operations automatically turn the result into a float (e.g. 10.0 instead of 10)\n",
    "        n = int(n/2)\n",
    "        \n",
    "    else:\n",
    "        n = int(3*n+1)\n",
    "        \n",
    "    print(n)\n"
   ]
  },
  {
   "cell_type": "markdown",
   "id": "2b74ad00",
   "metadata": {},
   "source": [
    "### Extra Exercise 2:\n",
    "\n",
    "The [Fibonacci sequence](https://en.wikipedia.org/wiki/Fibonacci_number) is a sequence of natural numbers commonly found in nature, for example in [seashells](https://mathimages.swarthmore.edu/index.php/Fibonacci_Numbers) or [sunflowers](https://clevelanddesign.com/insights/the-nature-of-design-the-fibonacci-sequence-and-the-golden-ratio/). It is determined via the following rules:\n",
    "\n",
    "- Start with 0 and 1\n",
    "- Every subsequent number is the sum of the two numbers before it\n",
    "\n",
    "For example, the first 13 numbers in the Fibonacci sequence are\n",
    "\n",
    "$[0, 1, 1, 2, 3, 5, 8, 13, 21, 34, 55, 89, 144]$\n",
    "\n",
    "**Your task**: Initialize a list containing 0 and 1, and a positive integer $n$. Using a for loop, calculate the next $n$ numbers of the Fibonacci sequence."
   ]
  },
  {
   "cell_type": "markdown",
   "id": "2539bcd6",
   "metadata": {},
   "source": [
    "<details>\n",
    "<summary>Click here for a hint</summary>\n",
    "You can use the for loop counter to index list elements! For example, given the following list:\n",
    "    \n",
    "    my_list = [\"this\", \"is\", \"a\", \"random\", \"list\"]\n",
    "    \n",
    "The following code will print every element in the list:\n",
    "    \n",
    "    for i in range(5):\n",
    "    \n",
    "        print(my_list[i])\n",
    "    \n",
    "</details>"
   ]
  },
  {
   "cell_type": "markdown",
   "id": "1c5192d9",
   "metadata": {},
   "source": [
    "<details>\n",
    "<summary>Click here for another hint</summary>\n",
    "The range() function works similarly to the way we learned to index lists. \n",
    "    \n",
    "    for i in range(n, m):\n",
    "        print(i)\n",
    "    \n",
    "The above code block will print out every number between $n$ and $m$, where $n$ is included and $m$ is excluded.\n",
    "</details>"
   ]
  },
  {
   "cell_type": "code",
   "execution_count": 17,
   "id": "77ae23a5",
   "metadata": {},
   "outputs": [
    {
     "name": "stdout",
     "output_type": "stream",
     "text": [
      "[0, 1, 1, 2, 3, 5, 8, 13, 21, 34, 55, 89, 144, 233, 377, 610, 987, 1597, 2584, 4181]\n"
     ]
    }
   ],
   "source": [
    "fib = [0,1]\n",
    "n = 20\n",
    "\n",
    "for i in range(2,n):\n",
    "    \n",
    "    el = fib[i-2] + fib[i-1]\n",
    "    fib.append(el)\n",
    "    \n",
    "print(fib)"
   ]
  },
  {
   "cell_type": "markdown",
   "id": "526fd03e",
   "metadata": {},
   "source": [
    "### Extra Exercise 3:\n",
    "\n",
    "Now that your Fibonaccio sequence code works, we'll focus on the [Golden Ratio](https://en.wikipedia.org/wiki/Golden_ratio). As you increase the number of elements $n$ in the Fibonaccio sequence, the ratio of the $n^{th}$ element to the $(n-1)^{th}$ element becomes closer and closer to the golden ratio: $1.61803...$ For example, for an $n=5$ Fibonacci sequence, we get:\n",
    "\n",
    "$[0, 1, 1, 2, 3]$\n",
    "\n",
    "The ratio of the $n^{th}$ element to the $(n-1)^{th}$ element is:\n",
    "\n",
    "$ 3 \\div 2 = 1.5$\n",
    "\n",
    "For an $n=13$ Fibonaccio sequence, we get:\n",
    "\n",
    "$[0, 1, 1, 2, 3, 5, 8, 13, 21, 34, 55, 89, 144]$\n",
    "\n",
    "And the ratio of the $n^{th}$ element to the $(n-1)^{th}$ element is:\n",
    "\n",
    "$ 144 \\div 89 = 1.6179775...$\n",
    "\n",
    "And so on until $n \\to \\infty$, where the ratio becomes exactly equal to the golden ratio.\n",
    "\n",
    "**Your task**: Re-use your code from Extra Exercise 2, but also print out the ratio of the $i^{th}$ to the $(i-1)^{th}$ element for every element $i$ in your fibonacci sequence. (This should only be a one or two line modification in your original code!)"
   ]
  },
  {
   "cell_type": "code",
   "execution_count": 18,
   "id": "b440452e",
   "metadata": {
    "scrolled": true
   },
   "outputs": [
    {
     "name": "stdout",
     "output_type": "stream",
     "text": [
      "The ratio of 1 to 1 is 1.0\n",
      "The ratio of 2 to 1 is 2.0\n",
      "The ratio of 3 to 2 is 1.5\n",
      "The ratio of 5 to 3 is 1.6666666666666667\n",
      "The ratio of 8 to 5 is 1.6\n",
      "The ratio of 13 to 8 is 1.625\n",
      "The ratio of 21 to 13 is 1.6153846153846154\n",
      "The ratio of 34 to 21 is 1.619047619047619\n",
      "The ratio of 55 to 34 is 1.6176470588235294\n",
      "The ratio of 89 to 55 is 1.6181818181818182\n",
      "The ratio of 144 to 89 is 1.6179775280898876\n",
      "The ratio of 233 to 144 is 1.6180555555555556\n",
      "The ratio of 377 to 233 is 1.6180257510729614\n",
      "The ratio of 610 to 377 is 1.6180371352785146\n",
      "The ratio of 987 to 610 is 1.618032786885246\n",
      "The ratio of 1597 to 987 is 1.618034447821682\n",
      "The ratio of 2584 to 1597 is 1.6180338134001253\n",
      "The ratio of 4181 to 2584 is 1.618034055727554\n",
      "[0, 1, 1, 2, 3, 5, 8, 13, 21, 34, 55, 89, 144, 233, 377, 610, 987, 1597, 2584, 4181]\n"
     ]
    }
   ],
   "source": [
    "fib = [0,1]\n",
    "n = 20\n",
    "\n",
    "for i in range(2,n):\n",
    "    \n",
    "    el = fib[i-2] + fib[i-1]\n",
    "    ratio = el/fib[i-1]\n",
    "    print(\"The ratio of\", el, \"to\", fib[i-1], \"is\", ratio)\n",
    "    fib.append(el)\n",
    "    \n",
    "print(fib)"
   ]
  },
  {
   "cell_type": "markdown",
   "id": "8a16a9f8",
   "metadata": {},
   "source": [
    "### Extra Exercise 4:\n",
    "\n",
    "The [Greatest Common Factor](https://www.mathsisfun.com/greatest-common-factor.html) of two natural numbers $n$ and $m$ is the greatest number that can divide both $n$ and $m$ with no remainder.\n",
    "\n",
    "For example, let $n = 12$ and $m = 20$. The greatest common factor is 4, since:\n",
    "\n",
    "$12 \\div 4 = 3$ and $20 \\div 4 = 5$\n",
    "\n",
    "Since 3 and 5 have no common factors, we know we have found it!\n",
    "\n",
    "**Your task**: Use a combination of a for loop and if statements to find the greatest common factor for two natural numbers $n$ and $m$"
   ]
  },
  {
   "cell_type": "markdown",
   "id": "4f1b99d7",
   "metadata": {},
   "source": [
    "<details>\n",
    "<summary>Click here for a hint</summary>\n",
    "To find the minimum between two numbers $n$ and $m$, use the min(n, m) function.\n",
    "    \n",
    "For example:\n",
    "    \n",
    "    min(10, 12)\n",
    "    \n",
    "returns 10, which is smaller than 12.\n",
    "</details>"
   ]
  },
  {
   "cell_type": "markdown",
   "id": "3441bad3",
   "metadata": {},
   "source": [
    "Verify your answer [here](https://www.calculatorsoup.com/calculators/math/commonfactors.php)!"
   ]
  },
  {
   "cell_type": "code",
   "execution_count": 19,
   "id": "422a1dc5",
   "metadata": {},
   "outputs": [
    {
     "name": "stdout",
     "output_type": "stream",
     "text": [
      "The Greatest Common Factor between 112098 and 128492 is 14\n"
     ]
    }
   ],
   "source": [
    "n = 112098\n",
    "m = 128492\n",
    "\n",
    "for i in range(1, min(n,m)):\n",
    "    \n",
    "    if n%i == 0 and m%i == 0:\n",
    "        \n",
    "        gcf = i\n",
    "        \n",
    "print(f\"The Greatest Common Factor between {n} and {m} is {gcf}\")"
   ]
  },
  {
   "cell_type": "markdown",
   "id": "52927190",
   "metadata": {},
   "source": [
    "### Extra Exercise 5:\n",
    "\n",
    "[Prime numbers](https://en.wikipedia.org/wiki/Prime_number) are natural numbers that cannot be exactly divided by any natural number smaller than themselves (except for 1). The first six prime numbers are:\n",
    "\n",
    "$[2, 3, 5, 7, 11, 13]$\n",
    "\n",
    "Counterintuitively, it is possible to prove that there exist an infinite number of prime numbers!\n",
    "\n",
    "**Your task**: Initialize an empty list. Using a combination of a while loop, a for loop, and an if statement, append the first $n$ prime numbers."
   ]
  },
  {
   "cell_type": "markdown",
   "id": "a7145a1a",
   "metadata": {},
   "source": [
    "Verify your answer [here](https://onlinenumbertools.com/calculate-prime-numbers)!"
   ]
  },
  {
   "cell_type": "code",
   "execution_count": 20,
   "id": "cd693dbb",
   "metadata": {},
   "outputs": [
    {
     "name": "stdout",
     "output_type": "stream",
     "text": [
      "[2, 3, 5, 7, 11, 13, 17, 19, 23, 29, 31, 37, 41, 43, 47, 53, 59, 61, 67, 71]\n"
     ]
    }
   ],
   "source": [
    "prime = []\n",
    "n = 20\n",
    "\n",
    "counter = 2\n",
    "while len(prime) < n:\n",
    "    \n",
    "    # Start off by assuming that counter is prime\n",
    "    is_prime = True\n",
    "    \n",
    "    # Iterate between 2 and counter\n",
    "    for i in range(2, counter):\n",
    "        \n",
    "        # If counter is divisable by anything between 2 and itself...\n",
    "        if counter%i == 0:\n",
    "            \n",
    "            # ... then it is not prime\n",
    "            is_prime = False\n",
    "            \n",
    "    # If counter is prime...\n",
    "    if is_prime:\n",
    "        \n",
    "        # ... append it to the list\n",
    "        prime.append(counter)\n",
    "\n",
    "    # Remember to update the counter! Otherwise we will get an infinite while loop\n",
    "    counter += 1\n",
    "    \n",
    "print(prime)"
   ]
  },
  {
   "cell_type": "code",
   "execution_count": null,
   "id": "488789a7",
   "metadata": {},
   "outputs": [],
   "source": []
  }
 ],
 "metadata": {
  "kernelspec": {
   "display_name": "Python 3 (ipykernel)",
   "language": "python",
   "name": "python3"
  },
  "language_info": {
   "codemirror_mode": {
    "name": "ipython",
    "version": 3
   },
   "file_extension": ".py",
   "mimetype": "text/x-python",
   "name": "python",
   "nbconvert_exporter": "python",
   "pygments_lexer": "ipython3",
   "version": "3.10.5"
  }
 },
 "nbformat": 4,
 "nbformat_minor": 5
}
