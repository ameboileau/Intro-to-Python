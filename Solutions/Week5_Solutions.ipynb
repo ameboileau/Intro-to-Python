{
 "cells": [
  {
   "cell_type": "markdown",
   "id": "593da617",
   "metadata": {},
   "source": [
    "# Week 5: Midterm Review"
   ]
  },
  {
   "cell_type": "code",
   "execution_count": 20,
   "id": "abadf32d",
   "metadata": {},
   "outputs": [],
   "source": [
    "# Import list\n",
    "import numpy as np"
   ]
  },
  {
   "cell_type": "markdown",
   "id": "af28556b",
   "metadata": {},
   "source": [
    "## Exercise 1: Dice and Probabilities\n",
    "#### Reviews functions and math operations"
   ]
  },
  {
   "cell_type": "markdown",
   "id": "4eb2f867",
   "metadata": {},
   "source": [
    "### (a)\n",
    "\n",
    "Consider an $n$-sided die. The probability of rolling a positive integer $m$ (where $m \\leq n$) is given by:\n",
    "\n",
    "$$ P(m) = \\frac{1}{n} $$\n",
    "\n",
    "Write a function that returns the probability of rolling $m$ for an $n$-sided die ($m \\leq n$)."
   ]
  },
  {
   "cell_type": "code",
   "execution_count": 6,
   "id": "22d0f860",
   "metadata": {},
   "outputs": [
    {
     "name": "stdout",
     "output_type": "stream",
     "text": [
      "The probability of rolling 1 with a 20-sided die is 5.0%\n"
     ]
    },
    {
     "data": {
      "text/plain": [
       "0.05"
      ]
     },
     "execution_count": 6,
     "metadata": {},
     "output_type": "execute_result"
    }
   ],
   "source": [
    "def die(m, n):\n",
    "    \"\"\"\n",
    "    Calculate probability of rolling m for an n-sided die where:\n",
    "    m: integer smaller or equal to n\n",
    "    n: integer\n",
    "    \"\"\"\n",
    "    \n",
    "    prob = 1/n\n",
    "    print(\"The probability of rolling\", m, f\"with a {n}-sided die is\", f\"{prob*100}%\")\n",
    "    \n",
    "    return prob\n",
    "    \n",
    "die(1, 20)"
   ]
  },
  {
   "cell_type": "markdown",
   "id": "b5488ea8",
   "metadata": {},
   "source": [
    "### (b)\n",
    "\n",
    "The probability of rolling $m_1$ *or* $m_2$ (for $m_1, m_2 \\leq n$) is given by the sum of the individual probabilities of rolling $m_1$ and $m_2$:\n",
    "\n",
    "\\begin{equation}\n",
    "\\begin{split}\n",
    "P(m_1 \\text{ or } m_2) &= P(m_1) + P(m_2) \\\\\n",
    "&= \\frac{1}{n} + \\frac{1}{n}\\\\\n",
    "&= \\frac{2}{n}\n",
    "\\end{split}\n",
    "\\end{equation}\n",
    "\n",
    "Write a function that returns the probability of rolling any number smaller or equal to $i$ for an $n$-sided die (where $i \\leq n$). Verify that your function is properly normalized."
   ]
  },
  {
   "cell_type": "code",
   "execution_count": 12,
   "id": "e8a2fa61",
   "metadata": {},
   "outputs": [
    {
     "name": "stdout",
     "output_type": "stream",
     "text": [
      "The probability of rolling any number smaller or equal to 12 with a 20-sided die is 60.0%\n"
     ]
    },
    {
     "data": {
      "text/plain": [
       "0.6"
      ]
     },
     "execution_count": 12,
     "metadata": {},
     "output_type": "execute_result"
    }
   ],
   "source": [
    "def die2(i, n):\n",
    "    \"\"\"\n",
    "    Probability of rolling 1 or 2 or ... i for an n-sided die where\n",
    "    i: integer smaller or equal to n\n",
    "    n: integer\n",
    "    \"\"\"\n",
    "    \n",
    "    prob = i/n\n",
    "    print(\"The probability of rolling any number smaller or equal to\", i, \n",
    "          f\"with a {n}-sided die is\", f\"{prob*100}%\")\n",
    "    \n",
    "    return prob\n",
    "\n",
    "die2(12, 20)"
   ]
  },
  {
   "cell_type": "markdown",
   "id": "fa1e116f",
   "metadata": {},
   "source": [
    "### (c)\n",
    "\n",
    "The probability of rolling $m_1$ *and* $m_2$ during two successive rolls is the product of the individual probabilities of rolling $m_1$ *and* $m_2$:\n",
    "\n",
    "\\begin{equation}\n",
    "\\begin{split}\n",
    "P(m_1 \\text{ and } m_2) &= P(m_1) \\times P(m_2) \\\\\n",
    "&= \\frac{1}{n} \\times \\frac{1}{n} \\\\\n",
    "&= \\left( \\frac{1}{n} \\right)^2\n",
    "\\end{split}\n",
    "\\end{equation}\n",
    "\n",
    "Write a function that returns the probability of rolling the same number $i$ times *in a row* for an $n$-sided die."
   ]
  },
  {
   "cell_type": "code",
   "execution_count": 18,
   "id": "082928fb",
   "metadata": {},
   "outputs": [
    {
     "name": "stdout",
     "output_type": "stream",
     "text": [
      "The probability of rolling 20, 3 times in a row with a 20-sided die is 0.0125%\n"
     ]
    },
    {
     "data": {
      "text/plain": [
       "0.00012500000000000003"
      ]
     },
     "execution_count": 18,
     "metadata": {},
     "output_type": "execute_result"
    }
   ],
   "source": [
    "def die3(num, i, n):\n",
    "    \"\"\"\n",
    "    Calculates the probability of rolling the same number (num) i times in a row for an n-sided\n",
    "    num: integer smaller or equal to n\n",
    "    i: integer\n",
    "    n: integer\n",
    "    \"\"\"\n",
    "    \n",
    "    prob = (1/n)**i\n",
    "    print(f\"The probability of rolling {num}, {i}\",\n",
    "          f\"times in a row with a {n}-sided die is {round(prob*100, 4)}%\")\n",
    "    \n",
    "    return prob\n",
    "\n",
    "die3(20, 3, 20)\n",
    "    "
   ]
  },
  {
   "cell_type": "markdown",
   "id": "b580d5ce",
   "metadata": {},
   "source": [
    "### (d)\n",
    "\n",
    "Write a function that returns the probability of rolling the same number $k$ times *in total* for $i$ rolls of an $n$-sided die ($k \\leq i$)."
   ]
  },
  {
   "cell_type": "markdown",
   "id": "5f36fbd0",
   "metadata": {},
   "source": [
    "To solve this one, we will reword our problem as such: we are searching for the probability of obtaining exactly $k$ successes in $i$ trials. This is exactly given by the probability distribution of the [Binomial distribution](https://en.wikipedia.org/wiki/Binomial_distribution):\n",
    "\n",
    "\\begin{equation}\n",
    "\\begin{split}\n",
    "f(k, i, p) &= {i\\choose k} p^k (1-p)^{i-k} \\\\\n",
    "&= \\frac{i!}{k! (i-k)!} p^k (1-p)^{i-k},\n",
    "\\end{split}\n",
    "\\end{equation}\n",
    "\n",
    "where $p$ is the probability of a success (i.e. rolling the desired number)."
   ]
  },
  {
   "cell_type": "code",
   "execution_count": 34,
   "id": "c70182bc",
   "metadata": {},
   "outputs": [
    {
     "name": "stdout",
     "output_type": "stream",
     "text": [
      "The probability of rolling the number 20 exactly 5 times in 10 rolls of a 20-sided die is 0.006094%\n"
     ]
    },
    {
     "data": {
      "text/plain": [
       "6.0935248828124994e-05"
      ]
     },
     "execution_count": 34,
     "metadata": {},
     "output_type": "execute_result"
    }
   ],
   "source": [
    "def binomial(k, i, n, num=1, verbose=False):\n",
    "    \"\"\"\n",
    "    Calculates the probability of obtaining num exactly k times in i rolls of an n-sided die\n",
    "    num: integer smaller or equal to n (default 1)\n",
    "    k: integer smaller or equal to i\n",
    "    i: integer\n",
    "    n: integer\n",
    "    verbose: print extra information to the console (Boolean, default False)\n",
    "    \"\"\"\n",
    "    \n",
    "    p = 1/n\n",
    "    prob = np.math.factorial(i)/(np.math.factorial(k) * np.math.factorial(i-k)) * p**k * (1-p)**(i-k)\n",
    "    \n",
    "    if verbose:\n",
    "        print(f\"The probability of rolling the number {num} exactly {k} times in {i} rolls of a\",\n",
    "         f\"{n}-sided die is {round(prob*100, 6)}%\")\n",
    "    \n",
    "    return prob\n",
    "\n",
    "binomial(5, 10, 20, num=20, verbose=True)\n",
    "    "
   ]
  },
  {
   "cell_type": "markdown",
   "id": "aa90ad2b",
   "metadata": {},
   "source": [
    "### (e)\n",
    "\n",
    "Finally, let's write a function that calculates the probability of rolling a certain number *at least* $k$ times in $i$ rolls of an $n$-sided die.\n",
    "\n",
    "While we're at it, let's also write a function that calculates the probability of rolling a certain number *up to* $k$ times in $i$ rolls of an $n$-sided die.\n",
    "\n",
    "**Hint: Use the function you wrote in (d)!**"
   ]
  },
  {
   "cell_type": "code",
   "execution_count": 48,
   "id": "9c5e1075",
   "metadata": {},
   "outputs": [
    {
     "name": "stdout",
     "output_type": "stream",
     "text": [
      "The probability of rolling the number 20 exactly 2 times in 10 rolls of a 20-sided die is 7.46348%\n",
      "The probability of rolling the number 20 exactly 3 times in 10 rolls of a 20-sided die is 1.047506%\n",
      "The probability of rolling the number 20 exactly 4 times in 10 rolls of a 20-sided die is 0.096481%\n",
      "The probability of rolling the number 20 exactly 5 times in 10 rolls of a 20-sided die is 0.006094%\n",
      "The probability of rolling the number 20 exactly 6 times in 10 rolls of a 20-sided die is 0.000267%\n",
      "The probability of rolling the number 20 exactly 7 times in 10 rolls of a 20-sided die is 8e-06%\n",
      "The probability of rolling the number 20 exactly 8 times in 10 rolls of a 20-sided die is 0.0%\n",
      "The probability of rolling the number 20 exactly 9 times in 10 rolls of a 20-sided die is 0.0%\n",
      "The probability of rolling the number 20 exactly 10 times in 10 rolls of a 20-sided die is 0.0%\n",
      "\n",
      "\n",
      "Therefore, the probability of rolling 20 at least 2 times in 10 rolls of a 20-sided die is 8.61384%\n"
     ]
    },
    {
     "data": {
      "text/plain": [
       "0.0861383558993164"
      ]
     },
     "execution_count": 48,
     "metadata": {},
     "output_type": "execute_result"
    }
   ],
   "source": [
    "def at_least(k, i, n, num=1, verbose=False):\n",
    "    \"\"\"\n",
    "    Calculates the probability of rolling the number num at least k times in i rolls of an n-sided die\n",
    "    num: integer smaller than n (default 1)\n",
    "    k: integer smaller than i\n",
    "    i: integer\n",
    "    n: integer\n",
    "    verbose: print extra information to the console (Boolean, default False)\n",
    "    \"\"\"\n",
    "    prob = 0\n",
    "    for j in range(k, i+1):\n",
    "        prob += binomial(j, i, n, num=num, verbose=verbose)\n",
    "        \n",
    "    if verbose:\n",
    "        print(\"\\n\")\n",
    "        print(f\"Therefore, the probability of rolling {num} at least {k} times in {i} rolls of\",\n",
    "             f\"a {n}-sided die is {round(prob*100, 5)}%\")\n",
    "        \n",
    "    return prob\n",
    "        \n",
    "    \n",
    "at_least(2, 10, 20, num=20, verbose=True)"
   ]
  },
  {
   "cell_type": "code",
   "execution_count": 47,
   "id": "58e1dcd6",
   "metadata": {},
   "outputs": [
    {
     "name": "stdout",
     "output_type": "stream",
     "text": [
      "The probability of rolling the number 20 exactly 0 times in 10 rolls of a 20-sided die is 59.873694%\n",
      "The probability of rolling the number 20 exactly 1 times in 10 rolls of a 20-sided die is 31.51247%\n",
      "The probability of rolling the number 20 exactly 2 times in 10 rolls of a 20-sided die is 7.46348%\n",
      "\n",
      "\n",
      "Therefore, the probability of rolling 20 up to 2 times in 10 rolls of a 20-sided die is 98.84964%\n"
     ]
    },
    {
     "data": {
      "text/plain": [
       "0.9884964426207028"
      ]
     },
     "execution_count": 47,
     "metadata": {},
     "output_type": "execute_result"
    }
   ],
   "source": [
    "def up_to(k, i, n, num=1, verbose=False):\n",
    "    \"\"\"\n",
    "    Calculates the probability of rolling the number num up to k times in i rolls of an n-sided die\n",
    "    num: integer smaller than n (default 1)\n",
    "    k: integer smaller than i\n",
    "    i: integer\n",
    "    n: integer\n",
    "    verbose: print extra information to the console (Boolean, default False)\n",
    "    \"\"\"\n",
    "    \n",
    "    prob = 0\n",
    "    for j in range(0, k+1):\n",
    "        prob += binomial(j, i, n, num=num, verbose=verbose)\n",
    "        \n",
    "    if verbose:\n",
    "        print(\"\\n\")\n",
    "        print(f\"Therefore, the probability of rolling {num} up to {k} times in {i} rolls of\",\n",
    "             f\"a {n}-sided die is {round(prob*100, 5)}%\")\n",
    "        \n",
    "    return prob\n",
    "\n",
    "up_to(2, 10, 20, num=20, verbose=True)"
   ]
  },
  {
   "cell_type": "markdown",
   "id": "179a0c67",
   "metadata": {},
   "source": [
    "## Exercise 2: The Phone Book\n",
    "\n",
    "#### Reviews functions, lists, and list indexing"
   ]
  },
  {
   "cell_type": "markdown",
   "id": "bfdced5d",
   "metadata": {},
   "source": [
    "Consider a phone book that provides the following information about a list of individuals:\n",
    "\n",
    "- First name\n",
    "- Last name\n",
    "- Phone number\n",
    "- Street address\n",
    "- Street name\n",
    "- Postal code\n",
    "- City\n",
    "- Province\n",
    "\n",
    "The cell below initializes a *list of lists* containing the above information for a few people."
   ]
  },
  {
   "cell_type": "code",
   "execution_count": 50,
   "id": "148d2201",
   "metadata": {},
   "outputs": [],
   "source": [
    "phonebook = [\n",
    "    [\"Réjean\", \"Tremblay\", \"(514) 545-4598\", \"35\", \"Rue Laurier\", \"J6T 9V7\", \"Longueuil\", \"QC\"],\n",
    "    [\"John\", \"Ford\", \"(416) 457-1293\", \"76\", \"George St\", \"K1N 1K1\", \"Ottawa\", \"ON\"],\n",
    "    [\"Rhoda\", \"Gottlieb\", \"(403) 678-4964\", \"725\", \"Railway Ave\", \"T1W 1P2\", \"Canmore\", \"BC\"],\n",
    "    [\"Bella\", \"Herman\", \"(204) 987-5551\", \"1743\", \"Pembina Hwy\", \"R2M 3E1\", \"Winnipeg\", \"MB\"],\n",
    "    [\"Wilmer\", \"Shanahan\", \"(705) 444-6606\", \"470\", \"1 St\", \"N7M 2J8\", \"Collingwood\", \"ON\"],\n",
    "    [\"Chase\", \"Hayes\", \"(604) 255-4844\", \"1875\", \"Commercial Dr\", \"V5N 4A6\", \"Vancouver\", \"BC\"],\n",
    "    [\"Ferne\", \"Gibson\", \"(613) 829-1920\", \"1119\", \"Baxter Rd\", \"K2C 1M1\", \"Ottawa\", \"ON\"],\n",
    "    [\"Marie\", \"Dumont\", \"(418) 663-1234\", \"3410\", \"Boul. Sainte-Anne\", \"G1E 3L7\", \"Beauport\", \"QC\"],\n",
    "    [\"Chet\", \"Huel\", \"(403) 279-2198\", \"116\", \"Inverness Rise SE\", \"T2Z 2X1\", \"Calgary\", \"AB\"],\n",
    "    [\"Maegan\", \"Cronin\", \"(250) 275-1588\", \"3101\", \"Highway 6\", \"V1T 9H6\", \"Vernon\", \"BC\"],\n",
    "    [\"Alexis\", \"Leduc\", \"(514) 296-2929\", \"1450\", \"Rue Crescent\", \"H3G 2B2\", \"Montréal\", \"QC\"],\n",
    "    [\"Horacio\", \"Braun\", \"(604) 755-8022\", \"32900\", \"S Fraser Way\", \"V2S 5A1\", \"Abbotford\", \"BC\"],\n",
    "    [\"Cameron\", \"Reichel\", \"(204) 957-2500\", \"484\", \"McPhillips St\", \"R2X 2H2\", \"Winnipeg\", \"MB\"],\n",
    "    [\"Kristopher\", \"McDermott\", \"(604) 538-3090\", \"15355\", \"24 Ave\", \"V4A 2H9\", \"Surrey\", \"BC\"],\n",
    "    [\"Kirsten\", \"Lowe\", \"(902) 962-3599\", \"125\", \"Sydney St\", \"C1A 1G5\", \"Charlottetown\", \"PE\"],\n",
    "    [\"Royce\", \"Lockman\", \"(306) 882-2011\", \"104\", \"Railway Ave E\", \"S0L 2V0\", \"Rosetown\", \"SK\"],\n",
    "    [\"Jonathan\", \"Quigley\", \"(416) 727-3597\", \"14\", \"Fluellen Dr\", \"M1W 2B3\", \"Scarborough\", \"ON\"],\n",
    "    [\"Brielle\", \"Balistreri\", \"(604) 255-0698\", \"2163\", \"Hastings St\", \"V5L 7H8\", \"Vancouver\", \"BC\"],\n",
    "    [\"Fernando\", \"Spinka\", \"(506) 384-6116\", \"25\", \"Killam Dr\", \"E1C 3R1\", \"Moncton\", \"NB\"],\n",
    "    [\"Henri\", \"Dupré\", \"(450) 538-7333\", \"9\", \"Rue Principale Nord\", \"J0E 2K0\", \"Sutton\", \"QC\"],\n",
    "    [\"Mylène\", \"Gravel\", \"(450) 747-0822\", \"120\", \"Rue Grande-Île\", \"J6S 3M6\",\\\n",
    "     \"Salaberry-de-Valleyfield\", \"QC\"],\n",
    "    [\"Santa\", \"Weissnat\", \"(604) 214-0888\", \"8368\", \"Alexandra Rd\", \"V6X 4A6\", \"Richmond\", \"BC\"],\n",
    "    [\"Jerome\", \"Robel\", \"(902) 634-3334\", \"4\", \"Dufferin St\", \"B0J 2C0\", \"Lunenburg\", \"NS\"],\n",
    "    [\"Giselle\", \"Lagacé\", \"(514) 485-2652\", \"5601\", \"Ave. de Monkland\", \"H4A 1E4\", \"Montréal\", \"QC\"],\n",
    "    [\"Coleman\", \"Crooks\", \"(604) 554-0212\", \"2929\", \"Barnet Hwy\", \"V3B 5R5\", \"Coquitlam\", \"BC\"],\n",
    "    [\"Gregoria\", \"Osinski\", \"(867) 667-2161\", \"18\", \"Tagish Rd\", \"Y1A 3P5\", \"Whitehorse\", \"YT\"],\n",
    "    [\"Florence\", \"Lachapelle\", \"(418) 266-8900\", \"1075\", \"Ch Ste Foy\", \"G1S 2L5\", \"Québec\", \"QC\"],\n",
    "    [\"Holden\", \"Osinski\", \"(905) 841-8592\", \"148\", \"Yonge Aurora\", \"L4G 1M1\", \"Aurora\", \"ON\"]\n",
    "]"
   ]
  },
  {
   "cell_type": "markdown",
   "id": "b360ad9d",
   "metadata": {},
   "source": [
    "### (a)\n",
    "\n",
    "Write a function that prints out a sentence containing all the information for each person in the phonebook. The sentence should look like this:\n",
    "\n",
    "\"My name is Gregoria Osinski. My phone number is (867) 667-2161 and I live at 18 Tagish Rd, Y1A 3P5, Whitehorse, YK.\""
   ]
  },
  {
   "cell_type": "code",
   "execution_count": 53,
   "id": "1d553820",
   "metadata": {},
   "outputs": [
    {
     "name": "stdout",
     "output_type": "stream",
     "text": [
      "My name is Réjean Tremblay. My phone number is (514) 545-4598 and I live at 35 Rue Laurier, J6T 9V7, Longueuil, QC.\n",
      "My name is John Ford. My phone number is (416) 457-1293 and I live at 76 George St, K1N 1K1, Ottawa, ON.\n",
      "My name is Rhoda Gottlieb. My phone number is (403) 678-4964 and I live at 725 Railway Ave, T1W 1P2, Canmore, BC.\n",
      "My name is Bella Herman. My phone number is (204) 987-5551 and I live at 1743 Pembina Hwy, R2M 3E1, Winnipeg, MB.\n",
      "My name is Wilmer Shanahan. My phone number is (705) 444-6606 and I live at 470 1 St, N7M 2J8, Collingwood, ON.\n",
      "My name is Chase Hayes. My phone number is (604) 255-4844 and I live at 1875 Commercial Dr, V5N 4A6, Vancouver, BC.\n",
      "My name is Ferne Gibson. My phone number is (613) 829-1920 and I live at 1119 Baxter Rd, K2C 1M1, Ottawa, ON.\n",
      "My name is Marie Dumont. My phone number is (418) 663-1234 and I live at 3410 Boul. Sainte-Anne, G1E 3L7, Beauport, QC.\n",
      "My name is Chet Huel. My phone number is (403) 279-2198 and I live at 116 Inverness Rise SE, T2Z 2X1, Calgary, AB.\n",
      "My name is Maegan Cronin. My phone number is (250) 275-1588 and I live at 3101 Highway 6, V1T 9H6, Vernon, BC.\n",
      "My name is Alexis Leduc. My phone number is (514) 296-2929 and I live at 1450 Rue Crescent, H3G 2B2, Montréal, QC.\n",
      "My name is Horacio Braun. My phone number is (604) 755-8022 and I live at 32900 S Fraser Way, V2S 5A1, Abbotford, BC.\n",
      "My name is Cameron Reichel. My phone number is (204) 957-2500 and I live at 484 McPhillips St, R2X 2H2, Winnipeg, MB.\n",
      "My name is Kristopher McDermott. My phone number is (604) 538-3090 and I live at 15355 24 Ave, V4A 2H9, Surrey, BC.\n",
      "My name is Kirsten Lowe. My phone number is (902) 962-3599 and I live at 125 Sydney St, C1A 1G5, Charlottetown, PE.\n",
      "My name is Royce Lockman. My phone number is (306) 882-2011 and I live at 104 Railway Ave E, S0L 2V0, Rosetown, SK.\n",
      "My name is Jonathan Quigley. My phone number is (416) 727-3597 and I live at 14 Fluellen Dr, M1W 2B3, Scarborough, ON.\n",
      "My name is Brielle Balistreri. My phone number is (604) 255-0698 and I live at 2163 Hastings St, V5L 7H8, Vancouver, BC.\n",
      "My name is Fernando Spinka. My phone number is (506) 384-6116 and I live at 25 Killam Dr, E1C 3R1, Moncton, NB.\n",
      "My name is Henri Dupré. My phone number is (450) 538-7333 and I live at 9 Rue Principale Nord, J0E 2K0, Sutton, QC.\n",
      "My name is Mylène Gravel. My phone number is (450) 747-0822 and I live at 120 Rue Grande-Île, J6S 3M6, Salaberry-de-Valleyfield, QC.\n",
      "My name is Santa Weissnat. My phone number is (604) 214-0888 and I live at 8368 Alexandra Rd, V6X 4A6, Richmond, BC.\n",
      "My name is Jerome Robel. My phone number is (902) 634-3334 and I live at 4 Dufferin St, B0J 2C0, Lunenburg, NS.\n",
      "My name is Giselle Lagacé. My phone number is (514) 485-2652 and I live at 5601 Ave. de Monkland, H4A 1E4, Montréal, QC.\n",
      "My name is Coleman Crooks. My phone number is (604) 554-0212 and I live at 2929 Barnet Hwy, V3B 5R5, Coquitlam, BC.\n",
      "My name is Gregoria Osinski. My phone number is (867) 667-2161 and I live at 18 Tagish Rd, Y1A 3P5, Whitehorse, YT.\n",
      "My name is Florence Lachapelle. My phone number is (418) 266-8900 and I live at 1075 Ch Ste Foy, G1S 2L5, Québec, QC.\n",
      "My name is Holden Osinski. My phone number is (905) 841-8592 and I live at 148 Yonge Aurora, L4G 1M1, Aurora, ON.\n"
     ]
    }
   ],
   "source": [
    "def print_phonebook(phonebook):\n",
    "    \"\"\"\n",
    "    Given a phonebook containing information about certain people, print out that info\n",
    "    phonebook: list of lists\n",
    "    \"\"\"\n",
    "    \n",
    "    for person in phonebook:\n",
    "        print(\n",
    "            \"My name is\",\n",
    "            person[0],\n",
    "            person[1]+\".\",\n",
    "            \"My phone number is\",\n",
    "            person[2],\n",
    "            \"and I live at\",\n",
    "            person[3],\n",
    "            person[4]+\",\",\n",
    "            person[5]+\",\",\n",
    "            person[6]+\",\",\n",
    "            person[7]+\".\"\n",
    "        )\n",
    "        \n",
    "print_phonebook(phonebook)\n",
    "    "
   ]
  },
  {
   "cell_type": "markdown",
   "id": "b5360076",
   "metadata": {},
   "source": [
    "### (b)\n",
    "\n",
    "Write a function that prints out the same sentence as in (a), but **only if** the person lives in a certain province."
   ]
  },
  {
   "cell_type": "code",
   "execution_count": 61,
   "id": "a5432056",
   "metadata": {},
   "outputs": [
    {
     "name": "stdout",
     "output_type": "stream",
     "text": [
      "My name is Réjean Tremblay. My phone number is (514) 545-4598 and I live at 35 Rue Laurier, J6T 9V7, Longueuil, QC.\n",
      "My name is Marie Dumont. My phone number is (418) 663-1234 and I live at 3410 Boul. Sainte-Anne, G1E 3L7, Beauport, QC.\n",
      "My name is Alexis Leduc. My phone number is (514) 296-2929 and I live at 1450 Rue Crescent, H3G 2B2, Montréal, QC.\n",
      "My name is Henri Dupré. My phone number is (450) 538-7333 and I live at 9 Rue Principale Nord, J0E 2K0, Sutton, QC.\n",
      "My name is Mylène Gravel. My phone number is (450) 747-0822 and I live at 120 Rue Grande-Île, J6S 3M6, Salaberry-de-Valleyfield, QC.\n",
      "My name is Giselle Lagacé. My phone number is (514) 485-2652 and I live at 5601 Ave. de Monkland, H4A 1E4, Montréal, QC.\n",
      "My name is Florence Lachapelle. My phone number is (418) 266-8900 and I live at 1075 Ch Ste Foy, G1S 2L5, Québec, QC.\n"
     ]
    }
   ],
   "source": [
    "def conditional_phonebook(phonebook, province):\n",
    "    \"\"\"\n",
    "    Print out each person in phonebook if they live in province\n",
    "    phonebook: list of lists\n",
    "    province: international two-letter province code, capitalized (string)\n",
    "    \"\"\"\n",
    "    \n",
    "    new_phonebook = []\n",
    "    for person in phonebook:\n",
    "        if person[-1] == province:\n",
    "            new_phonebook.append(person)\n",
    "            \n",
    "    print_phonebook(new_phonebook)\n",
    "    \n",
    "conditional_phonebook(phonebook, province=\"QC\")"
   ]
  },
  {
   "cell_type": "markdown",
   "id": "ee433322",
   "metadata": {},
   "source": [
    "### (c)\n",
    "\n",
    "Write a function that prints out the same sentence as in (a) for each element in the list of lists, but **in alphabetical order** (last name)."
   ]
  },
  {
   "cell_type": "code",
   "execution_count": 76,
   "id": "252f87ce",
   "metadata": {},
   "outputs": [
    {
     "name": "stdout",
     "output_type": "stream",
     "text": [
      "My name is Brielle Balistreri. My phone number is (604) 255-0698 and I live at 2163 Hastings St, V5L 7H8, Vancouver, BC.\n",
      "My name is Horacio Braun. My phone number is (604) 755-8022 and I live at 32900 S Fraser Way, V2S 5A1, Abbotford, BC.\n",
      "My name is Maegan Cronin. My phone number is (250) 275-1588 and I live at 3101 Highway 6, V1T 9H6, Vernon, BC.\n",
      "My name is Coleman Crooks. My phone number is (604) 554-0212 and I live at 2929 Barnet Hwy, V3B 5R5, Coquitlam, BC.\n",
      "My name is Marie Dumont. My phone number is (418) 663-1234 and I live at 3410 Boul. Sainte-Anne, G1E 3L7, Beauport, QC.\n",
      "My name is Henri Dupré. My phone number is (450) 538-7333 and I live at 9 Rue Principale Nord, J0E 2K0, Sutton, QC.\n",
      "My name is John Ford. My phone number is (416) 457-1293 and I live at 76 George St, K1N 1K1, Ottawa, ON.\n",
      "My name is Ferne Gibson. My phone number is (613) 829-1920 and I live at 1119 Baxter Rd, K2C 1M1, Ottawa, ON.\n",
      "My name is Rhoda Gottlieb. My phone number is (403) 678-4964 and I live at 725 Railway Ave, T1W 1P2, Canmore, BC.\n",
      "My name is Mylène Gravel. My phone number is (450) 747-0822 and I live at 120 Rue Grande-Île, J6S 3M6, Salaberry-de-Valleyfield, QC.\n",
      "My name is Chase Hayes. My phone number is (604) 255-4844 and I live at 1875 Commercial Dr, V5N 4A6, Vancouver, BC.\n",
      "My name is Bella Herman. My phone number is (204) 987-5551 and I live at 1743 Pembina Hwy, R2M 3E1, Winnipeg, MB.\n",
      "My name is Chet Huel. My phone number is (403) 279-2198 and I live at 116 Inverness Rise SE, T2Z 2X1, Calgary, AB.\n",
      "My name is Florence Lachapelle. My phone number is (418) 266-8900 and I live at 1075 Ch Ste Foy, G1S 2L5, Québec, QC.\n",
      "My name is Giselle Lagacé. My phone number is (514) 485-2652 and I live at 5601 Ave. de Monkland, H4A 1E4, Montréal, QC.\n",
      "My name is Alexis Leduc. My phone number is (514) 296-2929 and I live at 1450 Rue Crescent, H3G 2B2, Montréal, QC.\n",
      "My name is Royce Lockman. My phone number is (306) 882-2011 and I live at 104 Railway Ave E, S0L 2V0, Rosetown, SK.\n",
      "My name is Kirsten Lowe. My phone number is (902) 962-3599 and I live at 125 Sydney St, C1A 1G5, Charlottetown, PE.\n",
      "My name is Kristopher McDermott. My phone number is (604) 538-3090 and I live at 15355 24 Ave, V4A 2H9, Surrey, BC.\n",
      "My name is Gregoria Osinski. My phone number is (867) 667-2161 and I live at 18 Tagish Rd, Y1A 3P5, Whitehorse, YT.\n",
      "My name is Holden Osinski. My phone number is (905) 841-8592 and I live at 148 Yonge Aurora, L4G 1M1, Aurora, ON.\n",
      "My name is Gregoria Osinski. My phone number is (867) 667-2161 and I live at 18 Tagish Rd, Y1A 3P5, Whitehorse, YT.\n",
      "My name is Holden Osinski. My phone number is (905) 841-8592 and I live at 148 Yonge Aurora, L4G 1M1, Aurora, ON.\n",
      "My name is Jonathan Quigley. My phone number is (416) 727-3597 and I live at 14 Fluellen Dr, M1W 2B3, Scarborough, ON.\n",
      "My name is Cameron Reichel. My phone number is (204) 957-2500 and I live at 484 McPhillips St, R2X 2H2, Winnipeg, MB.\n",
      "My name is Jerome Robel. My phone number is (902) 634-3334 and I live at 4 Dufferin St, B0J 2C0, Lunenburg, NS.\n",
      "My name is Wilmer Shanahan. My phone number is (705) 444-6606 and I live at 470 1 St, N7M 2J8, Collingwood, ON.\n",
      "My name is Fernando Spinka. My phone number is (506) 384-6116 and I live at 25 Killam Dr, E1C 3R1, Moncton, NB.\n",
      "My name is Réjean Tremblay. My phone number is (514) 545-4598 and I live at 35 Rue Laurier, J6T 9V7, Longueuil, QC.\n",
      "My name is Santa Weissnat. My phone number is (604) 214-0888 and I live at 8368 Alexandra Rd, V6X 4A6, Richmond, BC.\n"
     ]
    }
   ],
   "source": [
    "def alphabetical_phonebook(phonebook):\n",
    "    \"\"\"\n",
    "    Print out info for each person in phonebook in alphabetical order of the person's last name\n",
    "    phonebook: list of lists\n",
    "    \"\"\"\n",
    "    \n",
    "    # First, get all the last names and put them in a list\n",
    "    last_names = []\n",
    "    for person in phonebook:\n",
    "        last_names.append(person[1])\n",
    "        \n",
    "    # Sort the last names using Python's built-in sort() function\n",
    "    last_names.sort()\n",
    "    \n",
    "    # Use nested for loops to print out the info in order\n",
    "    for ln in last_names:\n",
    "        \n",
    "        for person in phonebook:\n",
    "            \n",
    "            if person[1] == ln:\n",
    "                \n",
    "                print_phonebook([person])\n",
    "        \n",
    "        \n",
    "alphabetical_phonebook(phonebook)"
   ]
  },
  {
   "cell_type": "markdown",
   "id": "aed928b2",
   "metadata": {},
   "source": [
    "## Exercise 3\n",
    "\n",
    "#### Reviews functions, math operations, and for loops"
   ]
  },
  {
   "cell_type": "markdown",
   "id": "d5e71ba2",
   "metadata": {},
   "source": [
    "A [convergent series](https://en.wikipedia.org/wiki/Convergent_series) is a series composed of an infinite number of terms, and whose sum tends to a specific value. For example:\n",
    "\n",
    "\\begin{equation}\n",
    "\\begin{split}\n",
    "\\sum_{n=1}^\\infty \\left( \\frac{1}{2} \\right)^n &= \\left( \\frac{1}{2} \\right)^1 + \\left( \\frac{1}{2} \\right)^2 + \\left( \\frac{1}{2} \\right)^3 + \\left( \\frac{1}{2} \\right)^4 + ...\\\\\n",
    "&= \\frac{1}{2} + \\frac{1}{4} + \\frac{1}{8} + \\frac{1}{16} + ... \\\\\n",
    "&= 1\n",
    "\\end{split}\n",
    "\\end{equation}\n",
    "\n",
    "The *partial sum* of the first $n$ terms in the series won't give exactly 1, but it will give a value that gets closer and closer to 1 as we increase $n$. For example, for $n = 3$:\n",
    "\n",
    "\\begin{equation}\n",
    "\\begin{split}\n",
    "\\frac{1}{2} + \\frac{1}{4} + \\frac{1}{8} &= 0.875\n",
    "\\end{split}\n",
    "\\end{equation}\n",
    "\n",
    "For $n=5$:\n",
    "\n",
    "\\begin{equation}\n",
    "\\begin{split}\n",
    "\\frac{1}{2} + \\frac{1}{4} + \\frac{1}{8} + \\frac{1}{16} + \\frac{1}{32} &= 0.96875\n",
    "\\end{split}\n",
    "\\end{equation}\n",
    "\n",
    "And so on until $n \\to \\infty$."
   ]
  },
  {
   "cell_type": "markdown",
   "id": "aefa2f40",
   "metadata": {},
   "source": [
    "### (a)\n",
    "\n",
    "Write a function that calculates the partial sum of the following series for a given value of $n$:\n",
    "\n",
    "\\begin{equation}\n",
    "\\begin{split}\n",
    "\\sum_{n=0}^{\\infty} \\frac{1}{n!} &= \\frac{1}{0!} + \\frac{1}{1!} + \\frac{1}{2!} + \\frac{1}{3!} + \\frac{1}{4!} + ... \\\\\n",
    "&= \\frac{1}{1} + \\frac{1}{1} + \\frac{1}{2} + \\frac{1}{6} + \\frac{1}{24} + ...\n",
    "\\end{split}\n",
    "\\end{equation}\n",
    "\n",
    "Is this series convergent? If so, what does it converge to?"
   ]
  },
  {
   "cell_type": "code",
   "execution_count": 102,
   "id": "74389f20",
   "metadata": {},
   "outputs": [
    {
     "name": "stdout",
     "output_type": "stream",
     "text": [
      "2.6666666666666665\n",
      "2.7182815255731922\n",
      "2.7182818284590455\n",
      "2.7182818284590455\n"
     ]
    }
   ],
   "source": [
    "def recip_factorial_series(n, verbose=False):\n",
    "    \"\"\"\n",
    "    Calculate the partial sum of the reciprocal factorial series for n terms\n",
    "    n: integer\n",
    "    \"\"\"\n",
    "    \n",
    "    partial_sum = 0\n",
    "    for i in range(n):\n",
    "        \n",
    "        partial_sum += 1/np.math.factorial(i)\n",
    "        \n",
    "        if verbose:\n",
    "            print(f\"The partial sum for {i+1} terms is {partial_sum}\")\n",
    "    \n",
    "    return partial_sum\n",
    "\n",
    "print(recip_factorial_series(4))\n",
    "print(recip_factorial_series(10))\n",
    "print(recip_factorial_series(100))\n",
    "print(recip_factorial_series(1000))"
   ]
  },
  {
   "cell_type": "code",
   "execution_count": 92,
   "id": "4718dd50",
   "metadata": {},
   "outputs": [
    {
     "data": {
      "text/plain": [
       "2.718281828459045"
      ]
     },
     "execution_count": 92,
     "metadata": {},
     "output_type": "execute_result"
    }
   ],
   "source": [
    "# What does this value correspond to?\n",
    "\n",
    "np.e  # Euler's number!"
   ]
  },
  {
   "cell_type": "markdown",
   "id": "f57dc3b3",
   "metadata": {},
   "source": [
    "### (b)\n",
    "\n",
    "Write a function that calculates the partial sum of the following series for a given value of $n$:\n",
    "\n",
    "\\begin{equation}\n",
    "\\begin{split}\n",
    "\\sum_{n=1}^\\infty \\frac{1}{n} &= \\frac{1}{1} + \\frac{1}{2} + \\frac{1}{3} + \\frac{1}{4} + ...\n",
    "\\end{split}\n",
    "\\end{equation}\n",
    "\n",
    "Is this series convergent? If so, what does it converge to?"
   ]
  },
  {
   "cell_type": "code",
   "execution_count": 100,
   "id": "feb84d3c",
   "metadata": {
    "scrolled": true
   },
   "outputs": [
    {
     "name": "stdout",
     "output_type": "stream",
     "text": [
      "2.9289682539682538\n",
      "5.187377517639621\n",
      "7.485470860550343\n",
      "9.787606036044348\n"
     ]
    }
   ],
   "source": [
    "def recip_integers(n, verbose=False):\n",
    "    \"\"\"\n",
    "    Calculate the partial sum for the reciprocal of all integers series for n terms\n",
    "    n: integer\n",
    "    \"\"\"\n",
    "    partial_sum = 0\n",
    "    for i in range(1, n+1):\n",
    "        partial_sum += 1/i\n",
    "        if verbose:\n",
    "            print(f\"The partial sum for {i} terms is {partial_sum}\")\n",
    "    \n",
    "    return partial_sum\n",
    "\n",
    "print(recip_integers(10))\n",
    "print(recip_integers(100))\n",
    "print(recip_integers(1000))\n",
    "print(recip_integers(10000))\n",
    "\n",
    "# Result: this is a divergent series!"
   ]
  },
  {
   "cell_type": "markdown",
   "id": "68e70654",
   "metadata": {},
   "source": [
    "### (c)\n",
    "\n",
    "Write a function that calculates the partial sum of the following series for a given value of $n$:\n",
    "\n",
    "\\begin{equation}\n",
    "\\begin{split}\n",
    "\\sum_{n=0}^\\infty \\left( -1 \\right)^n \\left( \\frac{1}{2} \\right)^n &= \\left( -1 \\right)^0 \\left( \\frac{1}{2} \\right)^0 + \\left( -1 \\right)^1 \\left( \\frac{1}{2} \\right)^1 + \\left( -1 \\right)^2 \\left( \\frac{1}{2} \\right)^2 + ... \\\\\n",
    "&= (1) \\frac{1}{1} + (-1) \\frac{1}{2} + (1) \\frac{1}{4} + (-1) \\frac{1}{8} + ... \\\\\n",
    "&= 1 - \\frac{1}{2} + \\frac{1}{4} - \\frac{1}{8} + \\frac{1}{16} + ...\n",
    "\\end{split}\n",
    "\\end{equation}\n",
    "\n",
    "Is this series convergent? If so, what does it converge to?"
   ]
  },
  {
   "cell_type": "code",
   "execution_count": 108,
   "id": "287b19fc",
   "metadata": {},
   "outputs": [
    {
     "name": "stdout",
     "output_type": "stream",
     "text": [
      "0.625\n",
      "0.666015625\n",
      "0.6666666666666667\n",
      "0.6666666666666667\n"
     ]
    }
   ],
   "source": [
    "def alternating_recip_powers(n, verbose=False):\n",
    "    \"\"\"\n",
    "    Calculate the partial sum of the series of alternating reciprocal powers of 2 for n terms\n",
    "    n: integer\n",
    "    \"\"\"\n",
    "    \n",
    "    partial_sum = 0\n",
    "    for i in range(n):\n",
    "        \n",
    "        partial_sum += (-1)**i * (1/2)**i\n",
    "        \n",
    "        if verbose:\n",
    "            print(f\"The partial sum for {i+1} terms is {partial_sum}\")\n",
    "    \n",
    "    return partial_sum\n",
    "\n",
    "print(alternating_recip_powers(4))\n",
    "print(alternating_recip_powers(10))\n",
    "print(alternating_recip_powers(100))\n",
    "print(alternating_recip_powers(1000))"
   ]
  },
  {
   "cell_type": "code",
   "execution_count": 110,
   "id": "a61439d2",
   "metadata": {},
   "outputs": [
    {
     "data": {
      "text/plain": [
       "0.6666666666666666"
      ]
     },
     "execution_count": 110,
     "metadata": {},
     "output_type": "execute_result"
    }
   ],
   "source": [
    "# What value is this?\n",
    "\n",
    "2/3\n",
    "\n",
    "# It's simply 2/3"
   ]
  },
  {
   "cell_type": "code",
   "execution_count": null,
   "id": "1e752fa8",
   "metadata": {},
   "outputs": [],
   "source": []
  }
 ],
 "metadata": {
  "kernelspec": {
   "display_name": "Python 3 (ipykernel)",
   "language": "python",
   "name": "python3"
  },
  "language_info": {
   "codemirror_mode": {
    "name": "ipython",
    "version": 3
   },
   "file_extension": ".py",
   "mimetype": "text/x-python",
   "name": "python",
   "nbconvert_exporter": "python",
   "pygments_lexer": "ipython3",
   "version": "3.10.5"
  }
 },
 "nbformat": 4,
 "nbformat_minor": 5
}
