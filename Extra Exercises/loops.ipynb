{
 "cells": [
  {
   "cell_type": "markdown",
   "id": "cbaeb5ac",
   "metadata": {},
   "source": [
    "# Extra Exercises: for loops and while loops"
   ]
  },
  {
   "cell_type": "markdown",
   "id": "732d197d",
   "metadata": {},
   "source": [
    "### Goal: try to figure out what the cells below should output before running them!"
   ]
  },
  {
   "cell_type": "markdown",
   "id": "13e570e3",
   "metadata": {},
   "source": [
    "#### 1. What does this print?"
   ]
  },
  {
   "cell_type": "code",
   "execution_count": null,
   "id": "819e070b",
   "metadata": {},
   "outputs": [],
   "source": [
    "x = 1\n",
    "y = 20\n",
    "while (x < y):\n",
    "    print(x, end = \" \")\n",
    "    \n",
    "    y -= 2\n",
    "    x += 3"
   ]
  },
  {
   "cell_type": "markdown",
   "id": "ead74d32",
   "metadata": {},
   "source": [
    "#### 2. What is the difference between loop A and loop B? How does this affect what they print?"
   ]
  },
  {
   "cell_type": "code",
   "execution_count": null,
   "id": "e2924a43",
   "metadata": {},
   "outputs": [],
   "source": [
    "# A loop:\n",
    "\n",
    "a = 1\n",
    "b = 4\n",
    "c = 2\n",
    "while (a < c):\n",
    "    b -= a\n",
    "    a += 3\n",
    "    c *= b\n",
    "    \n",
    "    print(b)"
   ]
  },
  {
   "cell_type": "code",
   "execution_count": null,
   "id": "7a4db714",
   "metadata": {},
   "outputs": [],
   "source": [
    "# B loop:\n",
    "\n",
    "a = 1\n",
    "b = 4\n",
    "c = 2\n",
    "while (a < c):\n",
    "    b -= a\n",
    "    a += 3\n",
    "    c *= b\n",
    "    \n",
    "    print(b)"
   ]
  },
  {
   "cell_type": "markdown",
   "id": "9fe7a1d3",
   "metadata": {},
   "source": [
    "#### 3. What does this print?"
   ]
  },
  {
   "cell_type": "code",
   "execution_count": null,
   "id": "f3a01e8d",
   "metadata": {},
   "outputs": [],
   "source": [
    "i = 2\n",
    "j = 10\n",
    "while (i < j):\n",
    "    print(\"?\")\n",
    "    for k in range(14, 4, -1):\n",
    "        print(\"?\")\n",
    "    i -= 2"
   ]
  },
  {
   "cell_type": "markdown",
   "id": "1b977d7b",
   "metadata": {},
   "source": [
    "#### 4. What does this print?"
   ]
  },
  {
   "cell_type": "code",
   "execution_count": null,
   "id": "3e50fbdd",
   "metadata": {},
   "outputs": [],
   "source": [
    "for i in range(1, 10):\n",
    "    if (i < 5):\n",
    "        print(i, end = \" \")\n",
    "        \n",
    "    if (i == 5):\n",
    "        print(\"Almost there!\")\n",
    "        \n",
    "    if (i > 5):\n",
    "        for j in range(2):\n",
    "            print(i*3, end = \" \")"
   ]
  },
  {
   "cell_type": "markdown",
   "id": "50e766f9",
   "metadata": {},
   "source": [
    "#### 5. How many stars does this loop print?"
   ]
  },
  {
   "cell_type": "code",
   "execution_count": null,
   "id": "de96bf4d",
   "metadata": {},
   "outputs": [],
   "source": [
    "for i in range (0, 6):\n",
    "    print(\"*\")\n",
    "    \n",
    "    for j in range (0, 10, 3):\n",
    "        print(\"*\")\n",
    "        \n",
    "        for k in range (8, 3, -2):\n",
    "            print(\"*\")\n",
    "    print(\"*\")"
   ]
  },
  {
   "cell_type": "markdown",
   "id": "bbdce08c",
   "metadata": {},
   "source": [
    "#### 6. How many times is the condition of the for loop checked?"
   ]
  },
  {
   "cell_type": "code",
   "execution_count": null,
   "id": "d9ddcc86",
   "metadata": {},
   "outputs": [],
   "source": [
    "for i in range(0, 7, 2):\n",
    "    print(\"Hello!\")"
   ]
  },
  {
   "cell_type": "markdown",
   "id": "cecb497c",
   "metadata": {},
   "source": [
    "#### 7. Write a code to check whether x is a prime number"
   ]
  },
  {
   "cell_type": "code",
   "execution_count": null,
   "id": "b6cd1f87",
   "metadata": {},
   "outputs": [],
   "source": [
    "x = ...\n",
    "\n",
    "#\n",
    "# Your code goes here\n",
    "#"
   ]
  },
  {
   "cell_type": "code",
   "execution_count": null,
   "id": "0426d3bc",
   "metadata": {},
   "outputs": [],
   "source": []
  }
 ],
 "metadata": {
  "kernelspec": {
   "display_name": "Python 3 (ipykernel)",
   "language": "python",
   "name": "python3"
  },
  "language_info": {
   "codemirror_mode": {
    "name": "ipython",
    "version": 3
   },
   "file_extension": ".py",
   "mimetype": "text/x-python",
   "name": "python",
   "nbconvert_exporter": "python",
   "pygments_lexer": "ipython3",
   "version": "3.10.5"
  }
 },
 "nbformat": 4,
 "nbformat_minor": 5
}
