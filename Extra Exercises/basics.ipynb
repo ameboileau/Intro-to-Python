{
 "cells": [
  {
   "cell_type": "markdown",
   "id": "e6b269b8",
   "metadata": {},
   "source": [
    "# Extra Exercises - Basics"
   ]
  },
  {
   "cell_type": "markdown",
   "id": "2040ee20",
   "metadata": {},
   "source": [
    "### Goal: Try to figure out what the cells below will output *before* running them! When you feel like you know the answer, go ahead and run the cells!"
   ]
  },
  {
   "cell_type": "markdown",
   "id": "77df03e7",
   "metadata": {},
   "source": [
    "#### 1. What prints?"
   ]
  },
  {
   "cell_type": "code",
   "execution_count": null,
   "id": "187a4d57",
   "metadata": {},
   "outputs": [],
   "source": [
    "print(\"the result of\" + \"2\" + \"9\" + \"is\", 11)"
   ]
  },
  {
   "cell_type": "markdown",
   "id": "cd8c9648",
   "metadata": {},
   "source": [
    "#### 2. What prints?"
   ]
  },
  {
   "cell_type": "code",
   "execution_count": null,
   "id": "2ddf636a",
   "metadata": {},
   "outputs": [],
   "source": [
    "print(3 + \"*\" + 7 + \"is equal to\", 18 + 3)"
   ]
  },
  {
   "cell_type": "markdown",
   "id": "1d2bda9a",
   "metadata": {},
   "source": [
    "#### 3. Choose the correct ways to print the line: 7 + 3\n",
    "\n",
    "(a) print(7 \"+\" 3)\\\n",
    "(b) print(7 + \"+\" + 3)\\\n",
    "(c) print(7, \"+\", 3)\\\n",
    "(d) print(\"7\" + \" + \" + \"3\")"
   ]
  },
  {
   "cell_type": "code",
   "execution_count": null,
   "id": "c39859bd",
   "metadata": {},
   "outputs": [],
   "source": [
    "# Test your answer here"
   ]
  },
  {
   "cell_type": "markdown",
   "id": "62a80784",
   "metadata": {},
   "source": [
    "#### 4. What prints?"
   ]
  },
  {
   "cell_type": "code",
   "execution_count": null,
   "id": "8996633b",
   "metadata": {},
   "outputs": [],
   "source": [
    "print(int(7.8))\n",
    "print(float(12))"
   ]
  },
  {
   "cell_type": "markdown",
   "id": "c2794661",
   "metadata": {},
   "source": [
    "#### 5. Does this print 19?"
   ]
  },
  {
   "cell_type": "code",
   "execution_count": null,
   "id": "0c82d18a",
   "metadata": {},
   "outputs": [],
   "source": [
    "print(int('7') + str(12))"
   ]
  },
  {
   "cell_type": "markdown",
   "id": "ccb941e7",
   "metadata": {},
   "source": [
    "#### 6. What is the value of *var*?"
   ]
  },
  {
   "cell_type": "code",
   "execution_count": null,
   "id": "80539214",
   "metadata": {},
   "outputs": [],
   "source": [
    "var = 21\n",
    "var2 = var + 6\n",
    "var = var2 + 1"
   ]
  },
  {
   "cell_type": "markdown",
   "id": "12f98f0e",
   "metadata": {},
   "source": [
    "#### 7. What prints?"
   ]
  },
  {
   "cell_type": "code",
   "execution_count": null,
   "id": "05138736",
   "metadata": {},
   "outputs": [],
   "source": [
    "x = 7\n",
    "y = 4\n",
    "x = y\n",
    "y = x\n",
    "print(x, y)"
   ]
  },
  {
   "cell_type": "markdown",
   "id": "5710c47b",
   "metadata": {},
   "source": [
    "#### 8. What outputs?"
   ]
  },
  {
   "cell_type": "code",
   "execution_count": null,
   "id": "55cc41ad",
   "metadata": {},
   "outputs": [],
   "source": [
    "0.6 // 0.2\n",
    "0.6 == 0.2 * ( 0.6 // 0.2 ) + 0.6 % 0.2"
   ]
  },
  {
   "cell_type": "markdown",
   "id": "76f3232c",
   "metadata": {},
   "source": [
    "#### 9.  Which of the following variable assignments is/are invalid?\n",
    "\n",
    "a. year = 2019\\\n",
    "b. course = \"COMP 202\"\\\n",
    "c. class_is_fun = True\\\n",
    "d. class = \"COMP 202\""
   ]
  },
  {
   "cell_type": "code",
   "execution_count": null,
   "id": "c40e8793",
   "metadata": {},
   "outputs": [],
   "source": [
    "# Test your answer here"
   ]
  },
  {
   "cell_type": "markdown",
   "id": "df7e3c44",
   "metadata": {},
   "source": [
    "#### 10. Write a Python program to solve (x + y) * (x + y) and display the results."
   ]
  },
  {
   "cell_type": "code",
   "execution_count": null,
   "id": "4be9a6df",
   "metadata": {},
   "outputs": [],
   "source": [
    "x = ...\n",
    "y = ...\n",
    "\n",
    "#\n",
    "# Your code goes here\n",
    "#"
   ]
  },
  {
   "cell_type": "markdown",
   "id": "e8860ec6",
   "metadata": {},
   "source": [
    "#### 11. Write a program that swaps the value of x and y\n",
    "\n",
    "(i.e. if x = 5 and y = 10, then print(x) should return 10 and print(y) should return 5)"
   ]
  },
  {
   "cell_type": "code",
   "execution_count": null,
   "id": "c58448b9",
   "metadata": {},
   "outputs": [],
   "source": [
    "x = ...\n",
    "y = ...\n",
    "\n",
    "#\n",
    "# Your code goes here\n",
    "#"
   ]
  },
  {
   "cell_type": "markdown",
   "id": "8e5df63a",
   "metadata": {},
   "source": [
    "#### 12. Which of the following returns the maximum between 5 and 10?\n",
    "\n",
    "(a) (5, 10).max()\\\n",
    "(b) \\[5, 10\\].max()\\\n",
    "(c) max([5,10])\\\n",
    "(d) max(5, 10)"
   ]
  },
  {
   "cell_type": "code",
   "execution_count": null,
   "id": "feb9b7c4",
   "metadata": {},
   "outputs": [],
   "source": [
    "# Test your answer here"
   ]
  },
  {
   "cell_type": "markdown",
   "id": "5c4fb1d8",
   "metadata": {},
   "source": [
    "#### 13. Which of the following method(s) corresponds to the correct way(s) to cast an integer x to a string?\n",
    "\n",
    "(a) x = \"x\"\\\n",
    "(b) x = str(x)\\\n",
    "(c) x = x.str()\\\n",
    "(d) x = string(x)"
   ]
  },
  {
   "cell_type": "code",
   "execution_count": null,
   "id": "3a9d70bf",
   "metadata": {},
   "outputs": [],
   "source": [
    "# Test your answer here\n",
    "x = ..."
   ]
  },
  {
   "cell_type": "markdown",
   "id": "4fbb8361",
   "metadata": {},
   "source": [
    "#### 14. Which of the following returns the object *type* of x?\n",
    "\n",
    "(a) type(x)\\\n",
    "(b) x.type()\\\n",
    "(c) object(x)\\\n",
    "(d) x.obj()"
   ]
  },
  {
   "cell_type": "code",
   "execution_count": null,
   "id": "33ee4d27",
   "metadata": {},
   "outputs": [],
   "source": [
    "# Test your answer here\n",
    "x = ..."
   ]
  },
  {
   "cell_type": "markdown",
   "id": "3373f422",
   "metadata": {},
   "source": [
    "#### 15. Will this code run without errors?"
   ]
  },
  {
   "cell_type": "code",
   "execution_count": null,
   "id": "9f74dfbe",
   "metadata": {},
   "outputs": [],
   "source": [
    "x = 12\n",
    "y = \"20\"\n",
    "\n",
    "print(x+y, \"equals\", 22)"
   ]
  },
  {
   "cell_type": "markdown",
   "id": "a1aec05e",
   "metadata": {},
   "source": [
    "#### 16. Will this code run without errors?"
   ]
  },
  {
   "cell_type": "code",
   "execution_count": null,
   "id": "9328e01d",
   "metadata": {},
   "outputs": [],
   "source": [
    "x = \"12\"\n",
    "y = \"20\"\n",
    "\n",
    "print(x+y, \"equals\", 22)"
   ]
  },
  {
   "cell_type": "markdown",
   "id": "6c97c59b",
   "metadata": {},
   "source": [
    "#### 17. Will this code run without errors?"
   ]
  },
  {
   "cell_type": "code",
   "execution_count": null,
   "id": "11e648aa",
   "metadata": {},
   "outputs": [],
   "source": [
    "x = 12\n",
    "y = 20\n",
    "\n",
    "print(x+y, \"equals\", 22)"
   ]
  },
  {
   "cell_type": "markdown",
   "id": "f58cb836",
   "metadata": {},
   "source": [
    "#### 18. What will this print?"
   ]
  },
  {
   "cell_type": "code",
   "execution_count": null,
   "id": "0b417abc",
   "metadata": {},
   "outputs": [],
   "source": [
    "name = \"Jade\"\n",
    "\n",
    "print(name[0])"
   ]
  },
  {
   "cell_type": "markdown",
   "id": "da24a1ab",
   "metadata": {},
   "source": [
    "#### 19. What will this print?"
   ]
  },
  {
   "cell_type": "code",
   "execution_count": null,
   "id": "1fa6159d",
   "metadata": {},
   "outputs": [],
   "source": [
    "print(\"My\" + \"name\" + \"is\" + \"Jade\")"
   ]
  },
  {
   "cell_type": "markdown",
   "id": "42bc2814",
   "metadata": {},
   "source": [
    "#### 20. What will this print?"
   ]
  },
  {
   "cell_type": "code",
   "execution_count": null,
   "id": "ec00bc4e",
   "metadata": {},
   "outputs": [],
   "source": [
    "print(\"My\", \"name\", \"is\", \"Jade\")"
   ]
  },
  {
   "cell_type": "markdown",
   "id": "2862f1f2",
   "metadata": {},
   "source": [
    "#### 21. What will this print?"
   ]
  },
  {
   "cell_type": "code",
   "execution_count": null,
   "id": "17d720d6",
   "metadata": {},
   "outputs": [],
   "source": [
    "first_name = \"Dwight\"\n",
    "last_name = \"Schrute\"\n",
    "\n",
    "name = first_name + last_name\n",
    "\n",
    "print(name)"
   ]
  },
  {
   "cell_type": "markdown",
   "id": "79a011a0",
   "metadata": {},
   "source": [
    "#### 22. What will this print?"
   ]
  },
  {
   "cell_type": "code",
   "execution_count": null,
   "id": "dfd826a4",
   "metadata": {},
   "outputs": [],
   "source": [
    "first_name = \"Dwight\"\n",
    "last_name = \"Schrute\"\n",
    "\n",
    "name = first_name + \" \" + last_name\n",
    "\n",
    "print(name)"
   ]
  },
  {
   "cell_type": "markdown",
   "id": "60240d06",
   "metadata": {},
   "source": [
    "#### 23. What is the value of x?"
   ]
  },
  {
   "cell_type": "code",
   "execution_count": null,
   "id": "0bae35d4",
   "metadata": {},
   "outputs": [],
   "source": [
    "x = 10\n",
    "y = x/2\n",
    "x = y-3\n",
    "y = y+3\n",
    "x = x+y"
   ]
  },
  {
   "cell_type": "markdown",
   "id": "b9fb5baf",
   "metadata": {},
   "source": [
    "#### 24. The following cells are bugged. Debug them so that they run without errors"
   ]
  },
  {
   "cell_type": "code",
   "execution_count": null,
   "id": "d3943c7b",
   "metadata": {},
   "outputs": [],
   "source": [
    "print(\"I am\" 21 \"years old\")"
   ]
  },
  {
   "cell_type": "code",
   "execution_count": null,
   "id": "135ce002",
   "metadata": {},
   "outputs": [],
   "source": [
    "print(hello world)"
   ]
  },
  {
   "cell_type": "code",
   "execution_count": null,
   "id": "b8053f70",
   "metadata": {},
   "outputs": [],
   "source": [
    "print(\"10\"+10)"
   ]
  },
  {
   "cell_type": "code",
   "execution_count": null,
   "id": "79095eb1",
   "metadata": {},
   "outputs": [],
   "source": [
    "name = \"Jade\n",
    "\n",
    "print(name)"
   ]
  },
  {
   "cell_type": "code",
   "execution_count": null,
   "id": "5c3f1679",
   "metadata": {},
   "outputs": [],
   "source": [
    "x = 20\n",
    "y = x/2\n",
    "x = y-10\n",
    "\n",
    "print(y/x)"
   ]
  },
  {
   "cell_type": "markdown",
   "id": "918a5ad2",
   "metadata": {},
   "source": [
    "#### 25. What does this print?"
   ]
  },
  {
   "cell_type": "code",
   "execution_count": null,
   "id": "bfdcb270",
   "metadata": {},
   "outputs": [],
   "source": [
    "game = \"Minecraft\"\n",
    "\n",
    "print(\n",
    "    \"My\",\n",
    "    \"favourite\",\n",
    "    \"game\",\n",
    "    \"is\",\n",
    "    game\n",
    ")"
   ]
  },
  {
   "cell_type": "code",
   "execution_count": null,
   "id": "b7ec383e",
   "metadata": {},
   "outputs": [],
   "source": []
  }
 ],
 "metadata": {
  "kernelspec": {
   "display_name": "Python 3 (ipykernel)",
   "language": "python",
   "name": "python3"
  },
  "language_info": {
   "codemirror_mode": {
    "name": "ipython",
    "version": 3
   },
   "file_extension": ".py",
   "mimetype": "text/x-python",
   "name": "python",
   "nbconvert_exporter": "python",
   "pygments_lexer": "ipython3",
   "version": "3.10.5"
  }
 },
 "nbformat": 4,
 "nbformat_minor": 5
}
