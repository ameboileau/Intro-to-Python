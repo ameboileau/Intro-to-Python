{
 "cells": [
  {
   "cell_type": "markdown",
   "id": "ad79d17b",
   "metadata": {},
   "source": [
    "# Extra Exercises: if statements"
   ]
  },
  {
   "cell_type": "markdown",
   "id": "66a9e549",
   "metadata": {},
   "source": [
    "### Goal: try to figure out what the output of the cells below should be *before* running them!"
   ]
  },
  {
   "cell_type": "markdown",
   "id": "61dd5410",
   "metadata": {},
   "source": [
    "#### 1. What do the following Boolean expressions evaluate to?"
   ]
  },
  {
   "cell_type": "code",
   "execution_count": null,
   "id": "5dbb7f20",
   "metadata": {},
   "outputs": [],
   "source": [
    "6/2//3 == 1 and 17//17 == 1.0 and 30/2 > 10 and 1**0 <= 0"
   ]
  },
  {
   "cell_type": "code",
   "execution_count": null,
   "id": "ef1a2435",
   "metadata": {},
   "outputs": [],
   "source": [
    "6/2//3 == 1 and 17//17 == 1.0 and 30/2 > 10 or 0**0 <= 0"
   ]
  },
  {
   "cell_type": "code",
   "execution_count": null,
   "id": "827b819c",
   "metadata": {},
   "outputs": [],
   "source": [
    "(6/2//3 == 1 and 17//17 == 1.0) and (30/2 > 10 and 10**0 <= 0)"
   ]
  },
  {
   "cell_type": "code",
   "execution_count": null,
   "id": "6e24f74e",
   "metadata": {},
   "outputs": [],
   "source": [
    "6/2//3 == 1 and (17//17 == 1.0 and 30/2 > 10 or (-1)**0 <= 0)"
   ]
  },
  {
   "cell_type": "code",
   "execution_count": null,
   "id": "d2121052",
   "metadata": {},
   "outputs": [],
   "source": [
    "not 6/2//3 == 1 and 17//17 == 1.0 and 30/2 > 10"
   ]
  },
  {
   "cell_type": "code",
   "execution_count": null,
   "id": "7879c78e",
   "metadata": {},
   "outputs": [],
   "source": [
    "bool(1**0 or 1**1 and 2//2 and 3-2 or 4*6-23)"
   ]
  },
  {
   "cell_type": "code",
   "execution_count": null,
   "id": "1c3a57c4",
   "metadata": {},
   "outputs": [],
   "source": [
    "bool(not (0 and 1))"
   ]
  },
  {
   "cell_type": "code",
   "execution_count": null,
   "id": "0a2844e4",
   "metadata": {},
   "outputs": [],
   "source": [
    "bool(not 0 and 1)"
   ]
  },
  {
   "cell_type": "markdown",
   "id": "919042a5",
   "metadata": {},
   "source": [
    "#### 2. What prints for the following code when x = -5? What about when x = 100?"
   ]
  },
  {
   "cell_type": "code",
   "execution_count": null,
   "id": "b2661013",
   "metadata": {},
   "outputs": [],
   "source": [
    "x = ...\n",
    "\n",
    "if (x > 100):\n",
    "    print(\"Positive\")\n",
    "elif (x < 100):\n",
    "    print(\"Negative\")\n",
    "else :\n",
    "    print(\"100\")"
   ]
  },
  {
   "cell_type": "markdown",
   "id": "4777ed79",
   "metadata": {},
   "source": [
    "#### 3. What prints for the following code when x = 50? What about when x = 0?"
   ]
  },
  {
   "cell_type": "code",
   "execution_count": null,
   "id": "3f6e7f3f",
   "metadata": {},
   "outputs": [],
   "source": [
    "x = ...\n",
    "\n",
    "if (x > 0):\n",
    "    if (x > 1000):\n",
    "        print(\"You are rich!\")\n",
    "    else:\n",
    "        print(\"You have a positive balance.\")\n",
    "elif (x < 0):\n",
    "    print(\"You have a negative balance.\")\n",
    "else :\n",
    "    print(\"Your balance is 0.\")"
   ]
  },
  {
   "cell_type": "markdown",
   "id": "097c6827",
   "metadata": {},
   "source": [
    "#### 4. What prints?"
   ]
  },
  {
   "cell_type": "code",
   "execution_count": null,
   "id": "695c2c4d",
   "metadata": {},
   "outputs": [],
   "source": [
    "x = 10\n",
    "if (x == 10 and x%3 == 0):\n",
    "    print(\"I hear the drums echoing tonight\")\n",
    "    x = 21\n",
    "elif (not x%5 == 0):\n",
    "    print(\"\\\"Africa\\\" by Toto\")\n",
    "else :\n",
    "    print(\"I bless the rains down in Africa\")\n",
    "print(x)"
   ]
  },
  {
   "cell_type": "markdown",
   "id": "bcd27bb9",
   "metadata": {},
   "source": [
    "#### 5. What prints?"
   ]
  },
  {
   "cell_type": "code",
   "execution_count": null,
   "id": "a110aae7",
   "metadata": {},
   "outputs": [],
   "source": [
    "x = \"10\"\n",
    "if (int(x) == 10):\n",
    "    print(\"I hear the drums echoing tonight\")\n",
    "    x = 21\n",
    "elif (x%3 == 0):\n",
    "    print(\"\\\"Africa\\\" by Toto\")\n",
    "else :\n",
    "    print(\"I bless the rains down in Africa\")\n",
    "print(x)"
   ]
  },
  {
   "cell_type": "markdown",
   "id": "20cd7b1e",
   "metadata": {},
   "source": [
    "#### 6. What prints?"
   ]
  },
  {
   "cell_type": "code",
   "execution_count": null,
   "id": "adc5effe",
   "metadata": {},
   "outputs": [],
   "source": [
    "x = \"10\"\n",
    "if (int(x) == 10):\n",
    "    print(\"I hear the drums echoing tonight\")\n",
    "    x = 21\n",
    "if (x%3 == 0):\n",
    "    print(\"\\\"Africa\\\" by Toto\")\n",
    "else :\n",
    "    print(\"I bless the rains down in Africa\")\n",
    "print(x)"
   ]
  },
  {
   "cell_type": "markdown",
   "id": "fc7594f0",
   "metadata": {},
   "source": [
    "#### 7. What prints?"
   ]
  },
  {
   "cell_type": "code",
   "execution_count": null,
   "id": "2618a797",
   "metadata": {},
   "outputs": [],
   "source": [
    "true = 1+1 < 2\n",
    "if(true):\n",
    "    print(\"Is this the right answer?\")\n",
    "elif(not not true):\n",
    "    print(\"Or maybe it’s this one...\")\n",
    "elif(true**0):\n",
    "    print(\"Are you confused yet?\")\n",
    "else :\n",
    "    print(\"true\")"
   ]
  },
  {
   "cell_type": "markdown",
   "id": "fa7da518",
   "metadata": {},
   "source": [
    "#### 8. Are the following 2 segments of code equivalent? If so, which is a better way to write it?"
   ]
  },
  {
   "cell_type": "code",
   "execution_count": null,
   "id": "a501215e",
   "metadata": {},
   "outputs": [],
   "source": [
    "x = ...\n",
    "if ((x%2 == 0) == True):\n",
    "    print(\"x is even\")"
   ]
  },
  {
   "cell_type": "code",
   "execution_count": null,
   "id": "97644cd3",
   "metadata": {},
   "outputs": [],
   "source": [
    "x = ...\n",
    "if (x%2 == 0):\n",
    "    print(\"x is even\")"
   ]
  },
  {
   "cell_type": "markdown",
   "id": "fa3bbf0f",
   "metadata": {},
   "source": [
    "#### 9. Write a code to check whether z is a *positive integer*. The code should print \"True\" if it is and \"False\" if it isn't."
   ]
  },
  {
   "cell_type": "code",
   "execution_count": null,
   "id": "117cc0d5",
   "metadata": {},
   "outputs": [],
   "source": [
    "z = ...\n",
    "\n",
    "#\n",
    "# Your code goes here\n",
    "#"
   ]
  },
  {
   "cell_type": "markdown",
   "id": "f15dee33",
   "metadata": {},
   "source": [
    "#### 10. Write a code to check whether n is of type *string*. The code should print \"True\" if it is and \"False\" otherwise."
   ]
  },
  {
   "cell_type": "code",
   "execution_count": null,
   "id": "44fb9544",
   "metadata": {},
   "outputs": [],
   "source": [
    "n = ...\n",
    "\n",
    "#\n",
    "# Your code goes here\n",
    "#"
   ]
  },
  {
   "cell_type": "markdown",
   "id": "3cd1b9e7",
   "metadata": {},
   "source": [
    "#### 11. Write a code to check whether t is divisible by s. The code should output \"True\" if it is and \"False\" if it isn't"
   ]
  },
  {
   "cell_type": "code",
   "execution_count": null,
   "id": "d9ebbd0e",
   "metadata": {},
   "outputs": [],
   "source": [
    "t = ...\n",
    "s = ...\n",
    "\n",
    "#\n",
    "# Your code goes here\n",
    "#"
   ]
  },
  {
   "cell_type": "markdown",
   "id": "551a21ff",
   "metadata": {},
   "source": [
    "#### 12. Write a code to check whether t is divisible by s and u. The code should output \"True\" if it is and \"False\" if it isn't"
   ]
  },
  {
   "cell_type": "code",
   "execution_count": null,
   "id": "0ed79d72",
   "metadata": {},
   "outputs": [],
   "source": [
    "t = ...\n",
    "s = ...\n",
    "u = ...\n",
    "\n",
    "#\n",
    "# Your code goes here\n",
    "#"
   ]
  },
  {
   "cell_type": "code",
   "execution_count": null,
   "id": "2fcd27e2",
   "metadata": {},
   "outputs": [],
   "source": []
  }
 ],
 "metadata": {
  "kernelspec": {
   "display_name": "Python 3 (ipykernel)",
   "language": "python",
   "name": "python3"
  },
  "language_info": {
   "codemirror_mode": {
    "name": "ipython",
    "version": 3
   },
   "file_extension": ".py",
   "mimetype": "text/x-python",
   "name": "python",
   "nbconvert_exporter": "python",
   "pygments_lexer": "ipython3",
   "version": "3.10.5"
  }
 },
 "nbformat": 4,
 "nbformat_minor": 5
}
