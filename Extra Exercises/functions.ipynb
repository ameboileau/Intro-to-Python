{
 "cells": [
  {
   "cell_type": "code",
   "execution_count": null,
   "id": "6d2a426b",
   "metadata": {},
   "outputs": [],
   "source": [
    "# Import list...\n",
    "\n",
    "import numpy as np"
   ]
  },
  {
   "cell_type": "markdown",
   "id": "834b2ebb",
   "metadata": {},
   "source": [
    "# Extra Exercises: Functions"
   ]
  },
  {
   "cell_type": "markdown",
   "id": "2fbb048e",
   "metadata": {},
   "source": [
    "#### 1. is_a_vowel\n",
    "\n",
    "Initialize a \"vowels\" string object containing all the vowels of the alphabet. Then, write a function that checks whether the input is a vowel. Your function should return \"True\" if the input is a vowel, and \"False\" otherwise."
   ]
  },
  {
   "cell_type": "code",
   "execution_count": null,
   "id": "f24de8b0",
   "metadata": {},
   "outputs": [],
   "source": [
    "vowels = ...\n",
    "\n",
    "def is_a_vowel(c):\n",
    "    \"\"\"\n",
    "    Function description goes here\n",
    "    \"\"\"\n",
    "    \n",
    "    #\n",
    "    # Your code goes here\n",
    "    #\n",
    "    \n",
    "# Test your code here"
   ]
  },
  {
   "cell_type": "markdown",
   "id": "ab929270",
   "metadata": {},
   "source": [
    "#### 2. count_vowels\n",
    "\n",
    "Write a function that takes a string as input and returns the number of vowels it contains."
   ]
  },
  {
   "cell_type": "code",
   "execution_count": null,
   "id": "adf67484",
   "metadata": {},
   "outputs": [],
   "source": [
    "def count_vowels(s):\n",
    "    \"\"\"\n",
    "    Function description goes here\n",
    "    \"\"\"\n",
    "    \n",
    "    #\n",
    "    # Your code goes here\n",
    "    #\n",
    "\n",
    "# Test your code here"
   ]
  },
  {
   "cell_type": "markdown",
   "id": "2211f954",
   "metadata": {},
   "source": [
    "#### 3. count_occurences\n",
    "\n",
    "Write a function that takes as input a string $s$ and a character $c$. The function should return how many times $c$ appears in $s$."
   ]
  },
  {
   "cell_type": "code",
   "execution_count": null,
   "id": "ba69f019",
   "metadata": {},
   "outputs": [],
   "source": [
    "def count_occurences(s, c):\n",
    "    \"\"\"\n",
    "    Function description goes here\n",
    "    \"\"\"\n",
    "    \n",
    "    #\n",
    "    # Your code goes here\n",
    "    #\n",
    "    \n",
    "# Test your function here"
   ]
  },
  {
   "cell_type": "markdown",
   "id": "fa0e8cd5",
   "metadata": {},
   "source": [
    "#### 4. print_multiples\n",
    "\n",
    "Write a function that takes as input integers $n$ and $m$ and prints out $m$ multiples of $n$, starting from $n$. For example, print_multiples(n=5, m=4) should print the following:\n",
    "\n",
    "5\\\n",
    "10\\\n",
    "15\\\n",
    "20"
   ]
  },
  {
   "cell_type": "code",
   "execution_count": null,
   "id": "0a04706a",
   "metadata": {},
   "outputs": [],
   "source": [
    "#\n",
    "# Your code goes here\n",
    "#"
   ]
  },
  {
   "cell_type": "markdown",
   "id": "1cd87b91",
   "metadata": {},
   "source": [
    "#### 5. print_mult_table\n",
    "\n",
    "Write a function that takes as input $rows$ and $columns$ and prints out a multiplication table with the required number of rows and columns. For example, print_mult_table(rows=3, columns=3) should print:\n",
    "\n",
    "1  2  3\n",
    "\n",
    "2  4  6\n",
    "\n",
    "3  6  9\n",
    "\n",
    "(Hint: use the function you wrote in exercise 4)"
   ]
  },
  {
   "cell_type": "code",
   "execution_count": null,
   "id": "0b07e2f8",
   "metadata": {},
   "outputs": [],
   "source": [
    "#\n",
    "# Your code goes here\n",
    "#"
   ]
  },
  {
   "cell_type": "markdown",
   "id": "bc664d29",
   "metadata": {},
   "source": [
    "#### 6. increase_by_index\n",
    "\n",
    "Write a function that takes as input a list of integers and increases the value of each element in the list by its index. For example, increase_by_index([1, 2, 3, 4, 5]) should return:\n",
    "\n",
    "[1, 3, 5, 7, 9]"
   ]
  },
  {
   "cell_type": "code",
   "execution_count": null,
   "id": "72b7af52",
   "metadata": {},
   "outputs": [],
   "source": [
    "#\n",
    "# Your code goes here\n",
    "#"
   ]
  },
  {
   "cell_type": "markdown",
   "id": "1f42168b",
   "metadata": {},
   "source": [
    "#### 7. get_smallest\n",
    "\n",
    "Write a function that takes as input a list of integers and returns the smallest one. For example, get_smallest([5, 0, -3, 1, 9]) should return:\n",
    "\n",
    "-3"
   ]
  },
  {
   "cell_type": "code",
   "execution_count": null,
   "id": "3017d10f",
   "metadata": {},
   "outputs": [],
   "source": [
    "#\n",
    "# Your code goes here\n",
    "#"
   ]
  },
  {
   "cell_type": "markdown",
   "id": "9baa0e05",
   "metadata": {},
   "source": [
    "#### 8. get_random_list\n",
    "\n",
    "Write a function that takes as input an integer $n$ and returns a list (or an array) containing $n$ random numbers between 0 and 1. For example, get_random_list(5) might return:\n",
    "\n",
    "[0.345345, 0.124044, 0.343985, 0.998534, 0.2353458]\n",
    "\n",
    "(Hint: Use the function $\\texttt{numpy.random.random()}$)"
   ]
  },
  {
   "cell_type": "code",
   "execution_count": null,
   "id": "7560d591",
   "metadata": {},
   "outputs": [],
   "source": [
    "#\n",
    "# Your code goes here\n",
    "#"
   ]
  },
  {
   "cell_type": "markdown",
   "id": "96590cb0",
   "metadata": {},
   "source": [
    "#### 9. swap_elements\n",
    "\n",
    "Write a function that takes as input a list and two integers $i$ and $j$. The function should swap the elements at the $i$th and $j$th index. For example, swap_elements([5, 6, 7, 8], 0, 2) should return:\n",
    "\n",
    "[7, 6, 5, 8]"
   ]
  },
  {
   "cell_type": "code",
   "execution_count": null,
   "id": "81a8bd22",
   "metadata": {},
   "outputs": [],
   "source": [
    "#\n",
    "# Your code goes here\n",
    "#"
   ]
  },
  {
   "cell_type": "markdown",
   "id": "62dc090c",
   "metadata": {},
   "source": [
    "#### 10. shift_left\n",
    "\n",
    "Write a function that takes as input a list and shifts each element one to the left. For example, shift_left([1, 2, 3, 4]) should return:\n",
    "\n",
    "[2, 3, 4, 1]"
   ]
  },
  {
   "cell_type": "code",
   "execution_count": null,
   "id": "5312a5c8",
   "metadata": {},
   "outputs": [],
   "source": [
    "#\n",
    "# Your code goes here\n",
    "#"
   ]
  },
  {
   "cell_type": "markdown",
   "id": "e95f478f",
   "metadata": {},
   "source": [
    "#### 11. print_2d_list\n",
    "\n",
    "Write a function that takes as input a list of lists and prints out each sub-element, one at a time. For example, print_2d_list([[1,2],[3,4]]) should print:\n",
    "\n",
    "1\\\n",
    "2\\\n",
    "3\\\n",
    "4"
   ]
  },
  {
   "cell_type": "code",
   "execution_count": null,
   "id": "c061508f",
   "metadata": {},
   "outputs": [],
   "source": [
    "#\n",
    "# Your code goes here\n",
    "#"
   ]
  },
  {
   "cell_type": "markdown",
   "id": "8a290375",
   "metadata": {},
   "source": [
    "#### 12. What does this function do?"
   ]
  },
  {
   "cell_type": "code",
   "execution_count": null,
   "id": "becda1ee",
   "metadata": {},
   "outputs": [],
   "source": [
    "def mystery_function(x):\n",
    "    s = x/2\n",
    "    t = s+2\n",
    "    u = s*10\n",
    "    return u\n",
    "\n",
    "mystery_function(10)"
   ]
  },
  {
   "cell_type": "markdown",
   "id": "e8ca6ef9",
   "metadata": {},
   "source": [
    "#### 13. What does this function do?"
   ]
  },
  {
   "cell_type": "code",
   "execution_count": null,
   "id": "a480c825",
   "metadata": {},
   "outputs": [],
   "source": [
    "def mystery_function2(x, n):\n",
    "    s = x**n / n\n",
    "    return s\n",
    "\n",
    "mystery_function2(4, 5)"
   ]
  },
  {
   "cell_type": "markdown",
   "id": "3143b3b3",
   "metadata": {},
   "source": [
    "#### 14. What does this function do?"
   ]
  },
  {
   "cell_type": "code",
   "execution_count": null,
   "id": "27f6ff5a",
   "metadata": {},
   "outputs": [],
   "source": [
    "def mystery_function3(l, n):\n",
    "    s = []\n",
    "    for i in l:\n",
    "        s.append(i*n)\n",
    "    return s\n",
    "\n",
    "mystery_function3([1, 2, 3, 4, 5], 5)"
   ]
  },
  {
   "cell_type": "markdown",
   "id": "1eb72758",
   "metadata": {},
   "source": [
    "#### 15. What does this function do?"
   ]
  },
  {
   "cell_type": "code",
   "execution_count": null,
   "id": "0d71f968",
   "metadata": {},
   "outputs": [],
   "source": [
    "def mystery_function4(s):\n",
    "    n = \"\"\n",
    "    for i in range(1, len(s)+1):\n",
    "        n += s[-i]\n",
    "    return n\n",
    "\n",
    "mystery_function4(\"Hello World\")"
   ]
  },
  {
   "cell_type": "markdown",
   "id": "98c97558",
   "metadata": {},
   "source": [
    "#### 16. What does this function do?"
   ]
  },
  {
   "cell_type": "code",
   "execution_count": null,
   "id": "f6c7bebb",
   "metadata": {},
   "outputs": [],
   "source": [
    "def mystery_function5(l):\n",
    "    s = \"\"\n",
    "    for i in l:\n",
    "        s += i\n",
    "        s += \" \"\n",
    "    return s\n",
    "\n",
    "mystery_function5([\"Hello\", \"World\", \"here\", \"I\", \"am\"])"
   ]
  },
  {
   "cell_type": "markdown",
   "id": "f56c3ed3",
   "metadata": {},
   "source": [
    "#### 17. What does this function do?"
   ]
  },
  {
   "cell_type": "code",
   "execution_count": null,
   "id": "77f9c3c8",
   "metadata": {},
   "outputs": [],
   "source": [
    "def mystery_function6(s, delim):\n",
    "    return s.split(delim)\n",
    "\n",
    "print(mystery_function6(\"My favourite meal is sushi\", delim=\" \"))\n",
    "print(mystery_function6(\"I live at 123, Fake Street, FP, Fake Country, H7D H8L\", delim=\",\"))"
   ]
  },
  {
   "cell_type": "markdown",
   "id": "5cf1a036",
   "metadata": {},
   "source": [
    "#### 18. What does this function do?"
   ]
  },
  {
   "cell_type": "code",
   "execution_count": null,
   "id": "c8cd9077",
   "metadata": {},
   "outputs": [],
   "source": [
    "def mystery_function7(l):\n",
    "    n = []\n",
    "    for i in l:\n",
    "        for j in i:\n",
    "            n.append(j)\n",
    "    return n\n",
    "\n",
    "mystery_function7([[1,2,3],[4,5],[6,7,8]])"
   ]
  },
  {
   "cell_type": "code",
   "execution_count": null,
   "id": "b9183679",
   "metadata": {},
   "outputs": [],
   "source": []
  }
 ],
 "metadata": {
  "kernelspec": {
   "display_name": "Python 3 (ipykernel)",
   "language": "python",
   "name": "python3"
  },
  "language_info": {
   "codemirror_mode": {
    "name": "ipython",
    "version": 3
   },
   "file_extension": ".py",
   "mimetype": "text/x-python",
   "name": "python",
   "nbconvert_exporter": "python",
   "pygments_lexer": "ipython3",
   "version": "3.10.5"
  }
 },
 "nbformat": 4,
 "nbformat_minor": 5
}
